{
 "cells": [
  {
   "cell_type": "code",
   "execution_count": 1,
   "id": "7aa7e83f",
   "metadata": {},
   "outputs": [],
   "source": [
    "import pandas as pd\n",
    "import numpy as np\n",
    "import pandas as pd\n",
    "from pathlib import Path\n",
    "from sklearn.preprocessing import StandardScaler\n",
    "import matplotlib.pyplot as plt\n",
    "from string import ascii_letters\n",
    "import numpy as np\n",
    "import pandas as pd\n",
    "import seaborn as sns\n",
    "#!pip install imbalanced-learn\n",
    "#!pip3 install -U imbalanced-learn\n",
    "from imblearn.over_sampling import SMOTE\n",
    "import imblearn"
   ]
  },
  {
   "cell_type": "code",
   "execution_count": 117,
   "id": "e7cd7896",
   "metadata": {},
   "outputs": [],
   "source": [
    "loan_df = pd.read_csv(\"Resources/accepted2.csv\")"
   ]
  },
  {
   "cell_type": "code",
   "execution_count": 118,
   "id": "bc448754",
   "metadata": {},
   "outputs": [],
   "source": [
    "loan_df1 = loan_df.drop([\"mths_since_last_delinq\",\"mths_since_last_record\",\"dti_joint\",\"annual_inc_joint\",\"zip_code\",\"addr_state\",\"title\"], axis=1)\n",
    "\n"
   ]
  },
  {
   "cell_type": "code",
   "execution_count": 119,
   "id": "e669a440",
   "metadata": {},
   "outputs": [],
   "source": [
    "loan_df2 = loan_df1.dropna()\n"
   ]
  },
  {
   "cell_type": "code",
   "execution_count": 288,
   "id": "c9b07e77",
   "metadata": {},
   "outputs": [],
   "source": [
    "loan_df3 = loan_df2[[\"recoveries\",\"total_rec_late_fee\",\"total_rec_prncp\",\"delinq_2yrs\",\"fico_range_high\",\"loan_status\",\"total_pymnt\"]]\n",
    "\n",
    "\n"
   ]
  },
  {
   "cell_type": "code",
   "execution_count": 289,
   "id": "fc0507fc",
   "metadata": {},
   "outputs": [
    {
     "data": {
      "text/plain": [
       "Fully Paid            39297\n",
       "Current               29528\n",
       "Charged Off            9788\n",
       "Late (31-120 days)      702\n",
       "In Grace Period         290\n",
       "Late (16-30 days)       136\n",
       "Default                   1\n",
       "Name: loan_status, dtype: int64"
      ]
     },
     "execution_count": 289,
     "metadata": {},
     "output_type": "execute_result"
    }
   ],
   "source": [
    "loan_df3[\"loan_status\"].value_counts()"
   ]
  },
  {
   "cell_type": "code",
   "execution_count": 290,
   "id": "b12a6ed7",
   "metadata": {},
   "outputs": [],
   "source": [
    "loan_df4 = loan_df3.apply(lambda x: x.mask(x.map(x.value_counts())<= 9788, 'Late') if x.name=='loan_status' else x)\n",
    "\n",
    "loan_df5 = loan_df4.apply(lambda x: x.mask(x.map(x.value_counts())>= 29528, 'Fully Paid') if x.name=='loan_status' else x)\n"
   ]
  },
  {
   "cell_type": "code",
   "execution_count": 291,
   "id": "7d5c3d6a",
   "metadata": {},
   "outputs": [
    {
     "name": "stdout",
     "output_type": "stream",
     "text": [
      "<class 'pandas.core.frame.DataFrame'>\n",
      "Int64Index: 79742 entries, 0 to 106996\n",
      "Data columns (total 7 columns):\n",
      " #   Column              Non-Null Count  Dtype  \n",
      "---  ------              --------------  -----  \n",
      " 0   recoveries          79742 non-null  float64\n",
      " 1   total_rec_late_fee  79742 non-null  float64\n",
      " 2   total_rec_prncp     79742 non-null  float64\n",
      " 3   delinq_2yrs         79742 non-null  float64\n",
      " 4   fico_range_high     79742 non-null  int64  \n",
      " 5   loan_status         79742 non-null  object \n",
      " 6   total_pymnt         79742 non-null  float64\n",
      "dtypes: float64(5), int64(1), object(1)\n",
      "memory usage: 4.9+ MB\n"
     ]
    }
   ],
   "source": [
    "loan_df5.info()"
   ]
  },
  {
   "cell_type": "code",
   "execution_count": 306,
   "id": "255d3959",
   "metadata": {
    "scrolled": true
   },
   "outputs": [],
   "source": [
    "dummies_df = pd.get_dummies(loan_df5)\n",
    "\n",
    "dummies_df.to_csv(\"status_predictor.csv\")"
   ]
  },
  {
   "cell_type": "markdown",
   "id": "916c332a",
   "metadata": {},
   "source": [
    "# Logistic Regression"
   ]
  },
  {
   "cell_type": "code",
   "execution_count": 293,
   "id": "a97dbd47",
   "metadata": {},
   "outputs": [],
   "source": [
    "from sklearn.model_selection import train_test_split\n",
    "# X = train_df\n",
    "X = dummies_df.drop([\"loan_status_Fully Paid\",\"loan_status_Late\"], axis=1)\n",
    "\n",
    "y = dummies_df[\"loan_status_Fully Paid\"]\n",
    "\n",
    "oversample = SMOTE()\n",
    "\n",
    "X, y = oversample.fit_resample(X, y)\n",
    "\n",
    "X_train, X_test, y_train, y_test = train_test_split(X, y, random_state=42)\n"
   ]
  },
  {
   "cell_type": "code",
   "execution_count": 294,
   "id": "381e9de1",
   "metadata": {},
   "outputs": [],
   "source": [
    "scaler = StandardScaler().fit(X_train)\n",
    "X_train_scaled = scaler.transform(X_train)\n",
    "X_test_scaled = scaler.transform(X_test)\n"
   ]
  },
  {
   "cell_type": "code",
   "execution_count": 295,
   "id": "9838119e",
   "metadata": {},
   "outputs": [
    {
     "name": "stdout",
     "output_type": "stream",
     "text": [
      "Training Score: 0.8400282844329068\n",
      "Testing Score: 0.8435474965855927\n"
     ]
    }
   ],
   "source": [
    "from sklearn.linear_model import LogisticRegression\n",
    "\n",
    "classifier = LogisticRegression()\n",
    "classifier\n",
    "\n",
    "classifier.fit(X_train_scaled, y_train)\n",
    "\n",
    "#logistic regression\n",
    "print(f'Training Score: {classifier.score(X_train_scaled, y_train)}')\n",
    "print(f'Testing Score: {classifier.score(X_test_scaled, y_test)}')"
   ]
  },
  {
   "cell_type": "code",
   "execution_count": 296,
   "id": "83a3d72e",
   "metadata": {},
   "outputs": [
    {
     "name": "stderr",
     "output_type": "stream",
     "text": [
      "/Users/andrealynnbaker/opt/anaconda3/lib/python3.9/site-packages/sklearn/base.py:443: UserWarning: X has feature names, but LogisticRegression was fitted without feature names\n",
      "  warnings.warn(\n"
     ]
    },
    {
     "data": {
      "text/plain": [
       "array([[14202,  2848],\n",
       "       [ 3431, 13932]])"
      ]
     },
     "execution_count": 296,
     "metadata": {},
     "output_type": "execute_result"
    }
   ],
   "source": [
    "from sklearn.metrics import classification_report\n",
    "from sklearn.metrics import confusion_matrix\n",
    "\n",
    "\n",
    "y_true = y_test\n",
    "\n",
    "y_pred = classifier.predict(X_test)\n",
    "\n",
    "confusion_matrix(y_true, y_pred)\n",
    "\n",
    "confusion_matrix(y_test, y_pred)"
   ]
  },
  {
   "cell_type": "code",
   "execution_count": 297,
   "id": "40b3e593",
   "metadata": {},
   "outputs": [
    {
     "data": {
      "text/plain": [
       "0.817678888079499"
      ]
     },
     "execution_count": 297,
     "metadata": {},
     "output_type": "execute_result"
    }
   ],
   "source": [
    "from sklearn.metrics import balanced_accuracy_score\n",
    "balanced_accuracy_score(y_true, y_pred)\n"
   ]
  },
  {
   "cell_type": "code",
   "execution_count": 298,
   "id": "192e54fe",
   "metadata": {},
   "outputs": [
    {
     "name": "stdout",
     "output_type": "stream",
     "text": [
      "              precision    recall  f1-score   support\n",
      "\n",
      "        Late       0.81      0.83      0.82     17050\n",
      "  Fully Paid       0.83      0.80      0.82     17363\n",
      "\n",
      "    accuracy                           0.82     34413\n",
      "   macro avg       0.82      0.82      0.82     34413\n",
      "weighted avg       0.82      0.82      0.82     34413\n",
      "\n"
     ]
    }
   ],
   "source": [
    "from sklearn.metrics import classification_report\n",
    "\n",
    "print(classification_report(y_true, y_pred, target_names=[\"Late\",\"Fully Paid\"]))"
   ]
  },
  {
   "cell_type": "code",
   "execution_count": 299,
   "id": "ea10ec5b",
   "metadata": {},
   "outputs": [],
   "source": [
    "from sklearn.neighbors import KNeighborsClassifier\n",
    "model = KNeighborsClassifier()"
   ]
  },
  {
   "cell_type": "code",
   "execution_count": 300,
   "id": "e494fc2e",
   "metadata": {},
   "outputs": [],
   "source": [
    "from sklearn.model_selection import GridSearchCV\n",
    "param_grid = {\n",
    "    'n_neighbors': [1, 3, 5, 7, 9, 11, 13, 15, 17, 19],\n",
    "    'weights': ['uniform', 'distance'],\n",
    "    'leaf_size': [10, 50, 100, 500]\n",
    "}\n",
    "grid_clf = GridSearchCV(model, param_grid, verbose=3)"
   ]
  },
  {
   "cell_type": "code",
   "execution_count": 301,
   "id": "27485a18",
   "metadata": {},
   "outputs": [
    {
     "name": "stdout",
     "output_type": "stream",
     "text": [
      "Fitting 5 folds for each of 80 candidates, totalling 400 fits\n",
      "[CV 1/5] END leaf_size=10, n_neighbors=1, weights=uniform;, score=0.908 total time=   0.8s\n",
      "[CV 2/5] END leaf_size=10, n_neighbors=1, weights=uniform;, score=0.907 total time=   0.7s\n",
      "[CV 3/5] END leaf_size=10, n_neighbors=1, weights=uniform;, score=0.910 total time=   0.8s\n",
      "[CV 4/5] END leaf_size=10, n_neighbors=1, weights=uniform;, score=0.914 total time=   0.8s\n",
      "[CV 5/5] END leaf_size=10, n_neighbors=1, weights=uniform;, score=0.913 total time=   0.9s\n",
      "[CV 1/5] END leaf_size=10, n_neighbors=1, weights=distance;, score=0.908 total time=   0.2s\n",
      "[CV 2/5] END leaf_size=10, n_neighbors=1, weights=distance;, score=0.907 total time=   0.2s\n",
      "[CV 3/5] END leaf_size=10, n_neighbors=1, weights=distance;, score=0.910 total time=   0.2s\n",
      "[CV 4/5] END leaf_size=10, n_neighbors=1, weights=distance;, score=0.914 total time=   0.2s\n",
      "[CV 5/5] END leaf_size=10, n_neighbors=1, weights=distance;, score=0.913 total time=   0.2s\n",
      "[CV 1/5] END leaf_size=10, n_neighbors=3, weights=uniform;, score=0.897 total time=   0.8s\n",
      "[CV 2/5] END leaf_size=10, n_neighbors=3, weights=uniform;, score=0.895 total time=   0.7s\n",
      "[CV 3/5] END leaf_size=10, n_neighbors=3, weights=uniform;, score=0.897 total time=   0.8s\n",
      "[CV 4/5] END leaf_size=10, n_neighbors=3, weights=uniform;, score=0.900 total time=   0.8s\n",
      "[CV 5/5] END leaf_size=10, n_neighbors=3, weights=uniform;, score=0.897 total time=   0.8s\n",
      "[CV 1/5] END leaf_size=10, n_neighbors=3, weights=distance;, score=0.905 total time=   0.2s\n",
      "[CV 2/5] END leaf_size=10, n_neighbors=3, weights=distance;, score=0.903 total time=   0.2s\n",
      "[CV 3/5] END leaf_size=10, n_neighbors=3, weights=distance;, score=0.904 total time=   0.2s\n",
      "[CV 4/5] END leaf_size=10, n_neighbors=3, weights=distance;, score=0.910 total time=   0.3s\n",
      "[CV 5/5] END leaf_size=10, n_neighbors=3, weights=distance;, score=0.907 total time=   0.3s\n",
      "[CV 1/5] END leaf_size=10, n_neighbors=5, weights=uniform;, score=0.887 total time=   1.0s\n",
      "[CV 2/5] END leaf_size=10, n_neighbors=5, weights=uniform;, score=0.887 total time=   0.8s\n",
      "[CV 3/5] END leaf_size=10, n_neighbors=5, weights=uniform;, score=0.886 total time=   0.8s\n",
      "[CV 4/5] END leaf_size=10, n_neighbors=5, weights=uniform;, score=0.891 total time=   0.8s\n",
      "[CV 5/5] END leaf_size=10, n_neighbors=5, weights=uniform;, score=0.889 total time=   0.8s\n",
      "[CV 1/5] END leaf_size=10, n_neighbors=5, weights=distance;, score=0.902 total time=   0.2s\n",
      "[CV 2/5] END leaf_size=10, n_neighbors=5, weights=distance;, score=0.902 total time=   0.3s\n",
      "[CV 3/5] END leaf_size=10, n_neighbors=5, weights=distance;, score=0.901 total time=   0.3s\n",
      "[CV 4/5] END leaf_size=10, n_neighbors=5, weights=distance;, score=0.906 total time=   0.3s\n",
      "[CV 5/5] END leaf_size=10, n_neighbors=5, weights=distance;, score=0.905 total time=   0.3s\n",
      "[CV 1/5] END leaf_size=10, n_neighbors=7, weights=uniform;, score=0.882 total time=   0.8s\n",
      "[CV 2/5] END leaf_size=10, n_neighbors=7, weights=uniform;, score=0.878 total time=   0.9s\n",
      "[CV 3/5] END leaf_size=10, n_neighbors=7, weights=uniform;, score=0.878 total time=   1.0s\n",
      "[CV 4/5] END leaf_size=10, n_neighbors=7, weights=uniform;, score=0.883 total time=   1.0s\n",
      "[CV 5/5] END leaf_size=10, n_neighbors=7, weights=uniform;, score=0.882 total time=   1.0s\n",
      "[CV 1/5] END leaf_size=10, n_neighbors=7, weights=distance;, score=0.900 total time=   0.3s\n",
      "[CV 2/5] END leaf_size=10, n_neighbors=7, weights=distance;, score=0.898 total time=   0.3s\n",
      "[CV 3/5] END leaf_size=10, n_neighbors=7, weights=distance;, score=0.897 total time=   0.3s\n",
      "[CV 4/5] END leaf_size=10, n_neighbors=7, weights=distance;, score=0.903 total time=   0.3s\n",
      "[CV 5/5] END leaf_size=10, n_neighbors=7, weights=distance;, score=0.903 total time=   0.3s\n",
      "[CV 1/5] END leaf_size=10, n_neighbors=9, weights=uniform;, score=0.877 total time=   0.9s\n",
      "[CV 2/5] END leaf_size=10, n_neighbors=9, weights=uniform;, score=0.874 total time=   0.9s\n",
      "[CV 3/5] END leaf_size=10, n_neighbors=9, weights=uniform;, score=0.873 total time=   0.9s\n",
      "[CV 4/5] END leaf_size=10, n_neighbors=9, weights=uniform;, score=0.879 total time=   0.8s\n",
      "[CV 5/5] END leaf_size=10, n_neighbors=9, weights=uniform;, score=0.878 total time=   0.8s\n",
      "[CV 1/5] END leaf_size=10, n_neighbors=9, weights=distance;, score=0.898 total time=   0.3s\n",
      "[CV 2/5] END leaf_size=10, n_neighbors=9, weights=distance;, score=0.897 total time=   0.3s\n",
      "[CV 3/5] END leaf_size=10, n_neighbors=9, weights=distance;, score=0.896 total time=   0.3s\n",
      "[CV 4/5] END leaf_size=10, n_neighbors=9, weights=distance;, score=0.901 total time=   0.3s\n",
      "[CV 5/5] END leaf_size=10, n_neighbors=9, weights=distance;, score=0.901 total time=   0.3s\n",
      "[CV 1/5] END leaf_size=10, n_neighbors=11, weights=uniform;, score=0.873 total time=   0.9s\n",
      "[CV 2/5] END leaf_size=10, n_neighbors=11, weights=uniform;, score=0.870 total time=   0.8s\n",
      "[CV 3/5] END leaf_size=10, n_neighbors=11, weights=uniform;, score=0.870 total time=   0.8s\n",
      "[CV 4/5] END leaf_size=10, n_neighbors=11, weights=uniform;, score=0.876 total time=   0.8s\n",
      "[CV 5/5] END leaf_size=10, n_neighbors=11, weights=uniform;, score=0.874 total time=   0.8s\n",
      "[CV 1/5] END leaf_size=10, n_neighbors=11, weights=distance;, score=0.895 total time=   0.3s\n",
      "[CV 2/5] END leaf_size=10, n_neighbors=11, weights=distance;, score=0.895 total time=   0.3s\n",
      "[CV 3/5] END leaf_size=10, n_neighbors=11, weights=distance;, score=0.894 total time=   0.3s\n",
      "[CV 4/5] END leaf_size=10, n_neighbors=11, weights=distance;, score=0.900 total time=   0.3s\n",
      "[CV 5/5] END leaf_size=10, n_neighbors=11, weights=distance;, score=0.898 total time=   0.3s\n",
      "[CV 1/5] END leaf_size=10, n_neighbors=13, weights=uniform;, score=0.869 total time=   0.9s\n",
      "[CV 2/5] END leaf_size=10, n_neighbors=13, weights=uniform;, score=0.867 total time=   0.9s\n",
      "[CV 3/5] END leaf_size=10, n_neighbors=13, weights=uniform;, score=0.869 total time=   0.9s\n",
      "[CV 4/5] END leaf_size=10, n_neighbors=13, weights=uniform;, score=0.872 total time=   0.8s\n",
      "[CV 5/5] END leaf_size=10, n_neighbors=13, weights=uniform;, score=0.870 total time=   0.9s\n",
      "[CV 1/5] END leaf_size=10, n_neighbors=13, weights=distance;, score=0.895 total time=   0.3s\n",
      "[CV 2/5] END leaf_size=10, n_neighbors=13, weights=distance;, score=0.893 total time=   0.4s\n",
      "[CV 3/5] END leaf_size=10, n_neighbors=13, weights=distance;, score=0.893 total time=   0.4s\n",
      "[CV 4/5] END leaf_size=10, n_neighbors=13, weights=distance;, score=0.898 total time=   0.3s\n",
      "[CV 5/5] END leaf_size=10, n_neighbors=13, weights=distance;, score=0.896 total time=   0.3s\n",
      "[CV 1/5] END leaf_size=10, n_neighbors=15, weights=uniform;, score=0.867 total time=   0.9s\n",
      "[CV 2/5] END leaf_size=10, n_neighbors=15, weights=uniform;, score=0.865 total time=   1.0s\n",
      "[CV 3/5] END leaf_size=10, n_neighbors=15, weights=uniform;, score=0.867 total time=   1.0s\n",
      "[CV 4/5] END leaf_size=10, n_neighbors=15, weights=uniform;, score=0.869 total time=   0.9s\n",
      "[CV 5/5] END leaf_size=10, n_neighbors=15, weights=uniform;, score=0.867 total time=   1.1s\n",
      "[CV 1/5] END leaf_size=10, n_neighbors=15, weights=distance;, score=0.894 total time=   0.4s\n",
      "[CV 2/5] END leaf_size=10, n_neighbors=15, weights=distance;, score=0.893 total time=   0.4s\n",
      "[CV 3/5] END leaf_size=10, n_neighbors=15, weights=distance;, score=0.892 total time=   0.5s\n",
      "[CV 4/5] END leaf_size=10, n_neighbors=15, weights=distance;, score=0.897 total time=   0.4s\n",
      "[CV 5/5] END leaf_size=10, n_neighbors=15, weights=distance;, score=0.895 total time=   0.4s\n",
      "[CV 1/5] END leaf_size=10, n_neighbors=17, weights=uniform;, score=0.864 total time=   1.2s\n",
      "[CV 2/5] END leaf_size=10, n_neighbors=17, weights=uniform;, score=0.861 total time=   1.0s\n",
      "[CV 3/5] END leaf_size=10, n_neighbors=17, weights=uniform;, score=0.864 total time=   0.9s\n",
      "[CV 4/5] END leaf_size=10, n_neighbors=17, weights=uniform;, score=0.868 total time=   1.0s\n",
      "[CV 5/5] END leaf_size=10, n_neighbors=17, weights=uniform;, score=0.865 total time=   1.0s\n",
      "[CV 1/5] END leaf_size=10, n_neighbors=17, weights=distance;, score=0.892 total time=   0.5s\n",
      "[CV 2/5] END leaf_size=10, n_neighbors=17, weights=distance;, score=0.891 total time=   0.4s\n",
      "[CV 3/5] END leaf_size=10, n_neighbors=17, weights=distance;, score=0.890 total time=   0.4s\n",
      "[CV 4/5] END leaf_size=10, n_neighbors=17, weights=distance;, score=0.895 total time=   0.4s\n"
     ]
    },
    {
     "name": "stdout",
     "output_type": "stream",
     "text": [
      "[CV 5/5] END leaf_size=10, n_neighbors=17, weights=distance;, score=0.894 total time=   0.4s\n",
      "[CV 1/5] END leaf_size=10, n_neighbors=19, weights=uniform;, score=0.861 total time=   0.9s\n",
      "[CV 2/5] END leaf_size=10, n_neighbors=19, weights=uniform;, score=0.859 total time=   1.0s\n",
      "[CV 3/5] END leaf_size=10, n_neighbors=19, weights=uniform;, score=0.862 total time=   1.0s\n",
      "[CV 4/5] END leaf_size=10, n_neighbors=19, weights=uniform;, score=0.866 total time=   0.9s\n",
      "[CV 5/5] END leaf_size=10, n_neighbors=19, weights=uniform;, score=0.862 total time=   0.9s\n",
      "[CV 1/5] END leaf_size=10, n_neighbors=19, weights=distance;, score=0.890 total time=   0.4s\n",
      "[CV 2/5] END leaf_size=10, n_neighbors=19, weights=distance;, score=0.890 total time=   0.4s\n",
      "[CV 3/5] END leaf_size=10, n_neighbors=19, weights=distance;, score=0.890 total time=   0.4s\n",
      "[CV 4/5] END leaf_size=10, n_neighbors=19, weights=distance;, score=0.894 total time=   0.4s\n",
      "[CV 5/5] END leaf_size=10, n_neighbors=19, weights=distance;, score=0.893 total time=   0.4s\n",
      "[CV 1/5] END leaf_size=50, n_neighbors=1, weights=uniform;, score=0.908 total time=   0.9s\n",
      "[CV 2/5] END leaf_size=50, n_neighbors=1, weights=uniform;, score=0.907 total time=   0.9s\n",
      "[CV 3/5] END leaf_size=50, n_neighbors=1, weights=uniform;, score=0.910 total time=   0.8s\n",
      "[CV 4/5] END leaf_size=50, n_neighbors=1, weights=uniform;, score=0.914 total time=   0.8s\n",
      "[CV 5/5] END leaf_size=50, n_neighbors=1, weights=uniform;, score=0.913 total time=   1.1s\n",
      "[CV 1/5] END leaf_size=50, n_neighbors=1, weights=distance;, score=0.908 total time=   0.4s\n",
      "[CV 2/5] END leaf_size=50, n_neighbors=1, weights=distance;, score=0.907 total time=   0.3s\n",
      "[CV 3/5] END leaf_size=50, n_neighbors=1, weights=distance;, score=0.910 total time=   0.3s\n",
      "[CV 4/5] END leaf_size=50, n_neighbors=1, weights=distance;, score=0.914 total time=   0.3s\n",
      "[CV 5/5] END leaf_size=50, n_neighbors=1, weights=distance;, score=0.913 total time=   0.2s\n",
      "[CV 1/5] END leaf_size=50, n_neighbors=3, weights=uniform;, score=0.897 total time=   0.9s\n",
      "[CV 2/5] END leaf_size=50, n_neighbors=3, weights=uniform;, score=0.895 total time=   1.1s\n",
      "[CV 3/5] END leaf_size=50, n_neighbors=3, weights=uniform;, score=0.897 total time=   1.0s\n",
      "[CV 4/5] END leaf_size=50, n_neighbors=3, weights=uniform;, score=0.900 total time=   0.9s\n",
      "[CV 5/5] END leaf_size=50, n_neighbors=3, weights=uniform;, score=0.897 total time=   1.0s\n",
      "[CV 1/5] END leaf_size=50, n_neighbors=3, weights=distance;, score=0.905 total time=   0.3s\n",
      "[CV 2/5] END leaf_size=50, n_neighbors=3, weights=distance;, score=0.903 total time=   0.3s\n",
      "[CV 3/5] END leaf_size=50, n_neighbors=3, weights=distance;, score=0.904 total time=   0.4s\n",
      "[CV 4/5] END leaf_size=50, n_neighbors=3, weights=distance;, score=0.910 total time=   0.3s\n",
      "[CV 5/5] END leaf_size=50, n_neighbors=3, weights=distance;, score=0.907 total time=   0.3s\n",
      "[CV 1/5] END leaf_size=50, n_neighbors=5, weights=uniform;, score=0.887 total time=   1.0s\n",
      "[CV 2/5] END leaf_size=50, n_neighbors=5, weights=uniform;, score=0.887 total time=   0.9s\n",
      "[CV 3/5] END leaf_size=50, n_neighbors=5, weights=uniform;, score=0.886 total time=   0.9s\n",
      "[CV 4/5] END leaf_size=50, n_neighbors=5, weights=uniform;, score=0.891 total time=   1.0s\n",
      "[CV 5/5] END leaf_size=50, n_neighbors=5, weights=uniform;, score=0.889 total time=   1.4s\n",
      "[CV 1/5] END leaf_size=50, n_neighbors=5, weights=distance;, score=0.902 total time=   0.3s\n",
      "[CV 2/5] END leaf_size=50, n_neighbors=5, weights=distance;, score=0.902 total time=   0.3s\n",
      "[CV 3/5] END leaf_size=50, n_neighbors=5, weights=distance;, score=0.901 total time=   0.3s\n",
      "[CV 4/5] END leaf_size=50, n_neighbors=5, weights=distance;, score=0.906 total time=   0.3s\n",
      "[CV 5/5] END leaf_size=50, n_neighbors=5, weights=distance;, score=0.905 total time=   0.4s\n",
      "[CV 1/5] END leaf_size=50, n_neighbors=7, weights=uniform;, score=0.882 total time=   0.8s\n",
      "[CV 2/5] END leaf_size=50, n_neighbors=7, weights=uniform;, score=0.878 total time=   1.0s\n",
      "[CV 3/5] END leaf_size=50, n_neighbors=7, weights=uniform;, score=0.878 total time=   1.0s\n",
      "[CV 4/5] END leaf_size=50, n_neighbors=7, weights=uniform;, score=0.883 total time=   0.9s\n",
      "[CV 5/5] END leaf_size=50, n_neighbors=7, weights=uniform;, score=0.882 total time=   0.9s\n",
      "[CV 1/5] END leaf_size=50, n_neighbors=7, weights=distance;, score=0.900 total time=   0.4s\n",
      "[CV 2/5] END leaf_size=50, n_neighbors=7, weights=distance;, score=0.898 total time=   0.3s\n",
      "[CV 3/5] END leaf_size=50, n_neighbors=7, weights=distance;, score=0.897 total time=   0.3s\n",
      "[CV 4/5] END leaf_size=50, n_neighbors=7, weights=distance;, score=0.903 total time=   0.4s\n",
      "[CV 5/5] END leaf_size=50, n_neighbors=7, weights=distance;, score=0.903 total time=   0.4s\n",
      "[CV 1/5] END leaf_size=50, n_neighbors=9, weights=uniform;, score=0.877 total time=   1.0s\n",
      "[CV 2/5] END leaf_size=50, n_neighbors=9, weights=uniform;, score=0.874 total time=   1.2s\n",
      "[CV 3/5] END leaf_size=50, n_neighbors=9, weights=uniform;, score=0.873 total time=   1.1s\n",
      "[CV 4/5] END leaf_size=50, n_neighbors=9, weights=uniform;, score=0.879 total time=   1.2s\n",
      "[CV 5/5] END leaf_size=50, n_neighbors=9, weights=uniform;, score=0.878 total time=   1.2s\n",
      "[CV 1/5] END leaf_size=50, n_neighbors=9, weights=distance;, score=0.898 total time=   0.6s\n",
      "[CV 2/5] END leaf_size=50, n_neighbors=9, weights=distance;, score=0.897 total time=   0.5s\n",
      "[CV 3/5] END leaf_size=50, n_neighbors=9, weights=distance;, score=0.896 total time=   0.5s\n",
      "[CV 4/5] END leaf_size=50, n_neighbors=9, weights=distance;, score=0.901 total time=   0.4s\n",
      "[CV 5/5] END leaf_size=50, n_neighbors=9, weights=distance;, score=0.901 total time=   0.4s\n",
      "[CV 1/5] END leaf_size=50, n_neighbors=11, weights=uniform;, score=0.873 total time=   1.3s\n",
      "[CV 2/5] END leaf_size=50, n_neighbors=11, weights=uniform;, score=0.870 total time=   1.2s\n",
      "[CV 3/5] END leaf_size=50, n_neighbors=11, weights=uniform;, score=0.870 total time=   1.3s\n",
      "[CV 4/5] END leaf_size=50, n_neighbors=11, weights=uniform;, score=0.876 total time=   1.2s\n",
      "[CV 5/5] END leaf_size=50, n_neighbors=11, weights=uniform;, score=0.874 total time=   1.0s\n",
      "[CV 1/5] END leaf_size=50, n_neighbors=11, weights=distance;, score=0.895 total time=   0.4s\n",
      "[CV 2/5] END leaf_size=50, n_neighbors=11, weights=distance;, score=0.895 total time=   0.4s\n",
      "[CV 3/5] END leaf_size=50, n_neighbors=11, weights=distance;, score=0.894 total time=   0.5s\n",
      "[CV 4/5] END leaf_size=50, n_neighbors=11, weights=distance;, score=0.900 total time=   0.4s\n",
      "[CV 5/5] END leaf_size=50, n_neighbors=11, weights=distance;, score=0.898 total time=   0.5s\n",
      "[CV 1/5] END leaf_size=50, n_neighbors=13, weights=uniform;, score=0.869 total time=   1.1s\n",
      "[CV 2/5] END leaf_size=50, n_neighbors=13, weights=uniform;, score=0.867 total time=   1.3s\n",
      "[CV 3/5] END leaf_size=50, n_neighbors=13, weights=uniform;, score=0.869 total time=   1.4s\n",
      "[CV 4/5] END leaf_size=50, n_neighbors=13, weights=uniform;, score=0.872 total time=   1.5s\n",
      "[CV 5/5] END leaf_size=50, n_neighbors=13, weights=uniform;, score=0.870 total time=   1.1s\n",
      "[CV 1/5] END leaf_size=50, n_neighbors=13, weights=distance;, score=0.895 total time=   0.4s\n",
      "[CV 2/5] END leaf_size=50, n_neighbors=13, weights=distance;, score=0.893 total time=   0.4s\n",
      "[CV 3/5] END leaf_size=50, n_neighbors=13, weights=distance;, score=0.893 total time=   0.6s\n",
      "[CV 4/5] END leaf_size=50, n_neighbors=13, weights=distance;, score=0.898 total time=   0.5s\n",
      "[CV 5/5] END leaf_size=50, n_neighbors=13, weights=distance;, score=0.896 total time=   0.5s\n",
      "[CV 1/5] END leaf_size=50, n_neighbors=15, weights=uniform;, score=0.867 total time=   1.0s\n",
      "[CV 2/5] END leaf_size=50, n_neighbors=15, weights=uniform;, score=0.865 total time=   0.9s\n",
      "[CV 3/5] END leaf_size=50, n_neighbors=15, weights=uniform;, score=0.867 total time=   0.9s\n",
      "[CV 4/5] END leaf_size=50, n_neighbors=15, weights=uniform;, score=0.869 total time=   0.9s\n",
      "[CV 5/5] END leaf_size=50, n_neighbors=15, weights=uniform;, score=0.867 total time=   0.9s\n",
      "[CV 1/5] END leaf_size=50, n_neighbors=15, weights=distance;, score=0.894 total time=   0.4s\n",
      "[CV 2/5] END leaf_size=50, n_neighbors=15, weights=distance;, score=0.893 total time=   0.4s\n",
      "[CV 3/5] END leaf_size=50, n_neighbors=15, weights=distance;, score=0.892 total time=   0.4s\n",
      "[CV 4/5] END leaf_size=50, n_neighbors=15, weights=distance;, score=0.897 total time=   0.4s\n"
     ]
    },
    {
     "name": "stdout",
     "output_type": "stream",
     "text": [
      "[CV 5/5] END leaf_size=50, n_neighbors=15, weights=distance;, score=0.895 total time=   0.4s\n",
      "[CV 1/5] END leaf_size=50, n_neighbors=17, weights=uniform;, score=0.864 total time=   1.0s\n",
      "[CV 2/5] END leaf_size=50, n_neighbors=17, weights=uniform;, score=0.861 total time=   0.9s\n",
      "[CV 3/5] END leaf_size=50, n_neighbors=17, weights=uniform;, score=0.864 total time=   0.9s\n",
      "[CV 4/5] END leaf_size=50, n_neighbors=17, weights=uniform;, score=0.868 total time=   1.0s\n",
      "[CV 5/5] END leaf_size=50, n_neighbors=17, weights=uniform;, score=0.865 total time=   0.9s\n",
      "[CV 1/5] END leaf_size=50, n_neighbors=17, weights=distance;, score=0.892 total time=   0.4s\n",
      "[CV 2/5] END leaf_size=50, n_neighbors=17, weights=distance;, score=0.891 total time=   0.4s\n",
      "[CV 3/5] END leaf_size=50, n_neighbors=17, weights=distance;, score=0.890 total time=   0.4s\n",
      "[CV 4/5] END leaf_size=50, n_neighbors=17, weights=distance;, score=0.895 total time=   0.4s\n",
      "[CV 5/5] END leaf_size=50, n_neighbors=17, weights=distance;, score=0.894 total time=   0.4s\n",
      "[CV 1/5] END leaf_size=50, n_neighbors=19, weights=uniform;, score=0.861 total time=   0.9s\n",
      "[CV 2/5] END leaf_size=50, n_neighbors=19, weights=uniform;, score=0.859 total time=   0.9s\n",
      "[CV 3/5] END leaf_size=50, n_neighbors=19, weights=uniform;, score=0.862 total time=   0.9s\n",
      "[CV 4/5] END leaf_size=50, n_neighbors=19, weights=uniform;, score=0.866 total time=   0.9s\n",
      "[CV 5/5] END leaf_size=50, n_neighbors=19, weights=uniform;, score=0.862 total time=   1.0s\n",
      "[CV 1/5] END leaf_size=50, n_neighbors=19, weights=distance;, score=0.890 total time=   0.4s\n",
      "[CV 2/5] END leaf_size=50, n_neighbors=19, weights=distance;, score=0.890 total time=   0.4s\n",
      "[CV 3/5] END leaf_size=50, n_neighbors=19, weights=distance;, score=0.890 total time=   0.4s\n",
      "[CV 4/5] END leaf_size=50, n_neighbors=19, weights=distance;, score=0.894 total time=   0.4s\n",
      "[CV 5/5] END leaf_size=50, n_neighbors=19, weights=distance;, score=0.893 total time=   0.4s\n",
      "[CV 1/5] END leaf_size=100, n_neighbors=1, weights=uniform;, score=0.908 total time=   0.8s\n",
      "[CV 2/5] END leaf_size=100, n_neighbors=1, weights=uniform;, score=0.907 total time=   0.8s\n",
      "[CV 3/5] END leaf_size=100, n_neighbors=1, weights=uniform;, score=0.910 total time=   0.8s\n",
      "[CV 4/5] END leaf_size=100, n_neighbors=1, weights=uniform;, score=0.914 total time=   1.0s\n",
      "[CV 5/5] END leaf_size=100, n_neighbors=1, weights=uniform;, score=0.913 total time=   1.3s\n",
      "[CV 1/5] END leaf_size=100, n_neighbors=1, weights=distance;, score=0.908 total time=   0.7s\n",
      "[CV 2/5] END leaf_size=100, n_neighbors=1, weights=distance;, score=0.907 total time=   0.7s\n",
      "[CV 3/5] END leaf_size=100, n_neighbors=1, weights=distance;, score=0.910 total time=   0.4s\n",
      "[CV 4/5] END leaf_size=100, n_neighbors=1, weights=distance;, score=0.914 total time=   0.3s\n",
      "[CV 5/5] END leaf_size=100, n_neighbors=1, weights=distance;, score=0.913 total time=   0.4s\n",
      "[CV 1/5] END leaf_size=100, n_neighbors=3, weights=uniform;, score=0.897 total time=   1.1s\n",
      "[CV 2/5] END leaf_size=100, n_neighbors=3, weights=uniform;, score=0.895 total time=   1.0s\n",
      "[CV 3/5] END leaf_size=100, n_neighbors=3, weights=uniform;, score=0.897 total time=   1.1s\n",
      "[CV 4/5] END leaf_size=100, n_neighbors=3, weights=uniform;, score=0.900 total time=   1.0s\n",
      "[CV 5/5] END leaf_size=100, n_neighbors=3, weights=uniform;, score=0.897 total time=   1.0s\n",
      "[CV 1/5] END leaf_size=100, n_neighbors=3, weights=distance;, score=0.905 total time=   0.4s\n",
      "[CV 2/5] END leaf_size=100, n_neighbors=3, weights=distance;, score=0.903 total time=   0.4s\n",
      "[CV 3/5] END leaf_size=100, n_neighbors=3, weights=distance;, score=0.904 total time=   0.4s\n",
      "[CV 4/5] END leaf_size=100, n_neighbors=3, weights=distance;, score=0.910 total time=   0.4s\n",
      "[CV 5/5] END leaf_size=100, n_neighbors=3, weights=distance;, score=0.907 total time=   0.5s\n",
      "[CV 1/5] END leaf_size=100, n_neighbors=5, weights=uniform;, score=0.887 total time=   1.0s\n",
      "[CV 2/5] END leaf_size=100, n_neighbors=5, weights=uniform;, score=0.887 total time=   1.1s\n",
      "[CV 3/5] END leaf_size=100, n_neighbors=5, weights=uniform;, score=0.886 total time=   1.1s\n",
      "[CV 4/5] END leaf_size=100, n_neighbors=5, weights=uniform;, score=0.891 total time=   1.0s\n",
      "[CV 5/5] END leaf_size=100, n_neighbors=5, weights=uniform;, score=0.889 total time=   1.0s\n",
      "[CV 1/5] END leaf_size=100, n_neighbors=5, weights=distance;, score=0.902 total time=   0.5s\n",
      "[CV 2/5] END leaf_size=100, n_neighbors=5, weights=distance;, score=0.902 total time=   0.6s\n",
      "[CV 3/5] END leaf_size=100, n_neighbors=5, weights=distance;, score=0.901 total time=   0.6s\n",
      "[CV 4/5] END leaf_size=100, n_neighbors=5, weights=distance;, score=0.906 total time=   0.5s\n",
      "[CV 5/5] END leaf_size=100, n_neighbors=5, weights=distance;, score=0.905 total time=   0.5s\n",
      "[CV 1/5] END leaf_size=100, n_neighbors=7, weights=uniform;, score=0.882 total time=   1.0s\n",
      "[CV 2/5] END leaf_size=100, n_neighbors=7, weights=uniform;, score=0.878 total time=   1.0s\n",
      "[CV 3/5] END leaf_size=100, n_neighbors=7, weights=uniform;, score=0.878 total time=   1.0s\n",
      "[CV 4/5] END leaf_size=100, n_neighbors=7, weights=uniform;, score=0.883 total time=   1.1s\n",
      "[CV 5/5] END leaf_size=100, n_neighbors=7, weights=uniform;, score=0.882 total time=   1.0s\n",
      "[CV 1/5] END leaf_size=100, n_neighbors=7, weights=distance;, score=0.900 total time=   0.4s\n",
      "[CV 2/5] END leaf_size=100, n_neighbors=7, weights=distance;, score=0.898 total time=   0.4s\n",
      "[CV 3/5] END leaf_size=100, n_neighbors=7, weights=distance;, score=0.897 total time=   0.5s\n",
      "[CV 4/5] END leaf_size=100, n_neighbors=7, weights=distance;, score=0.903 total time=   0.4s\n",
      "[CV 5/5] END leaf_size=100, n_neighbors=7, weights=distance;, score=0.903 total time=   0.4s\n",
      "[CV 1/5] END leaf_size=100, n_neighbors=9, weights=uniform;, score=0.877 total time=   1.1s\n",
      "[CV 2/5] END leaf_size=100, n_neighbors=9, weights=uniform;, score=0.874 total time=   1.1s\n",
      "[CV 3/5] END leaf_size=100, n_neighbors=9, weights=uniform;, score=0.873 total time=   1.1s\n",
      "[CV 4/5] END leaf_size=100, n_neighbors=9, weights=uniform;, score=0.879 total time=   1.0s\n",
      "[CV 5/5] END leaf_size=100, n_neighbors=9, weights=uniform;, score=0.878 total time=   0.9s\n",
      "[CV 1/5] END leaf_size=100, n_neighbors=9, weights=distance;, score=0.898 total time=   0.5s\n",
      "[CV 2/5] END leaf_size=100, n_neighbors=9, weights=distance;, score=0.897 total time=   0.4s\n",
      "[CV 3/5] END leaf_size=100, n_neighbors=9, weights=distance;, score=0.896 total time=   0.6s\n",
      "[CV 4/5] END leaf_size=100, n_neighbors=9, weights=distance;, score=0.901 total time=   0.9s\n",
      "[CV 5/5] END leaf_size=100, n_neighbors=9, weights=distance;, score=0.901 total time=   1.1s\n",
      "[CV 1/5] END leaf_size=100, n_neighbors=11, weights=uniform;, score=0.873 total time=   1.2s\n",
      "[CV 2/5] END leaf_size=100, n_neighbors=11, weights=uniform;, score=0.870 total time=   1.1s\n",
      "[CV 3/5] END leaf_size=100, n_neighbors=11, weights=uniform;, score=0.870 total time=   1.0s\n",
      "[CV 4/5] END leaf_size=100, n_neighbors=11, weights=uniform;, score=0.876 total time=   1.0s\n",
      "[CV 5/5] END leaf_size=100, n_neighbors=11, weights=uniform;, score=0.874 total time=   1.2s\n",
      "[CV 1/5] END leaf_size=100, n_neighbors=11, weights=distance;, score=0.895 total time=   0.6s\n",
      "[CV 2/5] END leaf_size=100, n_neighbors=11, weights=distance;, score=0.895 total time=   0.6s\n",
      "[CV 3/5] END leaf_size=100, n_neighbors=11, weights=distance;, score=0.894 total time=   0.6s\n",
      "[CV 4/5] END leaf_size=100, n_neighbors=11, weights=distance;, score=0.900 total time=   0.6s\n",
      "[CV 5/5] END leaf_size=100, n_neighbors=11, weights=distance;, score=0.898 total time=   0.6s\n",
      "[CV 1/5] END leaf_size=100, n_neighbors=13, weights=uniform;, score=0.869 total time=   1.1s\n",
      "[CV 2/5] END leaf_size=100, n_neighbors=13, weights=uniform;, score=0.867 total time=   1.2s\n",
      "[CV 3/5] END leaf_size=100, n_neighbors=13, weights=uniform;, score=0.869 total time=   1.1s\n",
      "[CV 4/5] END leaf_size=100, n_neighbors=13, weights=uniform;, score=0.872 total time=   1.2s\n",
      "[CV 5/5] END leaf_size=100, n_neighbors=13, weights=uniform;, score=0.870 total time=   1.3s\n",
      "[CV 1/5] END leaf_size=100, n_neighbors=13, weights=distance;, score=0.895 total time=   0.7s\n",
      "[CV 2/5] END leaf_size=100, n_neighbors=13, weights=distance;, score=0.893 total time=   0.9s\n",
      "[CV 3/5] END leaf_size=100, n_neighbors=13, weights=distance;, score=0.893 total time=   0.7s\n"
     ]
    },
    {
     "name": "stdout",
     "output_type": "stream",
     "text": [
      "[CV 4/5] END leaf_size=100, n_neighbors=13, weights=distance;, score=0.898 total time=   0.7s\n",
      "[CV 5/5] END leaf_size=100, n_neighbors=13, weights=distance;, score=0.896 total time=   0.5s\n",
      "[CV 1/5] END leaf_size=100, n_neighbors=15, weights=uniform;, score=0.867 total time=   1.4s\n",
      "[CV 2/5] END leaf_size=100, n_neighbors=15, weights=uniform;, score=0.865 total time=   1.3s\n",
      "[CV 3/5] END leaf_size=100, n_neighbors=15, weights=uniform;, score=0.867 total time=   1.2s\n",
      "[CV 4/5] END leaf_size=100, n_neighbors=15, weights=uniform;, score=0.869 total time=   1.1s\n",
      "[CV 5/5] END leaf_size=100, n_neighbors=15, weights=uniform;, score=0.867 total time=   1.3s\n",
      "[CV 1/5] END leaf_size=100, n_neighbors=15, weights=distance;, score=0.894 total time=   0.7s\n",
      "[CV 2/5] END leaf_size=100, n_neighbors=15, weights=distance;, score=0.893 total time=   0.6s\n",
      "[CV 3/5] END leaf_size=100, n_neighbors=15, weights=distance;, score=0.892 total time=   0.6s\n",
      "[CV 4/5] END leaf_size=100, n_neighbors=15, weights=distance;, score=0.897 total time=   0.6s\n",
      "[CV 5/5] END leaf_size=100, n_neighbors=15, weights=distance;, score=0.895 total time=   0.7s\n",
      "[CV 1/5] END leaf_size=100, n_neighbors=17, weights=uniform;, score=0.864 total time=   1.3s\n",
      "[CV 2/5] END leaf_size=100, n_neighbors=17, weights=uniform;, score=0.861 total time=   1.2s\n",
      "[CV 3/5] END leaf_size=100, n_neighbors=17, weights=uniform;, score=0.864 total time=   1.3s\n",
      "[CV 4/5] END leaf_size=100, n_neighbors=17, weights=uniform;, score=0.868 total time=   1.1s\n",
      "[CV 5/5] END leaf_size=100, n_neighbors=17, weights=uniform;, score=0.865 total time=   1.2s\n",
      "[CV 1/5] END leaf_size=100, n_neighbors=17, weights=distance;, score=0.892 total time=   0.5s\n",
      "[CV 2/5] END leaf_size=100, n_neighbors=17, weights=distance;, score=0.891 total time=   0.5s\n",
      "[CV 3/5] END leaf_size=100, n_neighbors=17, weights=distance;, score=0.890 total time=   0.7s\n",
      "[CV 4/5] END leaf_size=100, n_neighbors=17, weights=distance;, score=0.895 total time=   0.7s\n",
      "[CV 5/5] END leaf_size=100, n_neighbors=17, weights=distance;, score=0.894 total time=   0.7s\n",
      "[CV 1/5] END leaf_size=100, n_neighbors=19, weights=uniform;, score=0.861 total time=   1.3s\n",
      "[CV 2/5] END leaf_size=100, n_neighbors=19, weights=uniform;, score=0.859 total time=   1.2s\n",
      "[CV 3/5] END leaf_size=100, n_neighbors=19, weights=uniform;, score=0.862 total time=   1.3s\n",
      "[CV 4/5] END leaf_size=100, n_neighbors=19, weights=uniform;, score=0.866 total time=   1.2s\n",
      "[CV 5/5] END leaf_size=100, n_neighbors=19, weights=uniform;, score=0.862 total time=   1.2s\n",
      "[CV 1/5] END leaf_size=100, n_neighbors=19, weights=distance;, score=0.890 total time=   0.6s\n",
      "[CV 2/5] END leaf_size=100, n_neighbors=19, weights=distance;, score=0.890 total time=   0.7s\n",
      "[CV 3/5] END leaf_size=100, n_neighbors=19, weights=distance;, score=0.890 total time=   0.6s\n",
      "[CV 4/5] END leaf_size=100, n_neighbors=19, weights=distance;, score=0.894 total time=   0.6s\n",
      "[CV 5/5] END leaf_size=100, n_neighbors=19, weights=distance;, score=0.893 total time=   0.6s\n",
      "[CV 1/5] END leaf_size=500, n_neighbors=1, weights=uniform;, score=0.908 total time=   1.3s\n",
      "[CV 2/5] END leaf_size=500, n_neighbors=1, weights=uniform;, score=0.907 total time=   1.2s\n",
      "[CV 3/5] END leaf_size=500, n_neighbors=1, weights=uniform;, score=0.910 total time=   1.4s\n",
      "[CV 4/5] END leaf_size=500, n_neighbors=1, weights=uniform;, score=0.914 total time=   1.5s\n",
      "[CV 5/5] END leaf_size=500, n_neighbors=1, weights=uniform;, score=0.913 total time=   1.7s\n",
      "[CV 1/5] END leaf_size=500, n_neighbors=1, weights=distance;, score=0.908 total time=   0.8s\n",
      "[CV 2/5] END leaf_size=500, n_neighbors=1, weights=distance;, score=0.907 total time=   0.8s\n",
      "[CV 3/5] END leaf_size=500, n_neighbors=1, weights=distance;, score=0.910 total time=   1.0s\n",
      "[CV 4/5] END leaf_size=500, n_neighbors=1, weights=distance;, score=0.914 total time=   0.7s\n",
      "[CV 5/5] END leaf_size=500, n_neighbors=1, weights=distance;, score=0.913 total time=   0.7s\n",
      "[CV 1/5] END leaf_size=500, n_neighbors=3, weights=uniform;, score=0.897 total time=   1.3s\n",
      "[CV 2/5] END leaf_size=500, n_neighbors=3, weights=uniform;, score=0.895 total time=   1.7s\n",
      "[CV 3/5] END leaf_size=500, n_neighbors=3, weights=uniform;, score=0.897 total time=   1.4s\n",
      "[CV 4/5] END leaf_size=500, n_neighbors=3, weights=uniform;, score=0.900 total time=   1.5s\n",
      "[CV 5/5] END leaf_size=500, n_neighbors=3, weights=uniform;, score=0.897 total time=   1.5s\n",
      "[CV 1/5] END leaf_size=500, n_neighbors=3, weights=distance;, score=0.905 total time=   1.2s\n",
      "[CV 2/5] END leaf_size=500, n_neighbors=3, weights=distance;, score=0.903 total time=   1.1s\n",
      "[CV 3/5] END leaf_size=500, n_neighbors=3, weights=distance;, score=0.904 total time=   1.2s\n",
      "[CV 4/5] END leaf_size=500, n_neighbors=3, weights=distance;, score=0.910 total time=   0.9s\n",
      "[CV 5/5] END leaf_size=500, n_neighbors=3, weights=distance;, score=0.907 total time=   1.0s\n",
      "[CV 1/5] END leaf_size=500, n_neighbors=5, weights=uniform;, score=0.887 total time=   1.5s\n",
      "[CV 2/5] END leaf_size=500, n_neighbors=5, weights=uniform;, score=0.887 total time=   1.4s\n",
      "[CV 3/5] END leaf_size=500, n_neighbors=5, weights=uniform;, score=0.886 total time=   1.7s\n",
      "[CV 4/5] END leaf_size=500, n_neighbors=5, weights=uniform;, score=0.891 total time=   1.8s\n",
      "[CV 5/5] END leaf_size=500, n_neighbors=5, weights=uniform;, score=0.889 total time=   1.8s\n",
      "[CV 1/5] END leaf_size=500, n_neighbors=5, weights=distance;, score=0.902 total time=   0.8s\n",
      "[CV 2/5] END leaf_size=500, n_neighbors=5, weights=distance;, score=0.902 total time=   1.1s\n",
      "[CV 3/5] END leaf_size=500, n_neighbors=5, weights=distance;, score=0.901 total time=   1.0s\n",
      "[CV 4/5] END leaf_size=500, n_neighbors=5, weights=distance;, score=0.906 total time=   0.9s\n",
      "[CV 5/5] END leaf_size=500, n_neighbors=5, weights=distance;, score=0.905 total time=   1.1s\n",
      "[CV 1/5] END leaf_size=500, n_neighbors=7, weights=uniform;, score=0.882 total time=   1.5s\n",
      "[CV 2/5] END leaf_size=500, n_neighbors=7, weights=uniform;, score=0.878 total time=   1.7s\n",
      "[CV 3/5] END leaf_size=500, n_neighbors=7, weights=uniform;, score=0.878 total time=   1.8s\n",
      "[CV 4/5] END leaf_size=500, n_neighbors=7, weights=uniform;, score=0.883 total time=   1.8s\n",
      "[CV 5/5] END leaf_size=500, n_neighbors=7, weights=uniform;, score=0.882 total time=   1.7s\n",
      "[CV 1/5] END leaf_size=500, n_neighbors=7, weights=distance;, score=0.900 total time=   0.8s\n",
      "[CV 2/5] END leaf_size=500, n_neighbors=7, weights=distance;, score=0.898 total time=   1.1s\n",
      "[CV 3/5] END leaf_size=500, n_neighbors=7, weights=distance;, score=0.897 total time=   1.0s\n",
      "[CV 4/5] END leaf_size=500, n_neighbors=7, weights=distance;, score=0.903 total time=   1.0s\n",
      "[CV 5/5] END leaf_size=500, n_neighbors=7, weights=distance;, score=0.903 total time=   1.1s\n",
      "[CV 1/5] END leaf_size=500, n_neighbors=9, weights=uniform;, score=0.877 total time=   1.8s\n",
      "[CV 2/5] END leaf_size=500, n_neighbors=9, weights=uniform;, score=0.874 total time=   1.9s\n",
      "[CV 3/5] END leaf_size=500, n_neighbors=9, weights=uniform;, score=0.873 total time=   1.7s\n",
      "[CV 4/5] END leaf_size=500, n_neighbors=9, weights=uniform;, score=0.879 total time=   1.6s\n",
      "[CV 5/5] END leaf_size=500, n_neighbors=9, weights=uniform;, score=0.878 total time=   1.6s\n",
      "[CV 1/5] END leaf_size=500, n_neighbors=9, weights=distance;, score=0.898 total time=   0.9s\n",
      "[CV 2/5] END leaf_size=500, n_neighbors=9, weights=distance;, score=0.897 total time=   1.2s\n",
      "[CV 3/5] END leaf_size=500, n_neighbors=9, weights=distance;, score=0.896 total time=   1.3s\n",
      "[CV 4/5] END leaf_size=500, n_neighbors=9, weights=distance;, score=0.901 total time=   1.0s\n",
      "[CV 5/5] END leaf_size=500, n_neighbors=9, weights=distance;, score=0.901 total time=   1.1s\n",
      "[CV 1/5] END leaf_size=500, n_neighbors=11, weights=uniform;, score=0.873 total time=   1.8s\n",
      "[CV 2/5] END leaf_size=500, n_neighbors=11, weights=uniform;, score=0.870 total time=   1.6s\n",
      "[CV 3/5] END leaf_size=500, n_neighbors=11, weights=uniform;, score=0.870 total time=   2.0s\n",
      "[CV 4/5] END leaf_size=500, n_neighbors=11, weights=uniform;, score=0.876 total time=   2.1s\n",
      "[CV 5/5] END leaf_size=500, n_neighbors=11, weights=uniform;, score=0.874 total time=   1.6s\n",
      "[CV 1/5] END leaf_size=500, n_neighbors=11, weights=distance;, score=0.895 total time=   1.1s\n",
      "[CV 2/5] END leaf_size=500, n_neighbors=11, weights=distance;, score=0.895 total time=   0.9s\n"
     ]
    },
    {
     "name": "stdout",
     "output_type": "stream",
     "text": [
      "[CV 3/5] END leaf_size=500, n_neighbors=11, weights=distance;, score=0.894 total time=   1.5s\n",
      "[CV 4/5] END leaf_size=500, n_neighbors=11, weights=distance;, score=0.900 total time=   1.2s\n",
      "[CV 5/5] END leaf_size=500, n_neighbors=11, weights=distance;, score=0.898 total time=   1.1s\n",
      "[CV 1/5] END leaf_size=500, n_neighbors=13, weights=uniform;, score=0.869 total time=   1.5s\n",
      "[CV 2/5] END leaf_size=500, n_neighbors=13, weights=uniform;, score=0.867 total time=   1.6s\n",
      "[CV 3/5] END leaf_size=500, n_neighbors=13, weights=uniform;, score=0.869 total time=   2.0s\n",
      "[CV 4/5] END leaf_size=500, n_neighbors=13, weights=uniform;, score=0.872 total time=   1.6s\n",
      "[CV 5/5] END leaf_size=500, n_neighbors=13, weights=uniform;, score=0.870 total time=   1.6s\n",
      "[CV 1/5] END leaf_size=500, n_neighbors=13, weights=distance;, score=0.895 total time=   1.1s\n",
      "[CV 2/5] END leaf_size=500, n_neighbors=13, weights=distance;, score=0.893 total time=   1.1s\n",
      "[CV 3/5] END leaf_size=500, n_neighbors=13, weights=distance;, score=0.893 total time=   1.2s\n",
      "[CV 4/5] END leaf_size=500, n_neighbors=13, weights=distance;, score=0.898 total time=   0.9s\n",
      "[CV 5/5] END leaf_size=500, n_neighbors=13, weights=distance;, score=0.896 total time=   1.7s\n",
      "[CV 1/5] END leaf_size=500, n_neighbors=15, weights=uniform;, score=0.867 total time=   1.8s\n",
      "[CV 2/5] END leaf_size=500, n_neighbors=15, weights=uniform;, score=0.865 total time=   2.0s\n",
      "[CV 3/5] END leaf_size=500, n_neighbors=15, weights=uniform;, score=0.867 total time=   1.9s\n",
      "[CV 4/5] END leaf_size=500, n_neighbors=15, weights=uniform;, score=0.869 total time=   1.6s\n",
      "[CV 5/5] END leaf_size=500, n_neighbors=15, weights=uniform;, score=0.867 total time=   1.7s\n",
      "[CV 1/5] END leaf_size=500, n_neighbors=15, weights=distance;, score=0.894 total time=   1.2s\n",
      "[CV 2/5] END leaf_size=500, n_neighbors=15, weights=distance;, score=0.893 total time=   1.2s\n",
      "[CV 3/5] END leaf_size=500, n_neighbors=15, weights=distance;, score=0.892 total time=   1.0s\n",
      "[CV 4/5] END leaf_size=500, n_neighbors=15, weights=distance;, score=0.897 total time=   1.1s\n",
      "[CV 5/5] END leaf_size=500, n_neighbors=15, weights=distance;, score=0.895 total time=   1.1s\n",
      "[CV 1/5] END leaf_size=500, n_neighbors=17, weights=uniform;, score=0.864 total time=   1.7s\n",
      "[CV 2/5] END leaf_size=500, n_neighbors=17, weights=uniform;, score=0.861 total time=   1.5s\n",
      "[CV 3/5] END leaf_size=500, n_neighbors=17, weights=uniform;, score=0.864 total time=   1.8s\n",
      "[CV 4/5] END leaf_size=500, n_neighbors=17, weights=uniform;, score=0.868 total time=   1.5s\n",
      "[CV 5/5] END leaf_size=500, n_neighbors=17, weights=uniform;, score=0.865 total time=   1.7s\n",
      "[CV 1/5] END leaf_size=500, n_neighbors=17, weights=distance;, score=0.892 total time=   1.1s\n",
      "[CV 2/5] END leaf_size=500, n_neighbors=17, weights=distance;, score=0.891 total time=   1.1s\n",
      "[CV 3/5] END leaf_size=500, n_neighbors=17, weights=distance;, score=0.890 total time=   1.3s\n",
      "[CV 4/5] END leaf_size=500, n_neighbors=17, weights=distance;, score=0.895 total time=   1.0s\n",
      "[CV 5/5] END leaf_size=500, n_neighbors=17, weights=distance;, score=0.894 total time=   1.2s\n",
      "[CV 1/5] END leaf_size=500, n_neighbors=19, weights=uniform;, score=0.861 total time=   1.7s\n",
      "[CV 2/5] END leaf_size=500, n_neighbors=19, weights=uniform;, score=0.859 total time=   1.7s\n",
      "[CV 3/5] END leaf_size=500, n_neighbors=19, weights=uniform;, score=0.862 total time=   1.8s\n",
      "[CV 4/5] END leaf_size=500, n_neighbors=19, weights=uniform;, score=0.866 total time=   1.8s\n",
      "[CV 5/5] END leaf_size=500, n_neighbors=19, weights=uniform;, score=0.862 total time=   1.7s\n",
      "[CV 1/5] END leaf_size=500, n_neighbors=19, weights=distance;, score=0.890 total time=   1.1s\n",
      "[CV 2/5] END leaf_size=500, n_neighbors=19, weights=distance;, score=0.890 total time=   1.6s\n",
      "[CV 3/5] END leaf_size=500, n_neighbors=19, weights=distance;, score=0.890 total time=   1.4s\n",
      "[CV 4/5] END leaf_size=500, n_neighbors=19, weights=distance;, score=0.894 total time=   1.3s\n",
      "[CV 5/5] END leaf_size=500, n_neighbors=19, weights=distance;, score=0.893 total time=   1.3s\n"
     ]
    },
    {
     "data": {
      "text/html": [
       "<style>#sk-container-id-3 {color: black;background-color: white;}#sk-container-id-3 pre{padding: 0;}#sk-container-id-3 div.sk-toggleable {background-color: white;}#sk-container-id-3 label.sk-toggleable__label {cursor: pointer;display: block;width: 100%;margin-bottom: 0;padding: 0.3em;box-sizing: border-box;text-align: center;}#sk-container-id-3 label.sk-toggleable__label-arrow:before {content: \"▸\";float: left;margin-right: 0.25em;color: #696969;}#sk-container-id-3 label.sk-toggleable__label-arrow:hover:before {color: black;}#sk-container-id-3 div.sk-estimator:hover label.sk-toggleable__label-arrow:before {color: black;}#sk-container-id-3 div.sk-toggleable__content {max-height: 0;max-width: 0;overflow: hidden;text-align: left;background-color: #f0f8ff;}#sk-container-id-3 div.sk-toggleable__content pre {margin: 0.2em;color: black;border-radius: 0.25em;background-color: #f0f8ff;}#sk-container-id-3 input.sk-toggleable__control:checked~div.sk-toggleable__content {max-height: 200px;max-width: 100%;overflow: auto;}#sk-container-id-3 input.sk-toggleable__control:checked~label.sk-toggleable__label-arrow:before {content: \"▾\";}#sk-container-id-3 div.sk-estimator input.sk-toggleable__control:checked~label.sk-toggleable__label {background-color: #d4ebff;}#sk-container-id-3 div.sk-label input.sk-toggleable__control:checked~label.sk-toggleable__label {background-color: #d4ebff;}#sk-container-id-3 input.sk-hidden--visually {border: 0;clip: rect(1px 1px 1px 1px);clip: rect(1px, 1px, 1px, 1px);height: 1px;margin: -1px;overflow: hidden;padding: 0;position: absolute;width: 1px;}#sk-container-id-3 div.sk-estimator {font-family: monospace;background-color: #f0f8ff;border: 1px dotted black;border-radius: 0.25em;box-sizing: border-box;margin-bottom: 0.5em;}#sk-container-id-3 div.sk-estimator:hover {background-color: #d4ebff;}#sk-container-id-3 div.sk-parallel-item::after {content: \"\";width: 100%;border-bottom: 1px solid gray;flex-grow: 1;}#sk-container-id-3 div.sk-label:hover label.sk-toggleable__label {background-color: #d4ebff;}#sk-container-id-3 div.sk-serial::before {content: \"\";position: absolute;border-left: 1px solid gray;box-sizing: border-box;top: 0;bottom: 0;left: 50%;z-index: 0;}#sk-container-id-3 div.sk-serial {display: flex;flex-direction: column;align-items: center;background-color: white;padding-right: 0.2em;padding-left: 0.2em;position: relative;}#sk-container-id-3 div.sk-item {position: relative;z-index: 1;}#sk-container-id-3 div.sk-parallel {display: flex;align-items: stretch;justify-content: center;background-color: white;position: relative;}#sk-container-id-3 div.sk-item::before, #sk-container-id-3 div.sk-parallel-item::before {content: \"\";position: absolute;border-left: 1px solid gray;box-sizing: border-box;top: 0;bottom: 0;left: 50%;z-index: -1;}#sk-container-id-3 div.sk-parallel-item {display: flex;flex-direction: column;z-index: 1;position: relative;background-color: white;}#sk-container-id-3 div.sk-parallel-item:first-child::after {align-self: flex-end;width: 50%;}#sk-container-id-3 div.sk-parallel-item:last-child::after {align-self: flex-start;width: 50%;}#sk-container-id-3 div.sk-parallel-item:only-child::after {width: 0;}#sk-container-id-3 div.sk-dashed-wrapped {border: 1px dashed gray;margin: 0 0.4em 0.5em 0.4em;box-sizing: border-box;padding-bottom: 0.4em;background-color: white;}#sk-container-id-3 div.sk-label label {font-family: monospace;font-weight: bold;display: inline-block;line-height: 1.2em;}#sk-container-id-3 div.sk-label-container {text-align: center;}#sk-container-id-3 div.sk-container {/* jupyter's `normalize.less` sets `[hidden] { display: none; }` but bootstrap.min.css set `[hidden] { display: none !important; }` so we also need the `!important` here to be able to override the default hidden behavior on the sphinx rendered scikit-learn.org. See: https://github.com/scikit-learn/scikit-learn/issues/21755 */display: inline-block !important;position: relative;}#sk-container-id-3 div.sk-text-repr-fallback {display: none;}</style><div id=\"sk-container-id-3\" class=\"sk-top-container\"><div class=\"sk-text-repr-fallback\"><pre>GridSearchCV(estimator=KNeighborsClassifier(),\n",
       "             param_grid={&#x27;leaf_size&#x27;: [10, 50, 100, 500],\n",
       "                         &#x27;n_neighbors&#x27;: [1, 3, 5, 7, 9, 11, 13, 15, 17, 19],\n",
       "                         &#x27;weights&#x27;: [&#x27;uniform&#x27;, &#x27;distance&#x27;]},\n",
       "             verbose=3)</pre><b>In a Jupyter environment, please rerun this cell to show the HTML representation or trust the notebook. <br />On GitHub, the HTML representation is unable to render, please try loading this page with nbviewer.org.</b></div><div class=\"sk-container\" hidden><div class=\"sk-item sk-dashed-wrapped\"><div class=\"sk-label-container\"><div class=\"sk-label sk-toggleable\"><input class=\"sk-toggleable__control sk-hidden--visually\" id=\"sk-estimator-id-7\" type=\"checkbox\" ><label for=\"sk-estimator-id-7\" class=\"sk-toggleable__label sk-toggleable__label-arrow\">GridSearchCV</label><div class=\"sk-toggleable__content\"><pre>GridSearchCV(estimator=KNeighborsClassifier(),\n",
       "             param_grid={&#x27;leaf_size&#x27;: [10, 50, 100, 500],\n",
       "                         &#x27;n_neighbors&#x27;: [1, 3, 5, 7, 9, 11, 13, 15, 17, 19],\n",
       "                         &#x27;weights&#x27;: [&#x27;uniform&#x27;, &#x27;distance&#x27;]},\n",
       "             verbose=3)</pre></div></div></div><div class=\"sk-parallel\"><div class=\"sk-parallel-item\"><div class=\"sk-item\"><div class=\"sk-label-container\"><div class=\"sk-label sk-toggleable\"><input class=\"sk-toggleable__control sk-hidden--visually\" id=\"sk-estimator-id-8\" type=\"checkbox\" ><label for=\"sk-estimator-id-8\" class=\"sk-toggleable__label sk-toggleable__label-arrow\">estimator: KNeighborsClassifier</label><div class=\"sk-toggleable__content\"><pre>KNeighborsClassifier()</pre></div></div></div><div class=\"sk-serial\"><div class=\"sk-item\"><div class=\"sk-estimator sk-toggleable\"><input class=\"sk-toggleable__control sk-hidden--visually\" id=\"sk-estimator-id-9\" type=\"checkbox\" ><label for=\"sk-estimator-id-9\" class=\"sk-toggleable__label sk-toggleable__label-arrow\">KNeighborsClassifier</label><div class=\"sk-toggleable__content\"><pre>KNeighborsClassifier()</pre></div></div></div></div></div></div></div></div></div></div>"
      ],
      "text/plain": [
       "GridSearchCV(estimator=KNeighborsClassifier(),\n",
       "             param_grid={'leaf_size': [10, 50, 100, 500],\n",
       "                         'n_neighbors': [1, 3, 5, 7, 9, 11, 13, 15, 17, 19],\n",
       "                         'weights': ['uniform', 'distance']},\n",
       "             verbose=3)"
      ]
     },
     "execution_count": 301,
     "metadata": {},
     "output_type": "execute_result"
    }
   ],
   "source": [
    "grid_clf.fit(X_train, y_train)"
   ]
  },
  {
   "cell_type": "code",
   "execution_count": 302,
   "id": "b40b33cd",
   "metadata": {},
   "outputs": [
    {
     "name": "stdout",
     "output_type": "stream",
     "text": [
      "{'leaf_size': 10, 'n_neighbors': 1, 'weights': 'uniform'}\n"
     ]
    }
   ],
   "source": [
    "print(grid_clf.best_params_)"
   ]
  },
  {
   "cell_type": "code",
   "execution_count": 303,
   "id": "52c4a5b6",
   "metadata": {},
   "outputs": [
    {
     "name": "stdout",
     "output_type": "stream",
     "text": [
      "0.9103422769155893\n"
     ]
    }
   ],
   "source": [
    "print(grid_clf.best_score_)"
   ]
  },
  {
   "cell_type": "code",
   "execution_count": 304,
   "id": "8c114c7f",
   "metadata": {},
   "outputs": [
    {
     "data": {
      "text/plain": [
       "array([[16068,   982],\n",
       "       [ 1837, 15526]])"
      ]
     },
     "execution_count": 304,
     "metadata": {},
     "output_type": "execute_result"
    }
   ],
   "source": [
    "y_true = y_test\n",
    "\n",
    "y_pred = grid_clf.predict(X_test)\n",
    "\n",
    "confusion_matrix(y_true, y_pred)\n",
    "\n",
    "confusion_matrix(y_test, y_pred)"
   ]
  },
  {
   "cell_type": "code",
   "execution_count": 305,
   "id": "6baae32a",
   "metadata": {},
   "outputs": [],
   "source": [
    "import pickle\n",
    "\n",
    "model = KNeighborsClassifier()\n",
    "model.fit(X_train, y_train)\n",
    "filename = 'loan_status_predictor.sav'\n",
    "pickle.dump(model, open(filename, 'wb'))"
   ]
  },
  {
   "cell_type": "code",
   "execution_count": null,
   "id": "79e9f2f4",
   "metadata": {},
   "outputs": [],
   "source": []
  }
 ],
 "metadata": {
  "kernelspec": {
   "display_name": "Python 3 (ipykernel)",
   "language": "python",
   "name": "python3"
  },
  "language_info": {
   "codemirror_mode": {
    "name": "ipython",
    "version": 3
   },
   "file_extension": ".py",
   "mimetype": "text/x-python",
   "name": "python",
   "nbconvert_exporter": "python",
   "pygments_lexer": "ipython3",
   "version": "3.9.7"
  }
 },
 "nbformat": 4,
 "nbformat_minor": 5
}
