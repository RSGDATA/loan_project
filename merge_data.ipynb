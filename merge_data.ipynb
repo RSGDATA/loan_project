{
 "cells": [
  {
   "cell_type": "code",
   "execution_count": 1,
   "id": "798e5b16",
   "metadata": {},
   "outputs": [],
   "source": [
    "import pandas as pd"
   ]
  },
  {
   "cell_type": "code",
   "execution_count": 2,
   "id": "9c16564d",
   "metadata": {},
   "outputs": [],
   "source": [
    "acc_df = pd.read_csv(\"acc.csv\")"
   ]
  },
  {
   "cell_type": "code",
   "execution_count": 13,
   "id": "a90b4951",
   "metadata": {},
   "outputs": [],
   "source": [
    " acc_df1 = acc_df.drop(\"Unnamed: 0\", axis=1)"
   ]
  },
  {
   "cell_type": "code",
   "execution_count": 14,
   "id": "b9927a09",
   "metadata": {},
   "outputs": [],
   "source": [
    "rej_df = pd.read_csv(\"rej.csv\")\n",
    "\n",
    "rej_df1 = rej_df.drop(\"Unnamed: 0\", axis=1)"
   ]
  },
  {
   "cell_type": "code",
   "execution_count": null,
   "id": "72a692b2",
   "metadata": {},
   "outputs": [],
   "source": [
    "acc_df1.set_index('State').join(rej_df1.set_index('State'))\n"
   ]
  },
  {
   "cell_type": "code",
   "execution_count": null,
   "id": "123fd1c5",
   "metadata": {},
   "outputs": [],
   "source": []
  }
 ],
 "metadata": {
  "kernelspec": {
   "display_name": "Python 3 (ipykernel)",
   "language": "python",
   "name": "python3"
  },
  "language_info": {
   "codemirror_mode": {
    "name": "ipython",
    "version": 3
   },
   "file_extension": ".py",
   "mimetype": "text/x-python",
   "name": "python",
   "nbconvert_exporter": "python",
   "pygments_lexer": "ipython3",
   "version": "3.9.7"
  }
 },
 "nbformat": 4,
 "nbformat_minor": 5
}
