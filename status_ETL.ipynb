{
 "cells": [
  {
   "cell_type": "code",
   "execution_count": 11,
   "id": "bcbb60d1",
   "metadata": {},
   "outputs": [],
   "source": [
    "import pandas as pd\n",
    "from sqlalchemy import create_engine\n",
    "\n",
    "\n",
    "engine = create_engine('sqlite://', echo=False)"
   ]
  },
  {
   "cell_type": "code",
   "execution_count": 12,
   "id": "4ef5f4b2",
   "metadata": {},
   "outputs": [],
   "source": [
    "loan_df = pd.read_csv(\"status_predictor.csv\")"
   ]
  },
  {
   "cell_type": "code",
   "execution_count": 15,
   "id": "4c61db47",
   "metadata": {},
   "outputs": [],
   "source": [
    "loan_df1 = loan_df.drop([\"Unnamed: 0\",\"loan_status_Fully Paid\",\"loan_status_Late\"], axis=1)"
   ]
  },
  {
   "cell_type": "code",
   "execution_count": 18,
   "id": "5dc50aca",
   "metadata": {},
   "outputs": [],
   "source": [
    "# engine = create_engine('sqlite:///social_db.sqlite')\n",
    "engine = create_engine('sqlite:///status.db', echo=True)\n",
    "sqlite_connection = engine.connect()"
   ]
  },
  {
   "cell_type": "code",
   "execution_count": 19,
   "id": "4de1f91e",
   "metadata": {},
   "outputs": [
    {
     "name": "stdout",
     "output_type": "stream",
     "text": [
      "2022-08-22 20:00:50,244 INFO sqlalchemy.engine.Engine PRAGMA main.table_info(\"all_social1\")\n",
      "2022-08-22 20:00:50,245 INFO sqlalchemy.engine.Engine [raw sql] ()\n",
      "2022-08-22 20:00:50,259 INFO sqlalchemy.engine.Engine PRAGMA temp.table_info(\"all_social1\")\n",
      "2022-08-22 20:00:50,265 INFO sqlalchemy.engine.Engine [raw sql] ()\n",
      "2022-08-22 20:00:50,280 INFO sqlalchemy.engine.Engine \n",
      "CREATE TABLE all_social1 (\n",
      "\t\"index\" BIGINT, \n",
      "\trecoveries FLOAT, \n",
      "\ttotal_rec_late_fee FLOAT, \n",
      "\ttotal_rec_prncp FLOAT, \n",
      "\tdelinq_2yrs FLOAT, \n",
      "\tfico_range_high BIGINT, \n",
      "\ttotal_pymnt FLOAT\n",
      ")\n",
      "\n",
      "\n",
      "2022-08-22 20:00:50,291 INFO sqlalchemy.engine.Engine [no key 0.01103s] ()\n",
      "2022-08-22 20:00:50,319 INFO sqlalchemy.engine.Engine COMMIT\n",
      "2022-08-22 20:00:50,344 INFO sqlalchemy.engine.Engine CREATE INDEX ix_all_social1_index ON all_social1 (\"index\")\n",
      "2022-08-22 20:00:50,347 INFO sqlalchemy.engine.Engine [no key 0.00328s] ()\n",
      "2022-08-22 20:00:50,362 INFO sqlalchemy.engine.Engine COMMIT\n",
      "2022-08-22 20:00:50,434 INFO sqlalchemy.engine.Engine BEGIN (implicit)\n",
      "2022-08-22 20:00:51,056 INFO sqlalchemy.engine.Engine INSERT INTO all_social1 (\"index\", recoveries, total_rec_late_fee, total_rec_prncp, delinq_2yrs, fico_range_high, total_pymnt) VALUES (?, ?, ?, ?, ?, ?, ?)\n",
      "2022-08-22 20:00:51,057 INFO sqlalchemy.engine.Engine [generated in 0.45629s] ((0, 0.0, 0.0, 6500.0, 0.0, 679, 6786.02), (1, 0.0, 0.0, 924.75, 0.0, 699, 1105.76), (2, 0.0, 0.0, 20000.0, 0.0, 694, 22974.52785), (3, 0.0, 28.92, 18097.94, 0.0, 669, 28350.71), (4, 0.0, 0.0, 4208.19, 0.0, 724, 6826.83), (5, 0.0, 0.0, 2500.0, 11.0, 674, 3010.33597), (6, 0.0, 0.0, 9600.0, 0.0, 799, 10808.07406), (7, 0.0, 0.0, 12000.0, 0.0, 714, 12729.02)  ... displaying 10 of 79742 total bound parameter sets ...  (79740, 0.0, 0.0, 2822.96, 0.0, 684, 3928.47), (79741, 0.0, 0.0, 12000.0, 0.0, 754, 12991.80918))\n",
      "2022-08-22 20:00:51,265 INFO sqlalchemy.engine.Engine COMMIT\n"
     ]
    }
   ],
   "source": [
    "sqlite_table = \"status_tb\"\n",
    "loan_df1.to_sql(sqlite_table, sqlite_connection, if_exists='replace')\n",
    "\n",
    "# all_social_df4.to_sql(name='all_social_tb', con=engine, if_exists='append', "
   ]
  },
  {
   "cell_type": "code",
   "execution_count": null,
   "id": "77ac305c",
   "metadata": {},
   "outputs": [],
   "source": []
  }
 ],
 "metadata": {
  "kernelspec": {
   "display_name": "Python 3 (ipykernel)",
   "language": "python",
   "name": "python3"
  },
  "language_info": {
   "codemirror_mode": {
    "name": "ipython",
    "version": 3
   },
   "file_extension": ".py",
   "mimetype": "text/x-python",
   "name": "python",
   "nbconvert_exporter": "python",
   "pygments_lexer": "ipython3",
   "version": "3.9.7"
  }
 },
 "nbformat": 4,
 "nbformat_minor": 5
}
