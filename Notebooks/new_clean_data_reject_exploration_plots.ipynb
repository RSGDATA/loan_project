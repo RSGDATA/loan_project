{
 "cells": [
  {
   "cell_type": "code",
   "execution_count": 1,
   "id": "88792aeb",
   "metadata": {},
   "outputs": [],
   "source": [
    "import pandas as pd\n",
    "\n",
    "import matplotlib.pyplot as plt\n",
    "\n",
    "import numpy as np\n",
    "import seaborn as sns"
   ]
  },
  {
   "cell_type": "code",
   "execution_count": 2,
   "id": "fce72acb",
   "metadata": {
    "scrolled": true
   },
   "outputs": [
    {
     "data": {
      "text/html": [
       "<div>\n",
       "<style scoped>\n",
       "    .dataframe tbody tr th:only-of-type {\n",
       "        vertical-align: middle;\n",
       "    }\n",
       "\n",
       "    .dataframe tbody tr th {\n",
       "        vertical-align: top;\n",
       "    }\n",
       "\n",
       "    .dataframe thead th {\n",
       "        text-align: right;\n",
       "    }\n",
       "</style>\n",
       "<table border=\"1\" class=\"dataframe\">\n",
       "  <thead>\n",
       "    <tr style=\"text-align: right;\">\n",
       "      <th></th>\n",
       "      <th>Amount Requested</th>\n",
       "      <th>Application Date</th>\n",
       "      <th>Loan Title</th>\n",
       "      <th>Risk_Score</th>\n",
       "      <th>Debt-To-Income Ratio</th>\n",
       "      <th>State</th>\n",
       "      <th>Employment Length</th>\n",
       "      <th>Policy Code</th>\n",
       "    </tr>\n",
       "  </thead>\n",
       "  <tbody>\n",
       "    <tr>\n",
       "      <th>0</th>\n",
       "      <td>7000.0</td>\n",
       "      <td>2016-10-18</td>\n",
       "      <td>DEBT_CONSOLIDATION</td>\n",
       "      <td>571.0</td>\n",
       "      <td>6.66</td>\n",
       "      <td>OK</td>\n",
       "      <td>0.5</td>\n",
       "      <td>0.0</td>\n",
       "    </tr>\n",
       "    <tr>\n",
       "      <th>1</th>\n",
       "      <td>20000.0</td>\n",
       "      <td>2018-01-14</td>\n",
       "      <td>DEBT_CONSOLIDATION</td>\n",
       "      <td>626.0</td>\n",
       "      <td>32.17</td>\n",
       "      <td>FL</td>\n",
       "      <td>0.5</td>\n",
       "      <td>0.0</td>\n",
       "    </tr>\n",
       "    <tr>\n",
       "      <th>2</th>\n",
       "      <td>15000.0</td>\n",
       "      <td>2013-09-04</td>\n",
       "      <td>DEBT_CONSOLIDATION</td>\n",
       "      <td>673.0</td>\n",
       "      <td>34.11</td>\n",
       "      <td>NH</td>\n",
       "      <td>0.5</td>\n",
       "      <td>0.0</td>\n",
       "    </tr>\n",
       "    <tr>\n",
       "      <th>3</th>\n",
       "      <td>10000.0</td>\n",
       "      <td>2017-02-16</td>\n",
       "      <td>DEBT_CONSOLIDATION</td>\n",
       "      <td>665.0</td>\n",
       "      <td>24.61</td>\n",
       "      <td>PA</td>\n",
       "      <td>0.5</td>\n",
       "      <td>0.0</td>\n",
       "    </tr>\n",
       "    <tr>\n",
       "      <th>4</th>\n",
       "      <td>2000.0</td>\n",
       "      <td>2016-03-14</td>\n",
       "      <td>HOME</td>\n",
       "      <td>601.0</td>\n",
       "      <td>0.64</td>\n",
       "      <td>AZ</td>\n",
       "      <td>0.5</td>\n",
       "      <td>0.0</td>\n",
       "    </tr>\n",
       "    <tr>\n",
       "      <th>...</th>\n",
       "      <td>...</td>\n",
       "      <td>...</td>\n",
       "      <td>...</td>\n",
       "      <td>...</td>\n",
       "      <td>...</td>\n",
       "      <td>...</td>\n",
       "      <td>...</td>\n",
       "      <td>...</td>\n",
       "    </tr>\n",
       "    <tr>\n",
       "      <th>224895</th>\n",
       "      <td>35000.0</td>\n",
       "      <td>2015-02-11</td>\n",
       "      <td>vacation</td>\n",
       "      <td>653.0</td>\n",
       "      <td>1361.51</td>\n",
       "      <td>TX</td>\n",
       "      <td>0.5</td>\n",
       "      <td>0.0</td>\n",
       "    </tr>\n",
       "    <tr>\n",
       "      <th>224896</th>\n",
       "      <td>4875.0</td>\n",
       "      <td>2013-12-18</td>\n",
       "      <td>CC</td>\n",
       "      <td>680.0</td>\n",
       "      <td>11.94</td>\n",
       "      <td>CA</td>\n",
       "      <td>0.5</td>\n",
       "      <td>0.0</td>\n",
       "    </tr>\n",
       "    <tr>\n",
       "      <th>224897</th>\n",
       "      <td>10000.0</td>\n",
       "      <td>2017-06-28</td>\n",
       "      <td>DEBT_CONSOLIDATION</td>\n",
       "      <td>655.0</td>\n",
       "      <td>17.42</td>\n",
       "      <td>NV</td>\n",
       "      <td>0.5</td>\n",
       "      <td>0.0</td>\n",
       "    </tr>\n",
       "    <tr>\n",
       "      <th>224898</th>\n",
       "      <td>25000.0</td>\n",
       "      <td>2013-04-09</td>\n",
       "      <td>CC</td>\n",
       "      <td>689.0</td>\n",
       "      <td>86.52</td>\n",
       "      <td>CA</td>\n",
       "      <td>0.5</td>\n",
       "      <td>0.0</td>\n",
       "    </tr>\n",
       "    <tr>\n",
       "      <th>224899</th>\n",
       "      <td>20000.0</td>\n",
       "      <td>2016-10-26</td>\n",
       "      <td>No Response</td>\n",
       "      <td>685.0</td>\n",
       "      <td>12.24</td>\n",
       "      <td>WA</td>\n",
       "      <td>0.5</td>\n",
       "      <td>0.0</td>\n",
       "    </tr>\n",
       "  </tbody>\n",
       "</table>\n",
       "<p>224900 rows × 8 columns</p>\n",
       "</div>"
      ],
      "text/plain": [
       "        Amount Requested Application Date          Loan Title  Risk_Score  \\\n",
       "0                 7000.0       2016-10-18  DEBT_CONSOLIDATION       571.0   \n",
       "1                20000.0       2018-01-14  DEBT_CONSOLIDATION       626.0   \n",
       "2                15000.0       2013-09-04  DEBT_CONSOLIDATION       673.0   \n",
       "3                10000.0       2017-02-16  DEBT_CONSOLIDATION       665.0   \n",
       "4                 2000.0       2016-03-14                HOME       601.0   \n",
       "...                  ...              ...                 ...         ...   \n",
       "224895           35000.0       2015-02-11            vacation       653.0   \n",
       "224896            4875.0       2013-12-18                  CC       680.0   \n",
       "224897           10000.0       2017-06-28  DEBT_CONSOLIDATION       655.0   \n",
       "224898           25000.0       2013-04-09                  CC       689.0   \n",
       "224899           20000.0       2016-10-26         No Response       685.0   \n",
       "\n",
       "        Debt-To-Income Ratio State  Employment Length  Policy Code  \n",
       "0                       6.66    OK                0.5          0.0  \n",
       "1                      32.17    FL                0.5          0.0  \n",
       "2                      34.11    NH                0.5          0.0  \n",
       "3                      24.61    PA                0.5          0.0  \n",
       "4                       0.64    AZ                0.5          0.0  \n",
       "...                      ...   ...                ...          ...  \n",
       "224895               1361.51    TX                0.5          0.0  \n",
       "224896                 11.94    CA                0.5          0.0  \n",
       "224897                 17.42    NV                0.5          0.0  \n",
       "224898                 86.52    CA                0.5          0.0  \n",
       "224899                 12.24    WA                0.5          0.0  \n",
       "\n",
       "[224900 rows x 8 columns]"
      ]
     },
     "execution_count": 2,
     "metadata": {},
     "output_type": "execute_result"
    }
   ],
   "source": [
    "rej_df = pd.read_csv(\"Resources/lending_club_rejected_klean_v2.csv\")\n",
    "rej_df"
   ]
  },
  {
   "cell_type": "code",
   "execution_count": 8,
   "id": "48a40584",
   "metadata": {
    "scrolled": true
   },
   "outputs": [
    {
     "data": {
      "text/html": [
       "<div>\n",
       "<style scoped>\n",
       "    .dataframe tbody tr th:only-of-type {\n",
       "        vertical-align: middle;\n",
       "    }\n",
       "\n",
       "    .dataframe tbody tr th {\n",
       "        vertical-align: top;\n",
       "    }\n",
       "\n",
       "    .dataframe thead th {\n",
       "        text-align: right;\n",
       "    }\n",
       "</style>\n",
       "<table border=\"1\" class=\"dataframe\">\n",
       "  <thead>\n",
       "    <tr style=\"text-align: right;\">\n",
       "      <th></th>\n",
       "      <th>Loan Title</th>\n",
       "      <th>Amount Requested</th>\n",
       "      <th>Application Date</th>\n",
       "      <th>Risk_Score</th>\n",
       "      <th>Debt-To-Income Ratio</th>\n",
       "      <th>State</th>\n",
       "      <th>Employment Length</th>\n",
       "      <th>Policy Code</th>\n",
       "    </tr>\n",
       "  </thead>\n",
       "  <tbody>\n",
       "    <tr>\n",
       "      <th>0</th>\n",
       "      <td>AUTO</td>\n",
       "      <td>57025.0</td>\n",
       "      <td>2018-04-09</td>\n",
       "      <td>869.0</td>\n",
       "      <td>100.00</td>\n",
       "      <td>TX</td>\n",
       "      <td>10.0</td>\n",
       "      <td>2.0</td>\n",
       "    </tr>\n",
       "    <tr>\n",
       "      <th>1</th>\n",
       "      <td>BUSINESS</td>\n",
       "      <td>4100.0</td>\n",
       "      <td>2015-02-19</td>\n",
       "      <td>733.0</td>\n",
       "      <td>14.56</td>\n",
       "      <td>TX</td>\n",
       "      <td>10.0</td>\n",
       "      <td>0.0</td>\n",
       "    </tr>\n",
       "    <tr>\n",
       "      <th>2</th>\n",
       "      <td>CC</td>\n",
       "      <td>33500.0</td>\n",
       "      <td>2018-01-17</td>\n",
       "      <td>790.0</td>\n",
       "      <td>418.82</td>\n",
       "      <td>TX</td>\n",
       "      <td>6.0</td>\n",
       "      <td>2.0</td>\n",
       "    </tr>\n",
       "    <tr>\n",
       "      <th>3</th>\n",
       "      <td>DEBT_CONSOLIDATION</td>\n",
       "      <td>38500.0</td>\n",
       "      <td>2018-05-15</td>\n",
       "      <td>925.0</td>\n",
       "      <td>9999.00</td>\n",
       "      <td>TX</td>\n",
       "      <td>10.0</td>\n",
       "      <td>2.0</td>\n",
       "    </tr>\n",
       "    <tr>\n",
       "      <th>4</th>\n",
       "      <td>HOME</td>\n",
       "      <td>31500.0</td>\n",
       "      <td>2018-09-26</td>\n",
       "      <td>745.0</td>\n",
       "      <td>364.90</td>\n",
       "      <td>TX</td>\n",
       "      <td>7.0</td>\n",
       "      <td>0.0</td>\n",
       "    </tr>\n",
       "    <tr>\n",
       "      <th>5</th>\n",
       "      <td>IMPROVEMENT</td>\n",
       "      <td>38000.0</td>\n",
       "      <td>2017-12-28</td>\n",
       "      <td>883.0</td>\n",
       "      <td>142.09</td>\n",
       "      <td>TX</td>\n",
       "      <td>10.0</td>\n",
       "      <td>0.0</td>\n",
       "    </tr>\n",
       "    <tr>\n",
       "      <th>6</th>\n",
       "      <td>MAJOR_PURCHASE</td>\n",
       "      <td>36000.0</td>\n",
       "      <td>2018-10-13</td>\n",
       "      <td>830.0</td>\n",
       "      <td>226.55</td>\n",
       "      <td>TX</td>\n",
       "      <td>10.0</td>\n",
       "      <td>0.0</td>\n",
       "    </tr>\n",
       "    <tr>\n",
       "      <th>7</th>\n",
       "      <td>MEDICAL</td>\n",
       "      <td>37000.0</td>\n",
       "      <td>2017-11-25</td>\n",
       "      <td>860.0</td>\n",
       "      <td>663.92</td>\n",
       "      <td>TX</td>\n",
       "      <td>5.0</td>\n",
       "      <td>0.0</td>\n",
       "    </tr>\n",
       "    <tr>\n",
       "      <th>8</th>\n",
       "      <td>No Response</td>\n",
       "      <td>39000.0</td>\n",
       "      <td>2018-11-29</td>\n",
       "      <td>864.0</td>\n",
       "      <td>38850.00</td>\n",
       "      <td>TX</td>\n",
       "      <td>10.0</td>\n",
       "      <td>0.0</td>\n",
       "    </tr>\n",
       "    <tr>\n",
       "      <th>9</th>\n",
       "      <td>Other</td>\n",
       "      <td>32000.0</td>\n",
       "      <td>2018-12-02</td>\n",
       "      <td>844.0</td>\n",
       "      <td>9999.00</td>\n",
       "      <td>TX</td>\n",
       "      <td>10.0</td>\n",
       "      <td>2.0</td>\n",
       "    </tr>\n",
       "    <tr>\n",
       "      <th>10</th>\n",
       "      <td>PAYOFF</td>\n",
       "      <td>33000.0</td>\n",
       "      <td>2018-05-19</td>\n",
       "      <td>824.0</td>\n",
       "      <td>50.19</td>\n",
       "      <td>TX</td>\n",
       "      <td>5.0</td>\n",
       "      <td>0.0</td>\n",
       "    </tr>\n",
       "    <tr>\n",
       "      <th>11</th>\n",
       "      <td>WEDDING</td>\n",
       "      <td>9000.0</td>\n",
       "      <td>2018-12-19</td>\n",
       "      <td>878.0</td>\n",
       "      <td>336.59</td>\n",
       "      <td>TX</td>\n",
       "      <td>10.0</td>\n",
       "      <td>2.0</td>\n",
       "    </tr>\n",
       "    <tr>\n",
       "      <th>12</th>\n",
       "      <td>renewable_energy</td>\n",
       "      <td>32325.0</td>\n",
       "      <td>2018-01-09</td>\n",
       "      <td>810.0</td>\n",
       "      <td>176.27</td>\n",
       "      <td>TX</td>\n",
       "      <td>10.0</td>\n",
       "      <td>0.0</td>\n",
       "    </tr>\n",
       "    <tr>\n",
       "      <th>13</th>\n",
       "      <td>vacation</td>\n",
       "      <td>40000.0</td>\n",
       "      <td>2018-12-31</td>\n",
       "      <td>971.0</td>\n",
       "      <td>1192800.00</td>\n",
       "      <td>TX</td>\n",
       "      <td>10.0</td>\n",
       "      <td>2.0</td>\n",
       "    </tr>\n",
       "  </tbody>\n",
       "</table>\n",
       "</div>"
      ],
      "text/plain": [
       "            Loan Title  Amount Requested Application Date  Risk_Score  \\\n",
       "0                 AUTO           57025.0       2018-04-09       869.0   \n",
       "1             BUSINESS            4100.0       2015-02-19       733.0   \n",
       "2                   CC           33500.0       2018-01-17       790.0   \n",
       "3   DEBT_CONSOLIDATION           38500.0       2018-05-15       925.0   \n",
       "4                 HOME           31500.0       2018-09-26       745.0   \n",
       "5          IMPROVEMENT           38000.0       2017-12-28       883.0   \n",
       "6       MAJOR_PURCHASE           36000.0       2018-10-13       830.0   \n",
       "7              MEDICAL           37000.0       2017-11-25       860.0   \n",
       "8          No Response           39000.0       2018-11-29       864.0   \n",
       "9                Other           32000.0       2018-12-02       844.0   \n",
       "10              PAYOFF           33000.0       2018-05-19       824.0   \n",
       "11             WEDDING            9000.0       2018-12-19       878.0   \n",
       "12    renewable_energy           32325.0       2018-01-09       810.0   \n",
       "13            vacation           40000.0       2018-12-31       971.0   \n",
       "\n",
       "    Debt-To-Income Ratio State  Employment Length  Policy Code  \n",
       "0                 100.00    TX               10.0          2.0  \n",
       "1                  14.56    TX               10.0          0.0  \n",
       "2                 418.82    TX                6.0          2.0  \n",
       "3                9999.00    TX               10.0          2.0  \n",
       "4                 364.90    TX                7.0          0.0  \n",
       "5                 142.09    TX               10.0          0.0  \n",
       "6                 226.55    TX               10.0          0.0  \n",
       "7                 663.92    TX                5.0          0.0  \n",
       "8               38850.00    TX               10.0          0.0  \n",
       "9                9999.00    TX               10.0          2.0  \n",
       "10                 50.19    TX                5.0          0.0  \n",
       "11                336.59    TX               10.0          2.0  \n",
       "12                176.27    TX               10.0          0.0  \n",
       "13            1192800.00    TX               10.0          2.0  "
      ]
     },
     "execution_count": 8,
     "metadata": {},
     "output_type": "execute_result"
    }
   ],
   "source": [
    "loc_df = rej_df.loc[rej_df[\"State\"] == \"TX\"]\n",
    "\n",
    "tx_g = loc_df.groupby(\"Amount Requested\", as_index=False).max()\n",
    "tx_g1 = tx_g.groupby(\"Loan Title\", as_index = False).max()\n",
    "\n",
    "tx_g1"
   ]
  },
  {
   "cell_type": "code",
   "execution_count": 18,
   "id": "abeee037",
   "metadata": {},
   "outputs": [
    {
     "data": {
      "text/html": [
       "<div>\n",
       "<style scoped>\n",
       "    .dataframe tbody tr th:only-of-type {\n",
       "        vertical-align: middle;\n",
       "    }\n",
       "\n",
       "    .dataframe tbody tr th {\n",
       "        vertical-align: top;\n",
       "    }\n",
       "\n",
       "    .dataframe thead th {\n",
       "        text-align: right;\n",
       "    }\n",
       "</style>\n",
       "<table border=\"1\" class=\"dataframe\">\n",
       "  <thead>\n",
       "    <tr style=\"text-align: right;\">\n",
       "      <th></th>\n",
       "      <th>Loan Title</th>\n",
       "      <th>Amount Requested</th>\n",
       "      <th>Application Date</th>\n",
       "      <th>Risk_Score</th>\n",
       "      <th>Debt-To-Income Ratio</th>\n",
       "      <th>State</th>\n",
       "      <th>Employment Length</th>\n",
       "      <th>Policy Code</th>\n",
       "    </tr>\n",
       "  </thead>\n",
       "  <tbody>\n",
       "    <tr>\n",
       "      <th>0</th>\n",
       "      <td>AUTO</td>\n",
       "      <td>60625.0</td>\n",
       "      <td>2018-01-24</td>\n",
       "      <td>990.0</td>\n",
       "      <td>100.00</td>\n",
       "      <td>CA</td>\n",
       "      <td>10.0</td>\n",
       "      <td>2.0</td>\n",
       "    </tr>\n",
       "    <tr>\n",
       "      <th>1</th>\n",
       "      <td>CC</td>\n",
       "      <td>35150.0</td>\n",
       "      <td>2018-06-08</td>\n",
       "      <td>877.0</td>\n",
       "      <td>118.91</td>\n",
       "      <td>CA</td>\n",
       "      <td>10.0</td>\n",
       "      <td>2.0</td>\n",
       "    </tr>\n",
       "    <tr>\n",
       "      <th>2</th>\n",
       "      <td>DEBT_CONSOLIDATION</td>\n",
       "      <td>37500.0</td>\n",
       "      <td>2018-12-28</td>\n",
       "      <td>916.0</td>\n",
       "      <td>9999.00</td>\n",
       "      <td>CA</td>\n",
       "      <td>10.0</td>\n",
       "      <td>2.0</td>\n",
       "    </tr>\n",
       "    <tr>\n",
       "      <th>3</th>\n",
       "      <td>HOME</td>\n",
       "      <td>13200.0</td>\n",
       "      <td>2018-11-01</td>\n",
       "      <td>719.0</td>\n",
       "      <td>12089.33</td>\n",
       "      <td>CA</td>\n",
       "      <td>6.0</td>\n",
       "      <td>0.0</td>\n",
       "    </tr>\n",
       "    <tr>\n",
       "      <th>4</th>\n",
       "      <td>IMPROVEMENT</td>\n",
       "      <td>50000.0</td>\n",
       "      <td>2018-01-10</td>\n",
       "      <td>791.0</td>\n",
       "      <td>439.85</td>\n",
       "      <td>CA</td>\n",
       "      <td>10.0</td>\n",
       "      <td>2.0</td>\n",
       "    </tr>\n",
       "    <tr>\n",
       "      <th>5</th>\n",
       "      <td>MAJOR_PURCHASE</td>\n",
       "      <td>34000.0</td>\n",
       "      <td>2018-04-24</td>\n",
       "      <td>825.0</td>\n",
       "      <td>239.18</td>\n",
       "      <td>CA</td>\n",
       "      <td>10.0</td>\n",
       "      <td>0.0</td>\n",
       "    </tr>\n",
       "    <tr>\n",
       "      <th>6</th>\n",
       "      <td>MEDICAL</td>\n",
       "      <td>16500.0</td>\n",
       "      <td>2018-07-21</td>\n",
       "      <td>841.0</td>\n",
       "      <td>149.22</td>\n",
       "      <td>CA</td>\n",
       "      <td>10.0</td>\n",
       "      <td>0.0</td>\n",
       "    </tr>\n",
       "    <tr>\n",
       "      <th>7</th>\n",
       "      <td>No Response</td>\n",
       "      <td>39975.0</td>\n",
       "      <td>2018-12-17</td>\n",
       "      <td>925.0</td>\n",
       "      <td>9999.00</td>\n",
       "      <td>CA</td>\n",
       "      <td>10.0</td>\n",
       "      <td>0.0</td>\n",
       "    </tr>\n",
       "    <tr>\n",
       "      <th>8</th>\n",
       "      <td>Other</td>\n",
       "      <td>23750.0</td>\n",
       "      <td>2018-12-14</td>\n",
       "      <td>844.0</td>\n",
       "      <td>49940.33</td>\n",
       "      <td>CA</td>\n",
       "      <td>10.0</td>\n",
       "      <td>0.0</td>\n",
       "    </tr>\n",
       "    <tr>\n",
       "      <th>9</th>\n",
       "      <td>PAYOFF</td>\n",
       "      <td>30000.0</td>\n",
       "      <td>2018-12-11</td>\n",
       "      <td>990.0</td>\n",
       "      <td>9999.00</td>\n",
       "      <td>CA</td>\n",
       "      <td>10.0</td>\n",
       "      <td>2.0</td>\n",
       "    </tr>\n",
       "    <tr>\n",
       "      <th>10</th>\n",
       "      <td>WEDDING</td>\n",
       "      <td>32000.0</td>\n",
       "      <td>2018-12-23</td>\n",
       "      <td>990.0</td>\n",
       "      <td>56687.50</td>\n",
       "      <td>CA</td>\n",
       "      <td>10.0</td>\n",
       "      <td>2.0</td>\n",
       "    </tr>\n",
       "    <tr>\n",
       "      <th>11</th>\n",
       "      <td>renewable_energy</td>\n",
       "      <td>16000.0</td>\n",
       "      <td>2018-12-13</td>\n",
       "      <td>792.0</td>\n",
       "      <td>521.48</td>\n",
       "      <td>CA</td>\n",
       "      <td>10.0</td>\n",
       "      <td>0.0</td>\n",
       "    </tr>\n",
       "    <tr>\n",
       "      <th>12</th>\n",
       "      <td>vacation</td>\n",
       "      <td>40000.0</td>\n",
       "      <td>2018-12-31</td>\n",
       "      <td>990.0</td>\n",
       "      <td>199998.00</td>\n",
       "      <td>CA</td>\n",
       "      <td>10.0</td>\n",
       "      <td>2.0</td>\n",
       "    </tr>\n",
       "  </tbody>\n",
       "</table>\n",
       "</div>"
      ],
      "text/plain": [
       "            Loan Title  Amount Requested Application Date  Risk_Score  \\\n",
       "0                 AUTO           60625.0       2018-01-24       990.0   \n",
       "1                   CC           35150.0       2018-06-08       877.0   \n",
       "2   DEBT_CONSOLIDATION           37500.0       2018-12-28       916.0   \n",
       "3                 HOME           13200.0       2018-11-01       719.0   \n",
       "4          IMPROVEMENT           50000.0       2018-01-10       791.0   \n",
       "5       MAJOR_PURCHASE           34000.0       2018-04-24       825.0   \n",
       "6              MEDICAL           16500.0       2018-07-21       841.0   \n",
       "7          No Response           39975.0       2018-12-17       925.0   \n",
       "8                Other           23750.0       2018-12-14       844.0   \n",
       "9               PAYOFF           30000.0       2018-12-11       990.0   \n",
       "10             WEDDING           32000.0       2018-12-23       990.0   \n",
       "11    renewable_energy           16000.0       2018-12-13       792.0   \n",
       "12            vacation           40000.0       2018-12-31       990.0   \n",
       "\n",
       "    Debt-To-Income Ratio State  Employment Length  Policy Code  \n",
       "0                 100.00    CA               10.0          2.0  \n",
       "1                 118.91    CA               10.0          2.0  \n",
       "2                9999.00    CA               10.0          2.0  \n",
       "3               12089.33    CA                6.0          0.0  \n",
       "4                 439.85    CA               10.0          2.0  \n",
       "5                 239.18    CA               10.0          0.0  \n",
       "6                 149.22    CA               10.0          0.0  \n",
       "7                9999.00    CA               10.0          0.0  \n",
       "8               49940.33    CA               10.0          0.0  \n",
       "9                9999.00    CA               10.0          2.0  \n",
       "10              56687.50    CA               10.0          2.0  \n",
       "11                521.48    CA               10.0          0.0  \n",
       "12             199998.00    CA               10.0          2.0  "
      ]
     },
     "execution_count": 18,
     "metadata": {},
     "output_type": "execute_result"
    }
   ],
   "source": [
    "loc_df = rej_df.loc[rej_df[\"State\"] == \"CA\"]\n",
    "\n",
    "ca_g = loc_df.groupby(\"Amount Requested\", as_index=False).max()\n",
    "ca_g = ca_g.groupby(\"Loan Title\", as_index = False).max()\n",
    "\n",
    "ca_g"
   ]
  },
  {
   "cell_type": "code",
   "execution_count": 19,
   "id": "783ea56f",
   "metadata": {},
   "outputs": [
    {
     "data": {
      "text/plain": [
       "<BarContainer object of 13 artists>"
      ]
     },
     "execution_count": 19,
     "metadata": {},
     "output_type": "execute_result"
    },
    {
     "data": {
      "image/png": "[encoded data removed]",
      "text/plain": [
       "<Figure size 432x288 with 1 Axes>"
      ]
     },
     "metadata": {
      "needs_background": "light"
     },
     "output_type": "display_data"
    }
   ],
   "source": [
    "x = ca_g[\"Loan Title\"]\n",
    "\n",
    "y = ca_g[\"Risk_Score\"]\n",
    "\n",
    "plt. xticks(rotation='vertical')\n",
    "\n",
    "plt.barh(x,y)"
   ]
  },
  {
   "cell_type": "code",
   "execution_count": 20,
   "id": "160ee853",
   "metadata": {
    "scrolled": true
   },
   "outputs": [
    {
     "data": {
      "text/plain": [
       "<BarContainer object of 14 artists>"
      ]
     },
     "execution_count": 20,
     "metadata": {},
     "output_type": "execute_result"
    },
    {
     "data": {
      "image/png": "[encoded data removed]",
      "text/plain": [
       "<Figure size 432x288 with 1 Axes>"
      ]
     },
     "metadata": {
      "needs_background": "light"
     },
     "output_type": "display_data"
    }
   ],
   "source": [
    "x = tx_g1[\"Loan Title\"]\n",
    "\n",
    "y = tx_g1[\"Risk_Score\"]\n",
    "\n",
    "plt. xticks(rotation='vertical')\n",
    "\n",
    "plt.barh(x,y)"
   ]
  },
  {
   "cell_type": "code",
   "execution_count": null,
   "id": "d0535005",
   "metadata": {},
   "outputs": [],
   "source": []
  },
  {
   "cell_type": "code",
   "execution_count": null,
   "id": "d83b1671",
   "metadata": {
    "scrolled": true
   },
   "outputs": [],
   "source": [
    "g_df1 = rej_df.groupby(\"State\", as_index=False).mean()"
   ]
  },
  {
   "cell_type": "code",
   "execution_count": null,
   "id": "588a8900",
   "metadata": {},
   "outputs": [],
   "source": []
  },
  {
   "cell_type": "code",
   "execution_count": null,
   "id": "95073619",
   "metadata": {},
   "outputs": [],
   "source": [
    "\n",
    "sns.heatmap(rej_df.corr());\n",
    "\n",
    "# plt.bar()"
   ]
  },
  {
   "cell_type": "code",
   "execution_count": 58,
   "id": "0a4482ef",
   "metadata": {},
   "outputs": [
    {
     "data": {
      "text/html": [
       "<div>\n",
       "<style scoped>\n",
       "    .dataframe tbody tr th:only-of-type {\n",
       "        vertical-align: middle;\n",
       "    }\n",
       "\n",
       "    .dataframe tbody tr th {\n",
       "        vertical-align: top;\n",
       "    }\n",
       "\n",
       "    .dataframe thead th {\n",
       "        text-align: right;\n",
       "    }\n",
       "</style>\n",
       "<table border=\"1\" class=\"dataframe\">\n",
       "  <thead>\n",
       "    <tr style=\"text-align: right;\">\n",
       "      <th></th>\n",
       "      <th>Application Date</th>\n",
       "      <th>Amount Requested</th>\n",
       "      <th>Risk_Score</th>\n",
       "      <th>Debt-To-Income Ratio</th>\n",
       "      <th>Employment Length</th>\n",
       "      <th>Policy Code</th>\n",
       "    </tr>\n",
       "  </thead>\n",
       "  <tbody>\n",
       "    <tr>\n",
       "      <th>0</th>\n",
       "      <td>2007-05-31</td>\n",
       "      <td>12500.000000</td>\n",
       "      <td>578.000000</td>\n",
       "      <td>31.820000</td>\n",
       "      <td>9.000000</td>\n",
       "      <td>0.0</td>\n",
       "    </tr>\n",
       "    <tr>\n",
       "      <th>1</th>\n",
       "      <td>2007-06-02</td>\n",
       "      <td>5000.000000</td>\n",
       "      <td>0.000000</td>\n",
       "      <td>0.000000</td>\n",
       "      <td>1.000000</td>\n",
       "      <td>0.0</td>\n",
       "    </tr>\n",
       "    <tr>\n",
       "      <th>2</th>\n",
       "      <td>2007-06-11</td>\n",
       "      <td>4000.000000</td>\n",
       "      <td>628.000000</td>\n",
       "      <td>6.360000</td>\n",
       "      <td>0.500000</td>\n",
       "      <td>0.0</td>\n",
       "    </tr>\n",
       "    <tr>\n",
       "      <th>3</th>\n",
       "      <td>2007-06-14</td>\n",
       "      <td>4000.000000</td>\n",
       "      <td>640.000000</td>\n",
       "      <td>48.600000</td>\n",
       "      <td>4.000000</td>\n",
       "      <td>0.0</td>\n",
       "    </tr>\n",
       "    <tr>\n",
       "      <th>4</th>\n",
       "      <td>2007-06-17</td>\n",
       "      <td>2000.000000</td>\n",
       "      <td>628.000000</td>\n",
       "      <td>10.450000</td>\n",
       "      <td>1.000000</td>\n",
       "      <td>0.0</td>\n",
       "    </tr>\n",
       "    <tr>\n",
       "      <th>...</th>\n",
       "      <td>...</td>\n",
       "      <td>...</td>\n",
       "      <td>...</td>\n",
       "      <td>...</td>\n",
       "      <td>...</td>\n",
       "      <td>...</td>\n",
       "    </tr>\n",
       "    <tr>\n",
       "      <th>3948</th>\n",
       "      <td>2018-12-27</td>\n",
       "      <td>10295.454545</td>\n",
       "      <td>598.954545</td>\n",
       "      <td>23.398636</td>\n",
       "      <td>1.136364</td>\n",
       "      <td>0.0</td>\n",
       "    </tr>\n",
       "    <tr>\n",
       "      <th>3949</th>\n",
       "      <td>2018-12-28</td>\n",
       "      <td>13065.217391</td>\n",
       "      <td>627.260870</td>\n",
       "      <td>38.111739</td>\n",
       "      <td>1.130435</td>\n",
       "      <td>0.0</td>\n",
       "    </tr>\n",
       "    <tr>\n",
       "      <th>3950</th>\n",
       "      <td>2018-12-29</td>\n",
       "      <td>6464.285714</td>\n",
       "      <td>630.071429</td>\n",
       "      <td>38.040000</td>\n",
       "      <td>0.535714</td>\n",
       "      <td>0.0</td>\n",
       "    </tr>\n",
       "    <tr>\n",
       "      <th>3951</th>\n",
       "      <td>2018-12-30</td>\n",
       "      <td>9045.454545</td>\n",
       "      <td>645.000000</td>\n",
       "      <td>25.090000</td>\n",
       "      <td>0.500000</td>\n",
       "      <td>0.0</td>\n",
       "    </tr>\n",
       "    <tr>\n",
       "      <th>3952</th>\n",
       "      <td>2018-12-31</td>\n",
       "      <td>8175.000000</td>\n",
       "      <td>643.900000</td>\n",
       "      <td>54.023000</td>\n",
       "      <td>0.950000</td>\n",
       "      <td>0.0</td>\n",
       "    </tr>\n",
       "  </tbody>\n",
       "</table>\n",
       "<p>3953 rows × 6 columns</p>\n",
       "</div>"
      ],
      "text/plain": [
       "     Application Date  Amount Requested  Risk_Score  Debt-To-Income Ratio  \\\n",
       "0          2007-05-31      12500.000000  578.000000             31.820000   \n",
       "1          2007-06-02       5000.000000    0.000000              0.000000   \n",
       "2          2007-06-11       4000.000000  628.000000              6.360000   \n",
       "3          2007-06-14       4000.000000  640.000000             48.600000   \n",
       "4          2007-06-17       2000.000000  628.000000             10.450000   \n",
       "...               ...               ...         ...                   ...   \n",
       "3948       2018-12-27      10295.454545  598.954545             23.398636   \n",
       "3949       2018-12-28      13065.217391  627.260870             38.111739   \n",
       "3950       2018-12-29       6464.285714  630.071429             38.040000   \n",
       "3951       2018-12-30       9045.454545  645.000000             25.090000   \n",
       "3952       2018-12-31       8175.000000  643.900000             54.023000   \n",
       "\n",
       "      Employment Length  Policy Code  \n",
       "0              9.000000          0.0  \n",
       "1              1.000000          0.0  \n",
       "2              0.500000          0.0  \n",
       "3              4.000000          0.0  \n",
       "4              1.000000          0.0  \n",
       "...                 ...          ...  \n",
       "3948           1.136364          0.0  \n",
       "3949           1.130435          0.0  \n",
       "3950           0.535714          0.0  \n",
       "3951           0.500000          0.0  \n",
       "3952           0.950000          0.0  \n",
       "\n",
       "[3953 rows x 6 columns]"
      ]
     },
     "execution_count": 58,
     "metadata": {},
     "output_type": "execute_result"
    }
   ],
   "source": [
    "g_df = rej_df.groupby(\"Application Date\", as_index = False).mean()\n",
    "\n",
    "g_df"
   ]
  },
  {
   "cell_type": "code",
   "execution_count": 100,
   "id": "0d3b22db",
   "metadata": {},
   "outputs": [
    {
     "data": {
      "text/plain": [
       "<matplotlib.collections.PathCollection at 0x7f90170a1580>"
      ]
     },
     "execution_count": 100,
     "metadata": {},
     "output_type": "execute_result"
    },
    {
     "data": {
      "image/png": "[encoded data removed]",
      "text/plain": [
       "<Figure size 432x288 with 1 Axes>"
      ]
     },
     "metadata": {
      "needs_background": "light"
     },
     "output_type": "display_data"
    }
   ],
   "source": [
    "\n",
    "x = g_df[\"Amount Requested\"]\n",
    "y = g_df[\"Risk_Score\"]\n",
    "\n",
    "plt.scatter(x,y)"
   ]
  },
  {
   "cell_type": "code",
   "execution_count": 53,
   "id": "38a7128f",
   "metadata": {},
   "outputs": [
    {
     "data": {
      "text/plain": [
       "(array([9.7519e+04, 6.1154e+04, 2.4957e+04, 2.0518e+04, 1.3449e+04,\n",
       "        7.2450e+03, 3.7000e+01, 1.2000e+01, 5.0000e+00, 4.0000e+00]),\n",
       " array([  500.,  7950., 15400., 22850., 30300., 37750., 45200., 52650.,\n",
       "        60100., 67550., 75000.]),\n",
       " <BarContainer object of 10 artists>)"
      ]
     },
     "execution_count": 53,
     "metadata": {},
     "output_type": "execute_result"
    },
    {
     "data": {
      "image/png": "[encoded data removed]",
      "text/plain": [
       "<Figure size 432x288 with 1 Axes>"
      ]
     },
     "metadata": {
      "needs_background": "light"
     },
     "output_type": "display_data"
    }
   ],
   "source": [
    "hist = rej_df[\"Amount Requested\"]\n",
    "plt.hist(hist)"
   ]
  },
  {
   "cell_type": "code",
   "execution_count": 41,
   "id": "1d1007dc",
   "metadata": {},
   "outputs": [
    {
     "data": {
      "text/plain": [
       "(array([2.19500e+03, 0.00000e+00, 0.00000e+00, 6.70000e+01, 2.00300e+03,\n",
       "        5.45250e+04, 1.29888e+05, 3.36160e+04, 2.40900e+03, 1.97000e+02]),\n",
       " array([  0.,  99., 198., 297., 396., 495., 594., 693., 792., 891., 990.]),\n",
       " <BarContainer object of 10 artists>)"
      ]
     },
     "execution_count": 41,
     "metadata": {},
     "output_type": "execute_result"
    },
    {
     "data": {
      "image/png": "[encoded data removed]",
      "text/plain": [
       "<Figure size 432x288 with 1 Axes>"
      ]
     },
     "metadata": {
      "needs_background": "light"
     },
     "output_type": "display_data"
    }
   ],
   "source": [
    "hist1 = rej_df[\"Risk_Score\"]\n",
    "\n",
    "plt.hist(hist1)"
   ]
  },
  {
   "cell_type": "code",
   "execution_count": 42,
   "id": "22a4e069",
   "metadata": {},
   "outputs": [
    {
     "data": {
      "text/plain": [
       "(array([2.24896e+05, 2.00000e+00, 1.00000e+00, 0.00000e+00, 0.00000e+00,\n",
       "        0.00000e+00, 0.00000e+00, 0.00000e+00, 0.00000e+00, 1.00000e+00]),\n",
       " array([-1.0000000e+00,  4.4087910e+05,  8.8175920e+05,  1.3226393e+06,\n",
       "         1.7635194e+06,  2.2043995e+06,  2.6452796e+06,  3.0861597e+06,\n",
       "         3.5270398e+06,  3.9679199e+06,  4.4088000e+06]),\n",
       " <BarContainer object of 10 artists>)"
      ]
     },
     "execution_count": 42,
     "metadata": {},
     "output_type": "execute_result"
    },
    {
     "data": {
      "image/png": "[encoded data removed]",
      "text/plain": [
       "<Figure size 432x288 with 1 Axes>"
      ]
     },
     "metadata": {
      "needs_background": "light"
     },
     "output_type": "display_data"
    }
   ],
   "source": [
    "hist2 = rej_df[\"Debt-To-Income Ratio\"]\n",
    "\n",
    "plt.hist(hist2)"
   ]
  },
  {
   "cell_type": "code",
   "execution_count": 86,
   "id": "c4d20736",
   "metadata": {},
   "outputs": [
    {
     "data": {
      "text/plain": [
       " 0.00       10760\n",
       " 100.00      4009\n",
       " 9999.00      493\n",
       "-1.00         364\n",
       " 1.20         282\n",
       "            ...  \n",
       " 249.55         1\n",
       " 106.14         1\n",
       " 121.60         1\n",
       " 138.63         1\n",
       " 86.52          1\n",
       "Name: Debt-To-Income Ratio, Length: 14864, dtype: int64"
      ]
     },
     "execution_count": 86,
     "metadata": {},
     "output_type": "execute_result"
    }
   ],
   "source": [
    "\n",
    "\n",
    "nan_sum = rej_df[\"Debt-To-Income Ratio\"].value_counts()\n",
    "\n",
    "nan_sum\n",
    "# with pd.option_context('display.max_rows', None, 'display.max_columns', None):  # more options can be specified also\n",
    "#     print(nan_sum) "
   ]
  },
  {
   "cell_type": "code",
   "execution_count": 93,
   "id": "5a18bdbf",
   "metadata": {},
   "outputs": [
    {
     "data": {
      "text/plain": [
       "(array([224511.,      0.,      0.,      0.,      0.,      0.,      0.,\n",
       "             0.,      0.,    389.]),\n",
       " array([0. , 0.2, 0.4, 0.6, 0.8, 1. , 1.2, 1.4, 1.6, 1.8, 2. ]),\n",
       " <BarContainer object of 10 artists>)"
      ]
     },
     "execution_count": 93,
     "metadata": {},
     "output_type": "execute_result"
    },
    {
     "data": {
      "image/png": "[encoded data removed]",
      "text/plain": [
       "<Figure size 432x288 with 1 Axes>"
      ]
     },
     "metadata": {
      "needs_background": "light"
     },
     "output_type": "display_data"
    }
   ],
   "source": [
    "hist3 = rej_df[\"Policy Code\"]\n",
    "\n",
    "plt.hist(hist3)"
   ]
  },
  {
   "cell_type": "code",
   "execution_count": 94,
   "id": "c1a61ce4",
   "metadata": {},
   "outputs": [
    {
     "data": {
      "text/plain": [
       "(array([206148.,   1936.,   1666.,   1309.,   5663.,    891.,    767.,\n",
       "           665.,    517.,   5338.]),\n",
       " array([ 0.5 ,  1.45,  2.4 ,  3.35,  4.3 ,  5.25,  6.2 ,  7.15,  8.1 ,\n",
       "         9.05, 10.  ]),\n",
       " <BarContainer object of 10 artists>)"
      ]
     },
     "execution_count": 94,
     "metadata": {},
     "output_type": "execute_result"
    },
    {
     "data": {
      "image/png": "[encoded data removed]",
      "text/plain": [
       "<Figure size 432x288 with 1 Axes>"
      ]
     },
     "metadata": {
      "needs_background": "light"
     },
     "output_type": "display_data"
    }
   ],
   "source": [
    "hist4 = rej_df[\"Employment Length\"]\n",
    "\n",
    "plt.hist(hist4)"
   ]
  },
  {
   "cell_type": "code",
   "execution_count": 89,
   "id": "d1820678",
   "metadata": {
    "scrolled": true
   },
   "outputs": [
    {
     "data": {
      "text/plain": [
       "0.5     204217\n",
       "5.0       5663\n",
       "10.0      5338\n",
       "2.0       1936\n",
       "1.0       1931\n",
       "3.0       1666\n",
       "4.0       1309\n",
       "6.0        891\n",
       "7.0        767\n",
       "8.0        665\n",
       "9.0        517\n",
       "Name: Employment Length, dtype: int64"
      ]
     },
     "execution_count": 89,
     "metadata": {},
     "output_type": "execute_result"
    }
   ],
   "source": [
    "rej_df[\"Employment Length\"].value_counts()"
   ]
  },
  {
   "cell_type": "code",
   "execution_count": 91,
   "id": "cdbc113f",
   "metadata": {},
   "outputs": [
    {
     "data": {
      "text/plain": [
       "Index(['Amount Requested', 'Application Date', 'Loan Title', 'Risk_Score',\n",
       "       'Debt-To-Income Ratio', 'State', 'Employment Length', 'Policy Code'],\n",
       "      dtype='object')"
      ]
     },
     "execution_count": 91,
     "metadata": {},
     "output_type": "execute_result"
    }
   ],
   "source": [
    "rej_df.columns"
   ]
  },
  {
   "cell_type": "code",
   "execution_count": 95,
   "id": "58b1a7e3",
   "metadata": {},
   "outputs": [
    {
     "data": {
      "text/plain": [
       "(array([206148.,   1936.,   1666.,   1309.,   5663.,    891.,    767.,\n",
       "           665.,    517.,   5338.]),\n",
       " array([ 0.5 ,  1.45,  2.4 ,  3.35,  4.3 ,  5.25,  6.2 ,  7.15,  8.1 ,\n",
       "         9.05, 10.  ]),\n",
       " <BarContainer object of 10 artists>)"
      ]
     },
     "execution_count": 95,
     "metadata": {},
     "output_type": "execute_result"
    },
    {
     "data": {
      "image/png": "[encoded data removed]",
      "text/plain": [
       "<Figure size 432x288 with 1 Axes>"
      ]
     },
     "metadata": {
      "needs_background": "light"
     },
     "output_type": "display_data"
    }
   ],
   "source": [
    "hist5 = rej_df[\"Employment Length\"]\n",
    "\n",
    "plt.hist(hist5)"
   ]
  },
  {
   "cell_type": "code",
   "execution_count": null,
   "id": "3092500b",
   "metadata": {},
   "outputs": [],
   "source": []
  },
  {
   "cell_type": "code",
   "execution_count": null,
   "id": "6f8abc8d",
   "metadata": {},
   "outputs": [],
   "source": []
  },
  {
   "cell_type": "code",
   "execution_count": null,
   "id": "88742b8c",
   "metadata": {},
   "outputs": [],
   "source": []
  }
 ],
 "metadata": {
  "kernelspec": {
   "display_name": "Python 3 (ipykernel)",
   "language": "python",
   "name": "python3"
  },
  "language_info": {
   "codemirror_mode": {
    "name": "ipython",
    "version": 3
   },
   "file_extension": ".py",
   "mimetype": "text/x-python",
   "name": "python",
   "nbconvert_exporter": "python",
   "pygments_lexer": "ipython3",
   "version": "3.9.7"
  }
 },
 "nbformat": 4,
 "nbformat_minor": 5
}
