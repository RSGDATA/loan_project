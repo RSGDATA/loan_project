{
 "cells": [
  {
   "cell_type": "code",
   "execution_count": 1,
   "id": "22db51f5",
   "metadata": {},
   "outputs": [],
   "source": [
    "import numpy as np\n",
    "import pandas as pd\n",
    "from pathlib import Path\n",
    "\n",
    "from sklearn import tree\n",
    "from sklearn.model_selection import train_test_split\n",
    "from sklearn.linear_model import LinearRegression, Ridge, Lasso, ElasticNet, LogisticRegression\n",
    "from sklearn.preprocessing import StandardScaler\n",
    "from sklearn.ensemble import RandomForestClassifier\n",
    "from sklearn.metrics import confusion_matrix\n",
    "import pickle\n",
    "from sklearn.neighbors import KNeighborsRegressor\n",
    "from sklearn.ensemble import RandomForestRegressor, ExtraTreesRegressor, AdaBoostRegressor\n",
    "from sklearn.neighbors import KNeighborsClassifier\n",
    "from sklearn.ensemble import RandomForestClassifier, ExtraTreesClassifier, AdaBoostClassifier\n",
    "from sklearn.svm import SVR\n",
    "\n",
    "import time\n",
    "\n",
    "from concurrent.futures import ThreadPoolExecutor, ProcessPoolExecutor"
   ]
  },
  {
   "cell_type": "code",
   "execution_count": 2,
   "id": "2acaca24",
   "metadata": {
    "scrolled": true
   },
   "outputs": [
    {
     "data": {
      "text/html": [
       "<div>\n",
       "<style scoped>\n",
       "    .dataframe tbody tr th:only-of-type {\n",
       "        vertical-align: middle;\n",
       "    }\n",
       "\n",
       "    .dataframe tbody tr th {\n",
       "        vertical-align: top;\n",
       "    }\n",
       "\n",
       "    .dataframe thead th {\n",
       "        text-align: right;\n",
       "    }\n",
       "</style>\n",
       "<table border=\"1\" class=\"dataframe\">\n",
       "  <thead>\n",
       "    <tr style=\"text-align: right;\">\n",
       "      <th></th>\n",
       "      <th>loan_amnt</th>\n",
       "      <th>term</th>\n",
       "      <th>int_rate</th>\n",
       "      <th>installment</th>\n",
       "      <th>emp_length</th>\n",
       "      <th>home_ownership</th>\n",
       "      <th>annual_inc</th>\n",
       "      <th>verification_status</th>\n",
       "      <th>loan_status</th>\n",
       "      <th>pymnt_plan</th>\n",
       "      <th>...</th>\n",
       "      <th>num_tl_op_past_12m</th>\n",
       "      <th>pct_tl_nvr_dlq</th>\n",
       "      <th>percent_bc_gt_75</th>\n",
       "      <th>pub_rec_bankruptcies</th>\n",
       "      <th>tax_liens</th>\n",
       "      <th>tot_hi_cred_lim</th>\n",
       "      <th>total_bal_ex_mort</th>\n",
       "      <th>total_bc_limit</th>\n",
       "      <th>total_il_high_credit_limit</th>\n",
       "      <th>disbursement_method</th>\n",
       "    </tr>\n",
       "  </thead>\n",
       "  <tbody>\n",
       "    <tr>\n",
       "      <th>0</th>\n",
       "      <td>32000.0</td>\n",
       "      <td>60 months</td>\n",
       "      <td>10.49</td>\n",
       "      <td>687.65</td>\n",
       "      <td>10+ years</td>\n",
       "      <td>MORTGAGE</td>\n",
       "      <td>120000.0</td>\n",
       "      <td>Verified</td>\n",
       "      <td>Current</td>\n",
       "      <td>n</td>\n",
       "      <td>...</td>\n",
       "      <td>4.0</td>\n",
       "      <td>100.0</td>\n",
       "      <td>28.6</td>\n",
       "      <td>0.0</td>\n",
       "      <td>0.0</td>\n",
       "      <td>556496.0</td>\n",
       "      <td>103647.0</td>\n",
       "      <td>64100.0</td>\n",
       "      <td>72197.0</td>\n",
       "      <td>Cash</td>\n",
       "    </tr>\n",
       "    <tr>\n",
       "      <th>1</th>\n",
       "      <td>9600.0</td>\n",
       "      <td>36 months</td>\n",
       "      <td>12.99</td>\n",
       "      <td>323.42</td>\n",
       "      <td>NaN</td>\n",
       "      <td>RENT</td>\n",
       "      <td>21900.0</td>\n",
       "      <td>Verified</td>\n",
       "      <td>Fully Paid</td>\n",
       "      <td>n</td>\n",
       "      <td>...</td>\n",
       "      <td>2.0</td>\n",
       "      <td>100.0</td>\n",
       "      <td>50.0</td>\n",
       "      <td>1.0</td>\n",
       "      <td>0.0</td>\n",
       "      <td>11600.0</td>\n",
       "      <td>4509.0</td>\n",
       "      <td>2400.0</td>\n",
       "      <td>0.0</td>\n",
       "      <td>Cash</td>\n",
       "    </tr>\n",
       "    <tr>\n",
       "      <th>2</th>\n",
       "      <td>4000.0</td>\n",
       "      <td>36 months</td>\n",
       "      <td>6.68</td>\n",
       "      <td>122.93</td>\n",
       "      <td>4 years</td>\n",
       "      <td>MORTGAGE</td>\n",
       "      <td>83000.0</td>\n",
       "      <td>Not Verified</td>\n",
       "      <td>Fully Paid</td>\n",
       "      <td>n</td>\n",
       "      <td>...</td>\n",
       "      <td>2.0</td>\n",
       "      <td>100.0</td>\n",
       "      <td>0.0</td>\n",
       "      <td>0.0</td>\n",
       "      <td>0.0</td>\n",
       "      <td>222616.0</td>\n",
       "      <td>64253.0</td>\n",
       "      <td>5600.0</td>\n",
       "      <td>76154.0</td>\n",
       "      <td>Cash</td>\n",
       "    </tr>\n",
       "    <tr>\n",
       "      <th>3</th>\n",
       "      <td>6025.0</td>\n",
       "      <td>36 months</td>\n",
       "      <td>10.91</td>\n",
       "      <td>197.00</td>\n",
       "      <td>10+ years</td>\n",
       "      <td>RENT</td>\n",
       "      <td>52000.0</td>\n",
       "      <td>Not Verified</td>\n",
       "      <td>Fully Paid</td>\n",
       "      <td>n</td>\n",
       "      <td>...</td>\n",
       "      <td>0.0</td>\n",
       "      <td>96.0</td>\n",
       "      <td>0.0</td>\n",
       "      <td>0.0</td>\n",
       "      <td>0.0</td>\n",
       "      <td>32227.0</td>\n",
       "      <td>5559.0</td>\n",
       "      <td>11000.0</td>\n",
       "      <td>11127.0</td>\n",
       "      <td>Cash</td>\n",
       "    </tr>\n",
       "    <tr>\n",
       "      <th>4</th>\n",
       "      <td>25000.0</td>\n",
       "      <td>60 months</td>\n",
       "      <td>26.30</td>\n",
       "      <td>752.96</td>\n",
       "      <td>10+ years</td>\n",
       "      <td>OWN</td>\n",
       "      <td>65000.0</td>\n",
       "      <td>Verified</td>\n",
       "      <td>Current</td>\n",
       "      <td>n</td>\n",
       "      <td>...</td>\n",
       "      <td>3.0</td>\n",
       "      <td>78.8</td>\n",
       "      <td>10.0</td>\n",
       "      <td>0.0</td>\n",
       "      <td>0.0</td>\n",
       "      <td>257219.0</td>\n",
       "      <td>97647.0</td>\n",
       "      <td>179400.0</td>\n",
       "      <td>65719.0</td>\n",
       "      <td>Cash</td>\n",
       "    </tr>\n",
       "  </tbody>\n",
       "</table>\n",
       "<p>5 rows × 100 columns</p>\n",
       "</div>"
      ],
      "text/plain": [
       "   loan_amnt        term  int_rate  installment emp_length home_ownership  \\\n",
       "0    32000.0   60 months     10.49       687.65  10+ years       MORTGAGE   \n",
       "1     9600.0   36 months     12.99       323.42        NaN           RENT   \n",
       "2     4000.0   36 months      6.68       122.93    4 years       MORTGAGE   \n",
       "3     6025.0   36 months     10.91       197.00  10+ years           RENT   \n",
       "4    25000.0   60 months     26.30       752.96  10+ years            OWN   \n",
       "\n",
       "   annual_inc verification_status loan_status pymnt_plan  ...  \\\n",
       "0    120000.0            Verified     Current          n  ...   \n",
       "1     21900.0            Verified  Fully Paid          n  ...   \n",
       "2     83000.0        Not Verified  Fully Paid          n  ...   \n",
       "3     52000.0        Not Verified  Fully Paid          n  ...   \n",
       "4     65000.0            Verified     Current          n  ...   \n",
       "\n",
       "  num_tl_op_past_12m pct_tl_nvr_dlq percent_bc_gt_75 pub_rec_bankruptcies  \\\n",
       "0                4.0          100.0             28.6                  0.0   \n",
       "1                2.0          100.0             50.0                  1.0   \n",
       "2                2.0          100.0              0.0                  0.0   \n",
       "3                0.0           96.0              0.0                  0.0   \n",
       "4                3.0           78.8             10.0                  0.0   \n",
       "\n",
       "   tax_liens  tot_hi_cred_lim  total_bal_ex_mort  total_bc_limit  \\\n",
       "0        0.0         556496.0           103647.0         64100.0   \n",
       "1        0.0          11600.0             4509.0          2400.0   \n",
       "2        0.0         222616.0            64253.0          5600.0   \n",
       "3        0.0          32227.0             5559.0         11000.0   \n",
       "4        0.0         257219.0            97647.0        179400.0   \n",
       "\n",
       "   total_il_high_credit_limit  disbursement_method  \n",
       "0                     72197.0                 Cash  \n",
       "1                         0.0                 Cash  \n",
       "2                     76154.0                 Cash  \n",
       "3                     11127.0                 Cash  \n",
       "4                     65719.0                 Cash  \n",
       "\n",
       "[5 rows x 100 columns]"
      ]
     },
     "execution_count": 2,
     "metadata": {},
     "output_type": "execute_result"
    }
   ],
   "source": [
    "accepted_df = pd.read_csv(\"../Resources/lending_club_accepted.csv\")\n",
    "accepted_df.head()"
   ]
  },
  {
   "cell_type": "code",
   "execution_count": 3,
   "id": "a7118a3c",
   "metadata": {},
   "outputs": [
    {
     "data": {
      "text/html": [
       "<div>\n",
       "<style scoped>\n",
       "    .dataframe tbody tr th:only-of-type {\n",
       "        vertical-align: middle;\n",
       "    }\n",
       "\n",
       "    .dataframe tbody tr th {\n",
       "        vertical-align: top;\n",
       "    }\n",
       "\n",
       "    .dataframe thead th {\n",
       "        text-align: right;\n",
       "    }\n",
       "</style>\n",
       "<table border=\"1\" class=\"dataframe\">\n",
       "  <thead>\n",
       "    <tr style=\"text-align: right;\">\n",
       "      <th></th>\n",
       "      <th>Amount Requested</th>\n",
       "      <th>Application Date</th>\n",
       "      <th>Loan Title</th>\n",
       "      <th>Risk_Score</th>\n",
       "      <th>Debt-To-Income Ratio</th>\n",
       "      <th>Zip Code</th>\n",
       "      <th>State</th>\n",
       "      <th>Employment Length</th>\n",
       "      <th>Policy Code</th>\n",
       "    </tr>\n",
       "  </thead>\n",
       "  <tbody>\n",
       "    <tr>\n",
       "      <th>0</th>\n",
       "      <td>15000.0</td>\n",
       "      <td>2015-10-29</td>\n",
       "      <td>debt_consolidation</td>\n",
       "      <td>NaN</td>\n",
       "      <td>54.58%</td>\n",
       "      <td>761xx</td>\n",
       "      <td>TX</td>\n",
       "      <td>&lt; 1 year</td>\n",
       "      <td>0.0</td>\n",
       "    </tr>\n",
       "    <tr>\n",
       "      <th>1</th>\n",
       "      <td>10000.0</td>\n",
       "      <td>2017-10-28</td>\n",
       "      <td>Credit card refinancing</td>\n",
       "      <td>605.0</td>\n",
       "      <td>28.71%</td>\n",
       "      <td>076xx</td>\n",
       "      <td>NJ</td>\n",
       "      <td>NaN</td>\n",
       "      <td>0.0</td>\n",
       "    </tr>\n",
       "    <tr>\n",
       "      <th>2</th>\n",
       "      <td>10000.0</td>\n",
       "      <td>2018-03-09</td>\n",
       "      <td>Debt consolidation</td>\n",
       "      <td>NaN</td>\n",
       "      <td>58.06%</td>\n",
       "      <td>087xx</td>\n",
       "      <td>NJ</td>\n",
       "      <td>&lt; 1 year</td>\n",
       "      <td>0.0</td>\n",
       "    </tr>\n",
       "    <tr>\n",
       "      <th>3</th>\n",
       "      <td>7000.0</td>\n",
       "      <td>2016-10-18</td>\n",
       "      <td>Debt consolidation</td>\n",
       "      <td>571.0</td>\n",
       "      <td>6.66%</td>\n",
       "      <td>731xx</td>\n",
       "      <td>OK</td>\n",
       "      <td>&lt; 1 year</td>\n",
       "      <td>0.0</td>\n",
       "    </tr>\n",
       "    <tr>\n",
       "      <th>4</th>\n",
       "      <td>5000.0</td>\n",
       "      <td>2017-02-07</td>\n",
       "      <td>other</td>\n",
       "      <td>NaN</td>\n",
       "      <td>2.23%</td>\n",
       "      <td>537xx</td>\n",
       "      <td>WI</td>\n",
       "      <td>&lt; 1 year</td>\n",
       "      <td>0.0</td>\n",
       "    </tr>\n",
       "  </tbody>\n",
       "</table>\n",
       "</div>"
      ],
      "text/plain": [
       "   Amount Requested Application Date               Loan Title  Risk_Score  \\\n",
       "0           15000.0       2015-10-29       debt_consolidation         NaN   \n",
       "1           10000.0       2017-10-28  Credit card refinancing       605.0   \n",
       "2           10000.0       2018-03-09       Debt consolidation         NaN   \n",
       "3            7000.0       2016-10-18       Debt consolidation       571.0   \n",
       "4            5000.0       2017-02-07                    other         NaN   \n",
       "\n",
       "  Debt-To-Income Ratio Zip Code State Employment Length  Policy Code  \n",
       "0               54.58%    761xx    TX          < 1 year          0.0  \n",
       "1               28.71%    076xx    NJ               NaN          0.0  \n",
       "2               58.06%    087xx    NJ          < 1 year          0.0  \n",
       "3                6.66%    731xx    OK          < 1 year          0.0  \n",
       "4                2.23%    537xx    WI          < 1 year          0.0  "
      ]
     },
     "execution_count": 3,
     "metadata": {},
     "output_type": "execute_result"
    }
   ],
   "source": [
    "rejected_df = pd.read_csv(\"../Resources/lending_club_rejected.csv\")\n",
    "rejected_df.head()"
   ]
  },
  {
   "cell_type": "code",
   "execution_count": 4,
   "id": "f0204b9f",
   "metadata": {},
   "outputs": [
    {
     "data": {
      "text/html": [
       "<div>\n",
       "<style scoped>\n",
       "    .dataframe tbody tr th:only-of-type {\n",
       "        vertical-align: middle;\n",
       "    }\n",
       "\n",
       "    .dataframe tbody tr th {\n",
       "        vertical-align: top;\n",
       "    }\n",
       "\n",
       "    .dataframe thead th {\n",
       "        text-align: right;\n",
       "    }\n",
       "</style>\n",
       "<table border=\"1\" class=\"dataframe\">\n",
       "  <thead>\n",
       "    <tr style=\"text-align: right;\">\n",
       "      <th></th>\n",
       "      <th>Amount Requested</th>\n",
       "      <th>Loan Title</th>\n",
       "      <th>Debt-To-Income Ratio</th>\n",
       "      <th>Zip Code</th>\n",
       "      <th>State</th>\n",
       "      <th>Employment Length</th>\n",
       "      <th>Policy Code</th>\n",
       "    </tr>\n",
       "  </thead>\n",
       "  <tbody>\n",
       "    <tr>\n",
       "      <th>0</th>\n",
       "      <td>32000.0</td>\n",
       "      <td>Debt consolidation</td>\n",
       "      <td>24.05</td>\n",
       "      <td>919xx</td>\n",
       "      <td>CA</td>\n",
       "      <td>10+ years</td>\n",
       "      <td>1.0</td>\n",
       "    </tr>\n",
       "    <tr>\n",
       "      <th>1</th>\n",
       "      <td>9600.0</td>\n",
       "      <td>Debt consolidation</td>\n",
       "      <td>10.03</td>\n",
       "      <td>331xx</td>\n",
       "      <td>FL</td>\n",
       "      <td>NaN</td>\n",
       "      <td>1.0</td>\n",
       "    </tr>\n",
       "    <tr>\n",
       "      <th>2</th>\n",
       "      <td>4000.0</td>\n",
       "      <td>Major purchase</td>\n",
       "      <td>19.53</td>\n",
       "      <td>333xx</td>\n",
       "      <td>FL</td>\n",
       "      <td>4 years</td>\n",
       "      <td>1.0</td>\n",
       "    </tr>\n",
       "    <tr>\n",
       "      <th>3</th>\n",
       "      <td>6025.0</td>\n",
       "      <td>Debt consolidation</td>\n",
       "      <td>9.16</td>\n",
       "      <td>021xx</td>\n",
       "      <td>MA</td>\n",
       "      <td>10+ years</td>\n",
       "      <td>1.0</td>\n",
       "    </tr>\n",
       "    <tr>\n",
       "      <th>4</th>\n",
       "      <td>25000.0</td>\n",
       "      <td>Debt consolidation</td>\n",
       "      <td>36.26</td>\n",
       "      <td>926xx</td>\n",
       "      <td>CA</td>\n",
       "      <td>10+ years</td>\n",
       "      <td>1.0</td>\n",
       "    </tr>\n",
       "  </tbody>\n",
       "</table>\n",
       "</div>"
      ],
      "text/plain": [
       "   Amount Requested          Loan Title  Debt-To-Income Ratio Zip Code State  \\\n",
       "0           32000.0  Debt consolidation                 24.05    919xx    CA   \n",
       "1            9600.0  Debt consolidation                 10.03    331xx    FL   \n",
       "2            4000.0      Major purchase                 19.53    333xx    FL   \n",
       "3            6025.0  Debt consolidation                  9.16    021xx    MA   \n",
       "4           25000.0  Debt consolidation                 36.26    926xx    CA   \n",
       "\n",
       "  Employment Length  Policy Code  \n",
       "0         10+ years          1.0  \n",
       "1               NaN          1.0  \n",
       "2           4 years          1.0  \n",
       "3         10+ years          1.0  \n",
       "4         10+ years          1.0  "
      ]
     },
     "execution_count": 4,
     "metadata": {},
     "output_type": "execute_result"
    }
   ],
   "source": [
    "accepted_df_2 = accepted_df[['loan_amnt', 'title', 'dti', 'zip_code','addr_state', 'emp_length', 'policy_code']].rename(columns = {\n",
    "    'loan_amnt': 'Amount Requested',\n",
    "    'title': 'Loan Title',\n",
    "    'dti': 'Debt-To-Income Ratio',\n",
    "    'zip_code': 'Zip Code',\n",
    "    'addr_state': 'State',\n",
    "    'emp_length': 'Employment Length',\n",
    "    'policy_code': 'Policy Code'\n",
    "})\n",
    "accepted_df_2.head()"
   ]
  },
  {
   "cell_type": "code",
   "execution_count": 5,
   "id": "176c1feb",
   "metadata": {
    "scrolled": true
   },
   "outputs": [
    {
     "data": {
      "text/html": [
       "<div>\n",
       "<style scoped>\n",
       "    .dataframe tbody tr th:only-of-type {\n",
       "        vertical-align: middle;\n",
       "    }\n",
       "\n",
       "    .dataframe tbody tr th {\n",
       "        vertical-align: top;\n",
       "    }\n",
       "\n",
       "    .dataframe thead th {\n",
       "        text-align: right;\n",
       "    }\n",
       "</style>\n",
       "<table border=\"1\" class=\"dataframe\">\n",
       "  <thead>\n",
       "    <tr style=\"text-align: right;\">\n",
       "      <th></th>\n",
       "      <th>Amount Requested</th>\n",
       "      <th>Loan Title</th>\n",
       "      <th>Debt-To-Income Ratio</th>\n",
       "      <th>Zip Code</th>\n",
       "      <th>State</th>\n",
       "      <th>Employment Length</th>\n",
       "      <th>Policy Code</th>\n",
       "    </tr>\n",
       "  </thead>\n",
       "  <tbody>\n",
       "    <tr>\n",
       "      <th>0</th>\n",
       "      <td>15000.0</td>\n",
       "      <td>debt_consolidation</td>\n",
       "      <td>54.58%</td>\n",
       "      <td>761xx</td>\n",
       "      <td>TX</td>\n",
       "      <td>&lt; 1 year</td>\n",
       "      <td>0.0</td>\n",
       "    </tr>\n",
       "    <tr>\n",
       "      <th>1</th>\n",
       "      <td>10000.0</td>\n",
       "      <td>Credit card refinancing</td>\n",
       "      <td>28.71%</td>\n",
       "      <td>076xx</td>\n",
       "      <td>NJ</td>\n",
       "      <td>NaN</td>\n",
       "      <td>0.0</td>\n",
       "    </tr>\n",
       "    <tr>\n",
       "      <th>2</th>\n",
       "      <td>10000.0</td>\n",
       "      <td>Debt consolidation</td>\n",
       "      <td>58.06%</td>\n",
       "      <td>087xx</td>\n",
       "      <td>NJ</td>\n",
       "      <td>&lt; 1 year</td>\n",
       "      <td>0.0</td>\n",
       "    </tr>\n",
       "    <tr>\n",
       "      <th>3</th>\n",
       "      <td>7000.0</td>\n",
       "      <td>Debt consolidation</td>\n",
       "      <td>6.66%</td>\n",
       "      <td>731xx</td>\n",
       "      <td>OK</td>\n",
       "      <td>&lt; 1 year</td>\n",
       "      <td>0.0</td>\n",
       "    </tr>\n",
       "    <tr>\n",
       "      <th>4</th>\n",
       "      <td>5000.0</td>\n",
       "      <td>other</td>\n",
       "      <td>2.23%</td>\n",
       "      <td>537xx</td>\n",
       "      <td>WI</td>\n",
       "      <td>&lt; 1 year</td>\n",
       "      <td>0.0</td>\n",
       "    </tr>\n",
       "  </tbody>\n",
       "</table>\n",
       "</div>"
      ],
      "text/plain": [
       "   Amount Requested               Loan Title Debt-To-Income Ratio Zip Code  \\\n",
       "0           15000.0       debt_consolidation               54.58%    761xx   \n",
       "1           10000.0  Credit card refinancing               28.71%    076xx   \n",
       "2           10000.0       Debt consolidation               58.06%    087xx   \n",
       "3            7000.0       Debt consolidation                6.66%    731xx   \n",
       "4            5000.0                    other                2.23%    537xx   \n",
       "\n",
       "  State Employment Length  Policy Code  \n",
       "0    TX          < 1 year          0.0  \n",
       "1    NJ               NaN          0.0  \n",
       "2    NJ          < 1 year          0.0  \n",
       "3    OK          < 1 year          0.0  \n",
       "4    WI          < 1 year          0.0  "
      ]
     },
     "execution_count": 5,
     "metadata": {},
     "output_type": "execute_result"
    }
   ],
   "source": [
    "rejected_df_2 = rejected_df.drop(['Application Date', 'Risk_Score'], axis=1)\n",
    "rejected_df_2.head()"
   ]
  },
  {
   "cell_type": "code",
   "execution_count": 6,
   "id": "bcbc459d",
   "metadata": {},
   "outputs": [],
   "source": [
    "rejected_df_2['Debt-To-Income Ratio'] = rejected_df_2['Debt-To-Income Ratio'].str.replace('%','')\n",
    "rejected_df_2 = rejected_df_2.astype({\n",
    "    'Debt-To-Income Ratio': float\n",
    "})"
   ]
  },
  {
   "cell_type": "code",
   "execution_count": 7,
   "id": "4ba11693",
   "metadata": {},
   "outputs": [
    {
     "data": {
      "text/html": [
       "<div>\n",
       "<style scoped>\n",
       "    .dataframe tbody tr th:only-of-type {\n",
       "        vertical-align: middle;\n",
       "    }\n",
       "\n",
       "    .dataframe tbody tr th {\n",
       "        vertical-align: top;\n",
       "    }\n",
       "\n",
       "    .dataframe thead th {\n",
       "        text-align: right;\n",
       "    }\n",
       "</style>\n",
       "<table border=\"1\" class=\"dataframe\">\n",
       "  <thead>\n",
       "    <tr style=\"text-align: right;\">\n",
       "      <th></th>\n",
       "      <th>Amount Requested</th>\n",
       "      <th>Loan Title</th>\n",
       "      <th>Debt-To-Income Ratio</th>\n",
       "      <th>Zip Code</th>\n",
       "      <th>State</th>\n",
       "      <th>Employment Length</th>\n",
       "      <th>Policy Code</th>\n",
       "    </tr>\n",
       "  </thead>\n",
       "  <tbody>\n",
       "    <tr>\n",
       "      <th>0</th>\n",
       "      <td>15000.0</td>\n",
       "      <td>debt_consolidation</td>\n",
       "      <td>54.58</td>\n",
       "      <td>761xx</td>\n",
       "      <td>TX</td>\n",
       "      <td>&lt; 1 year</td>\n",
       "      <td>0.0</td>\n",
       "    </tr>\n",
       "    <tr>\n",
       "      <th>1</th>\n",
       "      <td>10000.0</td>\n",
       "      <td>Credit card refinancing</td>\n",
       "      <td>28.71</td>\n",
       "      <td>076xx</td>\n",
       "      <td>NJ</td>\n",
       "      <td>NaN</td>\n",
       "      <td>0.0</td>\n",
       "    </tr>\n",
       "    <tr>\n",
       "      <th>2</th>\n",
       "      <td>10000.0</td>\n",
       "      <td>Debt consolidation</td>\n",
       "      <td>58.06</td>\n",
       "      <td>087xx</td>\n",
       "      <td>NJ</td>\n",
       "      <td>&lt; 1 year</td>\n",
       "      <td>0.0</td>\n",
       "    </tr>\n",
       "    <tr>\n",
       "      <th>3</th>\n",
       "      <td>7000.0</td>\n",
       "      <td>Debt consolidation</td>\n",
       "      <td>6.66</td>\n",
       "      <td>731xx</td>\n",
       "      <td>OK</td>\n",
       "      <td>&lt; 1 year</td>\n",
       "      <td>0.0</td>\n",
       "    </tr>\n",
       "    <tr>\n",
       "      <th>4</th>\n",
       "      <td>5000.0</td>\n",
       "      <td>other</td>\n",
       "      <td>2.23</td>\n",
       "      <td>537xx</td>\n",
       "      <td>WI</td>\n",
       "      <td>&lt; 1 year</td>\n",
       "      <td>0.0</td>\n",
       "    </tr>\n",
       "  </tbody>\n",
       "</table>\n",
       "</div>"
      ],
      "text/plain": [
       "   Amount Requested               Loan Title  Debt-To-Income Ratio Zip Code  \\\n",
       "0           15000.0       debt_consolidation                 54.58    761xx   \n",
       "1           10000.0  Credit card refinancing                 28.71    076xx   \n",
       "2           10000.0       Debt consolidation                 58.06    087xx   \n",
       "3            7000.0       Debt consolidation                  6.66    731xx   \n",
       "4            5000.0                    other                  2.23    537xx   \n",
       "\n",
       "  State Employment Length  Policy Code  \n",
       "0    TX          < 1 year          0.0  \n",
       "1    NJ               NaN          0.0  \n",
       "2    NJ          < 1 year          0.0  \n",
       "3    OK          < 1 year          0.0  \n",
       "4    WI          < 1 year          0.0  "
      ]
     },
     "execution_count": 7,
     "metadata": {},
     "output_type": "execute_result"
    }
   ],
   "source": [
    "rejected_df_2.head()"
   ]
  },
  {
   "cell_type": "code",
   "execution_count": 8,
   "id": "7fea233b",
   "metadata": {},
   "outputs": [
    {
     "data": {
      "text/plain": [
       "56518"
      ]
     },
     "execution_count": 8,
     "metadata": {},
     "output_type": "execute_result"
    }
   ],
   "source": [
    "len(accepted_df_2)"
   ]
  },
  {
   "cell_type": "code",
   "execution_count": 9,
   "id": "c715853c",
   "metadata": {},
   "outputs": [
    {
     "data": {
      "text/plain": [
       "691219"
      ]
     },
     "execution_count": 9,
     "metadata": {},
     "output_type": "execute_result"
    }
   ],
   "source": [
    "len(rejected_df_2)"
   ]
  },
  {
   "cell_type": "code",
   "execution_count": 10,
   "id": "f8b071e9",
   "metadata": {},
   "outputs": [
    {
     "data": {
      "text/plain": [
       "56518"
      ]
     },
     "execution_count": 10,
     "metadata": {},
     "output_type": "execute_result"
    }
   ],
   "source": [
    "rejected_sample = rejected_df_2.sample(frac=0.0817656922, random_state=42)\n",
    "len(rejected_sample)"
   ]
  },
  {
   "cell_type": "code",
   "execution_count": 11,
   "id": "9582c15d",
   "metadata": {},
   "outputs": [],
   "source": [
    "# Some policy codes are 2.\n",
    "# https://news.fintechnexus.com/policy-code-2-loans-lending-club/\n",
    "# policy code 0 means rejected\n",
    "# policy code 1 means accepted\n",
    "# policy code 2 means accepted, but considered sub-prime on credit rating\n",
    "\n",
    "# We're merely predicting whether or not someone's loan will be accepted or rejected, \n",
    "# so we'll change the status and simplify our model\n",
    "rejected_sample['Policy Code'] = 0\n",
    "accepted_df_2['Policy Code'] = 1"
   ]
  },
  {
   "cell_type": "code",
   "execution_count": 12,
   "id": "23a0d1de",
   "metadata": {},
   "outputs": [
    {
     "data": {
      "text/plain": [
       "113036"
      ]
     },
     "execution_count": 12,
     "metadata": {},
     "output_type": "execute_result"
    }
   ],
   "source": [
    "loan_application_df = pd.DataFrame.append(accepted_df_2, rejected_sample)\n",
    "\n",
    "len(loan_application_df)"
   ]
  },
  {
   "cell_type": "markdown",
   "id": "117e2f20",
   "metadata": {},
   "source": [
    "# Converting Employment Length to numeric for now\n",
    "## Need to remove after csv files have been changed to numeric"
   ]
  },
  {
   "cell_type": "code",
   "execution_count": 13,
   "id": "e851b32d",
   "metadata": {},
   "outputs": [],
   "source": [
    "loan_application_df['Employment Length']  = loan_application_df['Employment Length'].replace('< 1 year', 0.5).replace('10+ years', 10).\\\n",
    "replace('2 years', 2).replace('3 years', 3).replace('1 year', 1).replace('4 years', 4).replace('5 years', 5).\\\n",
    "replace('6 years', 6).replace('7 years', 7).replace('8 years', 8).replace('8 years', 8).replace('9 years', 9)"
   ]
  },
  {
   "cell_type": "code",
   "execution_count": 14,
   "id": "bf507fbe",
   "metadata": {},
   "outputs": [
    {
     "data": {
      "text/html": [
       "<div>\n",
       "<style scoped>\n",
       "    .dataframe tbody tr th:only-of-type {\n",
       "        vertical-align: middle;\n",
       "    }\n",
       "\n",
       "    .dataframe tbody tr th {\n",
       "        vertical-align: top;\n",
       "    }\n",
       "\n",
       "    .dataframe thead th {\n",
       "        text-align: right;\n",
       "    }\n",
       "</style>\n",
       "<table border=\"1\" class=\"dataframe\">\n",
       "  <thead>\n",
       "    <tr style=\"text-align: right;\">\n",
       "      <th></th>\n",
       "      <th>Amount Requested</th>\n",
       "      <th>Loan Title</th>\n",
       "      <th>Debt-To-Income Ratio</th>\n",
       "      <th>Zip Code</th>\n",
       "      <th>State</th>\n",
       "      <th>Employment Length</th>\n",
       "      <th>Policy Code</th>\n",
       "    </tr>\n",
       "  </thead>\n",
       "  <tbody>\n",
       "    <tr>\n",
       "      <th>0</th>\n",
       "      <td>32000.0</td>\n",
       "      <td>Debt consolidation</td>\n",
       "      <td>24.05</td>\n",
       "      <td>919xx</td>\n",
       "      <td>CA</td>\n",
       "      <td>10.0</td>\n",
       "      <td>1</td>\n",
       "    </tr>\n",
       "    <tr>\n",
       "      <th>1</th>\n",
       "      <td>9600.0</td>\n",
       "      <td>Debt consolidation</td>\n",
       "      <td>10.03</td>\n",
       "      <td>331xx</td>\n",
       "      <td>FL</td>\n",
       "      <td>NaN</td>\n",
       "      <td>1</td>\n",
       "    </tr>\n",
       "    <tr>\n",
       "      <th>2</th>\n",
       "      <td>4000.0</td>\n",
       "      <td>Major purchase</td>\n",
       "      <td>19.53</td>\n",
       "      <td>333xx</td>\n",
       "      <td>FL</td>\n",
       "      <td>4.0</td>\n",
       "      <td>1</td>\n",
       "    </tr>\n",
       "    <tr>\n",
       "      <th>3</th>\n",
       "      <td>6025.0</td>\n",
       "      <td>Debt consolidation</td>\n",
       "      <td>9.16</td>\n",
       "      <td>021xx</td>\n",
       "      <td>MA</td>\n",
       "      <td>10.0</td>\n",
       "      <td>1</td>\n",
       "    </tr>\n",
       "    <tr>\n",
       "      <th>4</th>\n",
       "      <td>25000.0</td>\n",
       "      <td>Debt consolidation</td>\n",
       "      <td>36.26</td>\n",
       "      <td>926xx</td>\n",
       "      <td>CA</td>\n",
       "      <td>10.0</td>\n",
       "      <td>1</td>\n",
       "    </tr>\n",
       "  </tbody>\n",
       "</table>\n",
       "</div>"
      ],
      "text/plain": [
       "   Amount Requested          Loan Title  Debt-To-Income Ratio Zip Code State  \\\n",
       "0           32000.0  Debt consolidation                 24.05    919xx    CA   \n",
       "1            9600.0  Debt consolidation                 10.03    331xx    FL   \n",
       "2            4000.0      Major purchase                 19.53    333xx    FL   \n",
       "3            6025.0  Debt consolidation                  9.16    021xx    MA   \n",
       "4           25000.0  Debt consolidation                 36.26    926xx    CA   \n",
       "\n",
       "   Employment Length  Policy Code  \n",
       "0               10.0            1  \n",
       "1                NaN            1  \n",
       "2                4.0            1  \n",
       "3               10.0            1  \n",
       "4               10.0            1  "
      ]
     },
     "execution_count": 14,
     "metadata": {},
     "output_type": "execute_result"
    }
   ],
   "source": [
    "loan_application_df.head()"
   ]
  },
  {
   "cell_type": "code",
   "execution_count": 15,
   "id": "bed3f701",
   "metadata": {},
   "outputs": [
    {
     "data": {
      "text/plain": [
       "107013"
      ]
     },
     "execution_count": 15,
     "metadata": {},
     "output_type": "execute_result"
    }
   ],
   "source": [
    "len(loan_application_df.dropna())"
   ]
  },
  {
   "cell_type": "code",
   "execution_count": 16,
   "id": "fad71655",
   "metadata": {},
   "outputs": [],
   "source": [
    "loan_application_df = loan_application_df.dropna()"
   ]
  },
  {
   "cell_type": "code",
   "execution_count": 17,
   "id": "5e2157bc",
   "metadata": {},
   "outputs": [
    {
     "data": {
      "text/html": [
       "<div>\n",
       "<style scoped>\n",
       "    .dataframe tbody tr th:only-of-type {\n",
       "        vertical-align: middle;\n",
       "    }\n",
       "\n",
       "    .dataframe tbody tr th {\n",
       "        vertical-align: top;\n",
       "    }\n",
       "\n",
       "    .dataframe thead th {\n",
       "        text-align: right;\n",
       "    }\n",
       "</style>\n",
       "<table border=\"1\" class=\"dataframe\">\n",
       "  <thead>\n",
       "    <tr style=\"text-align: right;\">\n",
       "      <th></th>\n",
       "      <th>Amount Requested</th>\n",
       "      <th>Loan Title</th>\n",
       "      <th>Debt-To-Income Ratio</th>\n",
       "      <th>Zip Code</th>\n",
       "      <th>State</th>\n",
       "      <th>Employment Length</th>\n",
       "      <th>Policy Code</th>\n",
       "    </tr>\n",
       "  </thead>\n",
       "  <tbody>\n",
       "    <tr>\n",
       "      <th>0</th>\n",
       "      <td>32000.0</td>\n",
       "      <td>Debt consolidation</td>\n",
       "      <td>24.05</td>\n",
       "      <td>919xx</td>\n",
       "      <td>CA</td>\n",
       "      <td>10.0</td>\n",
       "      <td>1</td>\n",
       "    </tr>\n",
       "    <tr>\n",
       "      <th>2</th>\n",
       "      <td>4000.0</td>\n",
       "      <td>Major purchase</td>\n",
       "      <td>19.53</td>\n",
       "      <td>333xx</td>\n",
       "      <td>FL</td>\n",
       "      <td>4.0</td>\n",
       "      <td>1</td>\n",
       "    </tr>\n",
       "    <tr>\n",
       "      <th>3</th>\n",
       "      <td>6025.0</td>\n",
       "      <td>Debt consolidation</td>\n",
       "      <td>9.16</td>\n",
       "      <td>021xx</td>\n",
       "      <td>MA</td>\n",
       "      <td>10.0</td>\n",
       "      <td>1</td>\n",
       "    </tr>\n",
       "    <tr>\n",
       "      <th>4</th>\n",
       "      <td>25000.0</td>\n",
       "      <td>Debt consolidation</td>\n",
       "      <td>36.26</td>\n",
       "      <td>926xx</td>\n",
       "      <td>CA</td>\n",
       "      <td>10.0</td>\n",
       "      <td>1</td>\n",
       "    </tr>\n",
       "    <tr>\n",
       "      <th>5</th>\n",
       "      <td>20000.0</td>\n",
       "      <td>Debt consolidation</td>\n",
       "      <td>16.43</td>\n",
       "      <td>891xx</td>\n",
       "      <td>NV</td>\n",
       "      <td>10.0</td>\n",
       "      <td>1</td>\n",
       "    </tr>\n",
       "  </tbody>\n",
       "</table>\n",
       "</div>"
      ],
      "text/plain": [
       "   Amount Requested          Loan Title  Debt-To-Income Ratio Zip Code State  \\\n",
       "0           32000.0  Debt consolidation                 24.05    919xx    CA   \n",
       "2            4000.0      Major purchase                 19.53    333xx    FL   \n",
       "3            6025.0  Debt consolidation                  9.16    021xx    MA   \n",
       "4           25000.0  Debt consolidation                 36.26    926xx    CA   \n",
       "5           20000.0  Debt consolidation                 16.43    891xx    NV   \n",
       "\n",
       "   Employment Length  Policy Code  \n",
       "0               10.0            1  \n",
       "2                4.0            1  \n",
       "3               10.0            1  \n",
       "4               10.0            1  \n",
       "5               10.0            1  "
      ]
     },
     "execution_count": 17,
     "metadata": {},
     "output_type": "execute_result"
    }
   ],
   "source": [
    "loan_application_df.head()"
   ]
  },
  {
   "cell_type": "code",
   "execution_count": 18,
   "id": "85924db0",
   "metadata": {},
   "outputs": [
    {
     "data": {
      "text/html": [
       "<div>\n",
       "<style scoped>\n",
       "    .dataframe tbody tr th:only-of-type {\n",
       "        vertical-align: middle;\n",
       "    }\n",
       "\n",
       "    .dataframe tbody tr th {\n",
       "        vertical-align: top;\n",
       "    }\n",
       "\n",
       "    .dataframe thead th {\n",
       "        text-align: right;\n",
       "    }\n",
       "</style>\n",
       "<table border=\"1\" class=\"dataframe\">\n",
       "  <thead>\n",
       "    <tr style=\"text-align: right;\">\n",
       "      <th></th>\n",
       "      <th>Amount Requested</th>\n",
       "      <th>Loan Title</th>\n",
       "      <th>Debt-To-Income Ratio</th>\n",
       "      <th>State</th>\n",
       "      <th>Employment Length</th>\n",
       "      <th>Policy Code</th>\n",
       "    </tr>\n",
       "  </thead>\n",
       "  <tbody>\n",
       "    <tr>\n",
       "      <th>0</th>\n",
       "      <td>32000.0</td>\n",
       "      <td>Debt consolidation</td>\n",
       "      <td>24.05</td>\n",
       "      <td>CA</td>\n",
       "      <td>10.0</td>\n",
       "      <td>1</td>\n",
       "    </tr>\n",
       "    <tr>\n",
       "      <th>2</th>\n",
       "      <td>4000.0</td>\n",
       "      <td>Major purchase</td>\n",
       "      <td>19.53</td>\n",
       "      <td>FL</td>\n",
       "      <td>4.0</td>\n",
       "      <td>1</td>\n",
       "    </tr>\n",
       "    <tr>\n",
       "      <th>3</th>\n",
       "      <td>6025.0</td>\n",
       "      <td>Debt consolidation</td>\n",
       "      <td>9.16</td>\n",
       "      <td>MA</td>\n",
       "      <td>10.0</td>\n",
       "      <td>1</td>\n",
       "    </tr>\n",
       "    <tr>\n",
       "      <th>4</th>\n",
       "      <td>25000.0</td>\n",
       "      <td>Debt consolidation</td>\n",
       "      <td>36.26</td>\n",
       "      <td>CA</td>\n",
       "      <td>10.0</td>\n",
       "      <td>1</td>\n",
       "    </tr>\n",
       "    <tr>\n",
       "      <th>5</th>\n",
       "      <td>20000.0</td>\n",
       "      <td>Debt consolidation</td>\n",
       "      <td>16.43</td>\n",
       "      <td>NV</td>\n",
       "      <td>10.0</td>\n",
       "      <td>1</td>\n",
       "    </tr>\n",
       "  </tbody>\n",
       "</table>\n",
       "</div>"
      ],
      "text/plain": [
       "   Amount Requested          Loan Title  Debt-To-Income Ratio State  \\\n",
       "0           32000.0  Debt consolidation                 24.05    CA   \n",
       "2            4000.0      Major purchase                 19.53    FL   \n",
       "3            6025.0  Debt consolidation                  9.16    MA   \n",
       "4           25000.0  Debt consolidation                 36.26    CA   \n",
       "5           20000.0  Debt consolidation                 16.43    NV   \n",
       "\n",
       "   Employment Length  Policy Code  \n",
       "0               10.0            1  \n",
       "2                4.0            1  \n",
       "3               10.0            1  \n",
       "4               10.0            1  \n",
       "5               10.0            1  "
      ]
     },
     "execution_count": 18,
     "metadata": {},
     "output_type": "execute_result"
    }
   ],
   "source": [
    "loan_state = loan_application_df.drop(['Zip Code'], axis=1)\n",
    "loan_state.head()"
   ]
  },
  {
   "cell_type": "code",
   "execution_count": 19,
   "id": "94b0c343",
   "metadata": {},
   "outputs": [
    {
     "data": {
      "text/html": [
       "<div>\n",
       "<style scoped>\n",
       "    .dataframe tbody tr th:only-of-type {\n",
       "        vertical-align: middle;\n",
       "    }\n",
       "\n",
       "    .dataframe tbody tr th {\n",
       "        vertical-align: top;\n",
       "    }\n",
       "\n",
       "    .dataframe thead th {\n",
       "        text-align: right;\n",
       "    }\n",
       "</style>\n",
       "<table border=\"1\" class=\"dataframe\">\n",
       "  <thead>\n",
       "    <tr style=\"text-align: right;\">\n",
       "      <th></th>\n",
       "      <th>Amount Requested</th>\n",
       "      <th>Loan Title</th>\n",
       "      <th>Debt-To-Income Ratio</th>\n",
       "      <th>State</th>\n",
       "      <th>Employment Length</th>\n",
       "      <th>Policy Code</th>\n",
       "    </tr>\n",
       "  </thead>\n",
       "  <tbody>\n",
       "    <tr>\n",
       "      <th>0</th>\n",
       "      <td>32000</td>\n",
       "      <td>Debt consolidation</td>\n",
       "      <td>24.05</td>\n",
       "      <td>CA</td>\n",
       "      <td>10.0</td>\n",
       "      <td>1</td>\n",
       "    </tr>\n",
       "    <tr>\n",
       "      <th>2</th>\n",
       "      <td>4000</td>\n",
       "      <td>Major purchase</td>\n",
       "      <td>19.53</td>\n",
       "      <td>FL</td>\n",
       "      <td>4.0</td>\n",
       "      <td>1</td>\n",
       "    </tr>\n",
       "    <tr>\n",
       "      <th>3</th>\n",
       "      <td>6025</td>\n",
       "      <td>Debt consolidation</td>\n",
       "      <td>9.16</td>\n",
       "      <td>MA</td>\n",
       "      <td>10.0</td>\n",
       "      <td>1</td>\n",
       "    </tr>\n",
       "    <tr>\n",
       "      <th>4</th>\n",
       "      <td>25000</td>\n",
       "      <td>Debt consolidation</td>\n",
       "      <td>36.26</td>\n",
       "      <td>CA</td>\n",
       "      <td>10.0</td>\n",
       "      <td>1</td>\n",
       "    </tr>\n",
       "    <tr>\n",
       "      <th>5</th>\n",
       "      <td>20000</td>\n",
       "      <td>Debt consolidation</td>\n",
       "      <td>16.43</td>\n",
       "      <td>NV</td>\n",
       "      <td>10.0</td>\n",
       "      <td>1</td>\n",
       "    </tr>\n",
       "  </tbody>\n",
       "</table>\n",
       "</div>"
      ],
      "text/plain": [
       "   Amount Requested          Loan Title  Debt-To-Income Ratio State  \\\n",
       "0             32000  Debt consolidation                 24.05    CA   \n",
       "2              4000      Major purchase                 19.53    FL   \n",
       "3              6025  Debt consolidation                  9.16    MA   \n",
       "4             25000  Debt consolidation                 36.26    CA   \n",
       "5             20000  Debt consolidation                 16.43    NV   \n",
       "\n",
       "   Employment Length  Policy Code  \n",
       "0               10.0            1  \n",
       "2                4.0            1  \n",
       "3               10.0            1  \n",
       "4               10.0            1  \n",
       "5               10.0            1  "
      ]
     },
     "execution_count": 19,
     "metadata": {},
     "output_type": "execute_result"
    }
   ],
   "source": [
    "loan_state = loan_state.astype({\n",
    "    'Policy Code': int,\n",
    "    'Amount Requested': int\n",
    "})\n",
    "loan_state.head()"
   ]
  },
  {
   "cell_type": "code",
   "execution_count": 20,
   "id": "f314b47b",
   "metadata": {},
   "outputs": [
    {
     "data": {
      "text/html": [
       "<div>\n",
       "<style scoped>\n",
       "    .dataframe tbody tr th:only-of-type {\n",
       "        vertical-align: middle;\n",
       "    }\n",
       "\n",
       "    .dataframe tbody tr th {\n",
       "        vertical-align: top;\n",
       "    }\n",
       "\n",
       "    .dataframe thead th {\n",
       "        text-align: right;\n",
       "    }\n",
       "</style>\n",
       "<table border=\"1\" class=\"dataframe\">\n",
       "  <thead>\n",
       "    <tr style=\"text-align: right;\">\n",
       "      <th></th>\n",
       "      <th>Amount Requested</th>\n",
       "      <th>Loan Title</th>\n",
       "      <th>Debt-To-Income Ratio</th>\n",
       "      <th>State</th>\n",
       "      <th>Employment Length</th>\n",
       "    </tr>\n",
       "  </thead>\n",
       "  <tbody>\n",
       "    <tr>\n",
       "      <th>0</th>\n",
       "      <td>32000</td>\n",
       "      <td>Debt consolidation</td>\n",
       "      <td>24.05</td>\n",
       "      <td>CA</td>\n",
       "      <td>10.0</td>\n",
       "    </tr>\n",
       "    <tr>\n",
       "      <th>2</th>\n",
       "      <td>4000</td>\n",
       "      <td>Major purchase</td>\n",
       "      <td>19.53</td>\n",
       "      <td>FL</td>\n",
       "      <td>4.0</td>\n",
       "    </tr>\n",
       "    <tr>\n",
       "      <th>3</th>\n",
       "      <td>6025</td>\n",
       "      <td>Debt consolidation</td>\n",
       "      <td>9.16</td>\n",
       "      <td>MA</td>\n",
       "      <td>10.0</td>\n",
       "    </tr>\n",
       "    <tr>\n",
       "      <th>4</th>\n",
       "      <td>25000</td>\n",
       "      <td>Debt consolidation</td>\n",
       "      <td>36.26</td>\n",
       "      <td>CA</td>\n",
       "      <td>10.0</td>\n",
       "    </tr>\n",
       "    <tr>\n",
       "      <th>5</th>\n",
       "      <td>20000</td>\n",
       "      <td>Debt consolidation</td>\n",
       "      <td>16.43</td>\n",
       "      <td>NV</td>\n",
       "      <td>10.0</td>\n",
       "    </tr>\n",
       "  </tbody>\n",
       "</table>\n",
       "</div>"
      ],
      "text/plain": [
       "   Amount Requested          Loan Title  Debt-To-Income Ratio State  \\\n",
       "0             32000  Debt consolidation                 24.05    CA   \n",
       "2              4000      Major purchase                 19.53    FL   \n",
       "3              6025  Debt consolidation                  9.16    MA   \n",
       "4             25000  Debt consolidation                 36.26    CA   \n",
       "5             20000  Debt consolidation                 16.43    NV   \n",
       "\n",
       "   Employment Length  \n",
       "0               10.0  \n",
       "2                4.0  \n",
       "3               10.0  \n",
       "4               10.0  \n",
       "5               10.0  "
      ]
     },
     "execution_count": 20,
     "metadata": {},
     "output_type": "execute_result"
    }
   ],
   "source": [
    "X = loan_state.drop(['Policy Code'], axis=1)\n",
    "X.head()"
   ]
  },
  {
   "cell_type": "code",
   "execution_count": 21,
   "id": "8e2e6388",
   "metadata": {},
   "outputs": [
    {
     "data": {
      "text/plain": [
       "0    1\n",
       "2    1\n",
       "3    1\n",
       "4    1\n",
       "5    1\n",
       "Name: Policy Code, dtype: int32"
      ]
     },
     "execution_count": 21,
     "metadata": {},
     "output_type": "execute_result"
    }
   ],
   "source": [
    "y = loan_state['Policy Code']\n",
    "y.head()"
   ]
  },
  {
   "cell_type": "code",
   "execution_count": 22,
   "id": "a0eafe49",
   "metadata": {},
   "outputs": [],
   "source": [
    "X_dummies = pd.get_dummies(X)\n",
    "# Scale the data\n",
    "scaler = StandardScaler().fit(X_dummies)\n",
    "X_scaled = scaler.transform(X_dummies)\n",
    "# X_train_scaled\n"
   ]
  },
  {
   "cell_type": "markdown",
   "id": "4860ebc9",
   "metadata": {},
   "source": [
    "# Pickle model scaler"
   ]
  },
  {
   "cell_type": "code",
   "execution_count": 23,
   "id": "307693a7",
   "metadata": {},
   "outputs": [],
   "source": [
    "# filename = '../Models/loan_acceptance_scaler.sav'\n",
    "# pickle.dump(scaler, open(filename, 'wb'))"
   ]
  },
  {
   "cell_type": "code",
   "execution_count": 24,
   "id": "05e6742d",
   "metadata": {},
   "outputs": [
    {
     "data": {
      "text/plain": [
       "array([[ 1.39292486, -0.02983799,  1.73077146, ..., -0.11711818,\n",
       "        -0.05937997, -0.0446585 ],\n",
       "       [-0.80117121, -0.03192195,  0.12878921, ..., -0.11711818,\n",
       "        -0.05937997, -0.0446585 ],\n",
       "       [-0.64249105, -0.03670308,  1.73077146, ..., -0.11711818,\n",
       "        -0.05937997, -0.0446585 ],\n",
       "       ...,\n",
       "       [-0.72281063, -0.02933544,  0.39578626, ..., -0.11711818,\n",
       "        -0.05937997, -0.0446585 ],\n",
       "       [-0.17428662, -0.02807677, -0.80570043, ..., -0.11711818,\n",
       "        -0.05937997, -0.0446585 ],\n",
       "       [ 0.0607951 , -0.01344753, -0.80570043, ..., -0.11711818,\n",
       "        -0.05937997, -0.0446585 ]])"
      ]
     },
     "execution_count": 24,
     "metadata": {},
     "output_type": "execute_result"
    }
   ],
   "source": [
    "X_scaled"
   ]
  },
  {
   "cell_type": "code",
   "execution_count": 25,
   "id": "856d3f1a",
   "metadata": {},
   "outputs": [
    {
     "data": {
      "text/plain": [
       "(107013, 2744)"
      ]
     },
     "execution_count": 25,
     "metadata": {},
     "output_type": "execute_result"
    }
   ],
   "source": [
    "X_scaled.shape"
   ]
  },
  {
   "cell_type": "code",
   "execution_count": 32,
   "id": "1c65e587",
   "metadata": {},
   "outputs": [],
   "source": [
    "def confusion_score(y_true, y_pred):\n",
    "    [[TP, FN],[FP,TN]] = confusion_matrix(y_true, y_pred)\n",
    "\n",
    "    accuracy = round((TP + TN) / (TP + FP + TN + FN),4) # (111 + 128) / (111 + 5 + 128 + 6)\n",
    "#     print(f\"Accuracy: {accuracy.round(4)}\")\n",
    "    precision = round((TP / (TP + FP)),4)\n",
    "#     print(f'Precision: {precision.round(4)}')\n",
    "    sensitivity = round(TP / (TP + FN),4)\n",
    "#     print(f'Sensitivity: {sensitivity.round(4)}')\n",
    "    specificity = round(TN / (TN + FP),4)\n",
    "#     print(f'Specificity: {specificity.round(4)}')\n",
    "\n",
    "    neg_predictive_value = round(TN / (TN + FN),4)\n",
    "    \n",
    "    matrix = [\n",
    "#         ['','Predicted Class','Predicted Class',''],\n",
    "        ['CONFUSION','Pred. Pos.','Pred. Neg.',''],\n",
    "        ['MATRIX','_'*50],\n",
    "        ['Act. Positive',TP,FN,sensitivity,'sensitivity'],\n",
    "        ['Act. Negative',FP,TN,specificity,'specificity'],\n",
    "        ['',precision,neg_predictive_value,accuracy,'accuracy'],\n",
    "        ['','precision','neg. pred. value']\n",
    "    ]\n",
    "    \n",
    "    for i in matrix:\n",
    "        for j in i:\n",
    "            print(f'{j:^16}|', end='')\n",
    "        print(\"\")"
   ]
  },
  {
   "cell_type": "code",
   "execution_count": 27,
   "id": "7928b0cb",
   "metadata": {},
   "outputs": [],
   "source": [
    "# IN CASE OF 3x3 CONFUSION MATRIX:\n",
    "\n",
    "def confusion_score2(y_true, y_pred):\n",
    "    [[a1, a2, a3],[b1,b2, b3],[c1,c2,c3]] = confusion_matrix(y_true, y_pred)\n",
    "    TP = a1\n",
    "    FN = a2 + a3\n",
    "    FP = b1 + c1\n",
    "    TN = b2 + b3 + c2 + c3\n",
    "\n",
    "    accuracy = (TP + TN) / (TP + FP + TN + FN) # (111 + 128) / (111 + 5 + 128 + 6)\n",
    "    print(f\"Accuracy: {accuracy.round(3)}\")\n",
    "    precision = TP / (TP + FP)\n",
    "    print(f'Precision: {precision.round(3)}')\n",
    "    sensitivity = TP / (TP + FN)\n",
    "    print(f'Sensitivity: {sensitivity.round(3)}')\n",
    "    specificity = TN / (TN + FP)\n",
    "    print(f'Specificity: {specificity.round(3)}')"
   ]
  },
  {
   "cell_type": "code",
   "execution_count": 24,
   "id": "092474da",
   "metadata": {},
   "outputs": [],
   "source": [
    "# split the data into test and train\n",
    "\n",
    "X_train, X_test, y_train, y_test = train_test_split(X_dummies, y, random_state=1)\n",
    "X_train_scaled, X_test_scaled, y_train, y_test = train_test_split(X_scaled, y, random_state=1)"
   ]
  },
  {
   "cell_type": "code",
   "execution_count": 29,
   "id": "0c6524fc",
   "metadata": {},
   "outputs": [
    {
     "name": "stderr",
     "output_type": "stream",
     "text": [
      "C:\\Users\\Rob\\anaconda3\\envs\\PythonData\\lib\\site-packages\\sklearn\\linear_model\\_logistic.py:763: ConvergenceWarning: lbfgs failed to converge (status=1):\n",
      "STOP: TOTAL NO. of ITERATIONS REACHED LIMIT.\n",
      "\n",
      "Increase the number of iterations (max_iter) or scale the data as shown in:\n",
      "    https://scikit-learn.org/stable/modules/preprocessing.html\n",
      "Please also refer to the documentation for alternative solver options:\n",
      "    https://scikit-learn.org/stable/modules/linear_model.html#logistic-regression\n",
      "  n_iter_i = _check_optimize_result(\n"
     ]
    },
    {
     "name": "stdout",
     "output_type": "stream",
     "text": [
      "Training Data Score: 0.9068391083865984\n",
      "Testing Data Score: 0.8965388353143455\n"
     ]
    }
   ],
   "source": [
    "classifier = LogisticRegression()\n",
    "classifier.fit(X_train, y_train)\n",
    "print(f\"Training Data Score: {classifier.score(X_train, y_train)}\")\n",
    "print(f\"Testing Data Score: {classifier.score(X_test, y_test)}\")"
   ]
  },
  {
   "cell_type": "code",
   "execution_count": 30,
   "id": "1abc9f10",
   "metadata": {
    "scrolled": true
   },
   "outputs": [
    {
     "name": "stdout",
     "output_type": "stream",
     "text": [
      "Confusion Matrix:\n",
      " [[13019   562]\n",
      " [ 2206 10967]] \n",
      "\n",
      "Accuracy: 0.8965\n",
      "Precision: 0.8551\n",
      "Sensitivity: 0.9586\n",
      "Specificity: 0.8325\n"
     ]
    }
   ],
   "source": [
    "y_true = y_test\n",
    "y_pred = classifier.predict(X_test)\n",
    "print('Confusion Matrix:\\n',confusion_matrix(y_true, y_pred), '\\n')\n",
    "\n",
    "confusion_score(y_true, y_pred)"
   ]
  },
  {
   "cell_type": "code",
   "execution_count": 28,
   "id": "ee2e670d",
   "metadata": {},
   "outputs": [
    {
     "data": {
      "text/plain": [
       "array([1, 0])"
      ]
     },
     "execution_count": 28,
     "metadata": {},
     "output_type": "execute_result"
    }
   ],
   "source": [
    "y.unique()"
   ]
  },
  {
   "cell_type": "code",
   "execution_count": 29,
   "id": "25766ef8",
   "metadata": {},
   "outputs": [
    {
     "data": {
      "text/plain": [
       "0    54566\n",
       "1    52447\n",
       "Name: Policy Code, dtype: int64"
      ]
     },
     "execution_count": 29,
     "metadata": {},
     "output_type": "execute_result"
    }
   ],
   "source": [
    "y.value_counts()"
   ]
  },
  {
   "cell_type": "markdown",
   "id": "4498e568",
   "metadata": {},
   "source": [
    "#### We suspect that employment length is the largest differentiator between a loan application being accepted or rejected."
   ]
  },
  {
   "cell_type": "code",
   "execution_count": 30,
   "id": "9227f2da",
   "metadata": {},
   "outputs": [
    {
     "data": {
      "text/plain": [
       "< 1 year     46876\n",
       "5 years       4678\n",
       "10+ years      903\n",
       "1 year         551\n",
       "2 years        423\n",
       "3 years        385\n",
       "4 years        261\n",
       "6 years        144\n",
       "8 years        127\n",
       "7 years        118\n",
       "9 years        101\n",
       "Name: Employment Length, dtype: int64"
      ]
     },
     "execution_count": 30,
     "metadata": {},
     "output_type": "execute_result"
    }
   ],
   "source": [
    "rejected_sample['Employment Length'].value_counts()"
   ]
  },
  {
   "cell_type": "code",
   "execution_count": 31,
   "id": "0b6b386c",
   "metadata": {},
   "outputs": [
    {
     "data": {
      "text/plain": [
       "10+ years    18695\n",
       "2 years       5081\n",
       "< 1 year      4683\n",
       "3 years       4505\n",
       "1 year        3753\n",
       "5 years       3606\n",
       "4 years       3411\n",
       "6 years       2562\n",
       "7 years       2389\n",
       "8 years       2258\n",
       "9 years       1981\n",
       "Name: Employment Length, dtype: int64"
      ]
     },
     "execution_count": 31,
     "metadata": {},
     "output_type": "execute_result"
    }
   ],
   "source": [
    "accepted_df_2['Employment Length'].value_counts()"
   ]
  },
  {
   "cell_type": "markdown",
   "id": "b21529be",
   "metadata": {},
   "source": [
    "#### This seems to be a reasonable assumption."
   ]
  },
  {
   "cell_type": "markdown",
   "id": "66389942",
   "metadata": {},
   "source": [
    "# Pickle Logistic Regression Model"
   ]
  },
  {
   "cell_type": "code",
   "execution_count": 35,
   "id": "5047cc00",
   "metadata": {},
   "outputs": [],
   "source": [
    "# filename = '../Models/loan_acceptance_model.sav'\n",
    "# pickle.dump(classifier, open(filename, 'wb'))"
   ]
  },
  {
   "cell_type": "code",
   "execution_count": null,
   "id": "badd567d",
   "metadata": {},
   "outputs": [],
   "source": []
  },
  {
   "cell_type": "markdown",
   "id": "3e8a36c0",
   "metadata": {},
   "source": [
    "# Random Forest Classifier"
   ]
  },
  {
   "cell_type": "code",
   "execution_count": 39,
   "id": "f3eaba0e",
   "metadata": {},
   "outputs": [
    {
     "name": "stdout",
     "output_type": "stream",
     "text": [
      "Training Score: 0.9998\n",
      "Testing Score: 0.9252\n",
      "Confusion Matrix:\n",
      " [[12564  1017]\n",
      " [  983 12190]] \n",
      "\n",
      "Accuracy: 0.9252\n",
      "Precision: 0.9274\n",
      "Sensitivity: 0.9251\n",
      "Specificity: 0.9254\n",
      "\n",
      "Model Time: 191.47328901290894 secs\n"
     ]
    }
   ],
   "source": [
    "# Train a Random Forest Classifier model on the scaled data and print the model score\n",
    "start = time.time()\n",
    "clf = RandomForestClassifier(random_state=1, n_estimators=100).fit(X_train, y_train)\n",
    "end = time.time()\n",
    "print(f'Training Score: {clf.score(X_train, y_train).round(4)}')\n",
    "print(f'Testing Score: {clf.score(X_test, y_test).round(4)}')\n",
    "\n",
    "# Random Forest Classifier Confusion Matrix\n",
    "y_true = y_test\n",
    "y_pred = clf.predict(X_test)\n",
    "print('Confusion Matrix:\\n',confusion_matrix(y_true, y_pred), '\\n')\n",
    "\n",
    "confusion_score(y_true, y_pred)\n",
    "\n",
    "# Show time calculation for training model\n",
    "print(f'\\nModel Time: {end-start} secs')"
   ]
  },
  {
   "cell_type": "markdown",
   "id": "e87d0737",
   "metadata": {},
   "source": [
    "### Multithreaded"
   ]
  },
  {
   "cell_type": "code",
   "execution_count": 41,
   "id": "74b11a4b",
   "metadata": {},
   "outputs": [
    {
     "name": "stdout",
     "output_type": "stream",
     "text": [
      "Training Score: 0.9998\n",
      "Testing Score: 0.9252\n",
      "Confusion Matrix:\n",
      " [[12564  1017]\n",
      " [  983 12190]] \n",
      "\n",
      "Accuracy: 0.9252\n",
      "Precision: 0.9274\n",
      "Sensitivity: 0.9251\n",
      "Specificity: 0.9254\n",
      "\n",
      "Model Time: 191.29166412353516 secs\n"
     ]
    }
   ],
   "source": [
    "# Train a Random Forest Classifier model on the scaled data and print the model score\n",
    "start = time.time()\n",
    "with ThreadPoolExecutor() as executor:\n",
    "    clf = RandomForestClassifier(random_state=1, n_estimators=100).fit(X_train, y_train)\n",
    "end = time.time()\n",
    "print(f'Training Score: {clf.score(X_train, y_train).round(4)}')\n",
    "print(f'Testing Score: {clf.score(X_test, y_test).round(4)}')\n",
    "\n",
    "# Random Forest Classifier Confusion Matrix\n",
    "y_true = y_test\n",
    "y_pred = clf.predict(X_test)\n",
    "print('Confusion Matrix:\\n',confusion_matrix(y_true, y_pred), '\\n')\n",
    "\n",
    "confusion_score(y_true, y_pred)\n",
    "\n",
    "# Show time calculation for training model\n",
    "print(f'\\nModel Time: {end-start} secs')"
   ]
  },
  {
   "cell_type": "markdown",
   "id": "3b066e57",
   "metadata": {},
   "source": [
    "### Multiprocess"
   ]
  },
  {
   "cell_type": "code",
   "execution_count": 42,
   "id": "9de3f2d5",
   "metadata": {},
   "outputs": [
    {
     "name": "stdout",
     "output_type": "stream",
     "text": [
      "Training Score: 0.9998\n",
      "Testing Score: 0.9252\n",
      "Confusion Matrix:\n",
      " [[12564  1017]\n",
      " [  983 12190]] \n",
      "\n",
      "Accuracy: 0.9252\n",
      "Precision: 0.9274\n",
      "Sensitivity: 0.9251\n",
      "Specificity: 0.9254\n",
      "\n",
      "Model Time: 191.14236617088318 secs\n"
     ]
    }
   ],
   "source": [
    "# Train a Random Forest Classifier model on the scaled data and print the model score\n",
    "start = time.time()\n",
    "with ProcessPoolExecutor() as executor:\n",
    "    clf = RandomForestClassifier(random_state=1, n_estimators=100).fit(X_train, y_train)\n",
    "end = time.time()\n",
    "print(f'Training Score: {clf.score(X_train, y_train).round(4)}')\n",
    "print(f'Testing Score: {clf.score(X_test, y_test).round(4)}')\n",
    "\n",
    "# Random Forest Classifier Confusion Matrix\n",
    "y_true = y_test\n",
    "y_pred = clf.predict(X_test)\n",
    "print('Confusion Matrix:\\n',confusion_matrix(y_true, y_pred), '\\n')\n",
    "\n",
    "confusion_score(y_true, y_pred)\n",
    "\n",
    "# Show time calculation for training model\n",
    "print(f'\\nModel Time: {end-start} secs')"
   ]
  },
  {
   "cell_type": "code",
   "execution_count": null,
   "id": "408eb4fb",
   "metadata": {},
   "outputs": [],
   "source": []
  },
  {
   "cell_type": "markdown",
   "id": "8c37252b",
   "metadata": {},
   "source": [
    "# Decision Tree"
   ]
  },
  {
   "cell_type": "code",
   "execution_count": 47,
   "id": "65a87186",
   "metadata": {
    "scrolled": true
   },
   "outputs": [
    {
     "name": "stdout",
     "output_type": "stream",
     "text": [
      "Confusion Matrix:\n",
      " [[12315  1266]\n",
      " [ 1304 11869]] \n",
      "\n",
      "Accuracy: 0.9039\n",
      "Precision: 0.9043\n",
      "Sensitivity: 0.9068\n",
      "Specificity: 0.901\n",
      "\n",
      "Model Time: 64.37062215805054 secs\n"
     ]
    }
   ],
   "source": [
    "# Create and score a decision tree classifier\n",
    "\n",
    "start = time.time()\n",
    "\n",
    "clf = tree.DecisionTreeClassifier()\n",
    "clf = clf.fit(X_train, y_train)\n",
    "clf.score(X_test, y_test)\n",
    "\n",
    "\n",
    "# Random Forest Classifier Confusion Matrix\n",
    "y_true = y_test\n",
    "y_pred = clf.predict(X_test)\n",
    "print('Confusion Matrix:\\n',confusion_matrix(y_true, y_pred), '\\n')\n",
    "\n",
    "confusion_score(y_true, y_pred)\n",
    "\n",
    "end = time.time()\n",
    "print(f'\\nModel Time: {end-start} secs')"
   ]
  },
  {
   "cell_type": "code",
   "execution_count": null,
   "id": "635b96d3",
   "metadata": {},
   "outputs": [],
   "source": []
  },
  {
   "cell_type": "markdown",
   "id": "bcafe754",
   "metadata": {},
   "source": [
    "# Check multiple models for score"
   ]
  },
  {
   "cell_type": "code",
   "execution_count": 28,
   "id": "25952a78",
   "metadata": {},
   "outputs": [],
   "source": [
    "def test_model(model, data):\n",
    "    start = time.time()\n",
    "    X_train_scaled, X_test_scaled, y_train, y_test = data\n",
    "\n",
    "    reg = model.fit(X_train_scaled, y_train)\n",
    "    print(f'Model: {type(reg).__name__}')\n",
    "    print(f'Train score: {reg.score(X_train_scaled, y_train)}')\n",
    "    print(f'Test Score: {reg.score(X_test_scaled, y_test)}\\n')\n",
    "#     plt.show()    \n",
    "    y_true = y_test\n",
    "    y_pred = model.predict(X_test_scaled)\n",
    "    print('Confusion Matrix:\\n',confusion_matrix(y_true, y_pred), '\\n\\n')\n",
    "    confusion_score(y_true, y_pred)\n",
    "    end = time.time()\n",
    "    print(f'Process time: {round(end-start, 2)} seconds.')\n",
    "\n",
    "    print('~'*40)\n",
    "    \n",
    "    filename = f'../Models/loan_acceptance/{type(reg).__name__}.sav'\n",
    "    pickle.dump(model, open(filename, 'wb'))"
   ]
  },
  {
   "cell_type": "code",
   "execution_count": 26,
   "id": "0eee283f",
   "metadata": {},
   "outputs": [],
   "source": [
    "data = [X_train_scaled, X_test_scaled, y_train, y_test]"
   ]
  },
  {
   "cell_type": "code",
   "execution_count": null,
   "id": "81897301",
   "metadata": {},
   "outputs": [
    {
     "name": "stdout",
     "output_type": "stream",
     "text": [
      "Model: LinearRegression\n",
      "Train score: 0.5179285866892313\n",
      "Test Score: -8.198585342967208e+27\n",
      "\n",
      "Confusion Matrix:\n",
      " [[ 8461  5120]\n",
      " [  544 12629]] \n",
      "\n",
      "\n",
      "Accuracy: 0.7883\n",
      "Precision: 0.9396\n",
      "Sensitivity: 0.623\n",
      "Specificity: 0.9587\n",
      "~~~~~~~~~~~~~~~~~~~~~~~~~~~~~~~~~~~~~~~~\n",
      "Model: KNeighborsRegressor\n",
      "Train score: 0.8076869286119375\n",
      "Test Score: 0.7072803577666905\n",
      "\n",
      "Confusion Matrix:\n",
      " [[ 8461  5120]\n",
      " [  544 12629]] \n",
      "\n",
      "\n",
      "Accuracy: 0.7883\n",
      "Precision: 0.9396\n",
      "Sensitivity: 0.623\n",
      "Specificity: 0.9587\n",
      "~~~~~~~~~~~~~~~~~~~~~~~~~~~~~~~~~~~~~~~~\n",
      "Model: RandomForestRegressor\n",
      "Train score: 0.9688942464839772\n",
      "Test Score: 0.7757007881502956\n",
      "\n",
      "Confusion Matrix:\n",
      " [[ 8461  5120]\n",
      " [  544 12629]] \n",
      "\n",
      "\n",
      "Accuracy: 0.7883\n",
      "Precision: 0.9396\n",
      "Sensitivity: 0.623\n",
      "Specificity: 0.9587\n",
      "~~~~~~~~~~~~~~~~~~~~~~~~~~~~~~~~~~~~~~~~\n"
     ]
    }
   ],
   "source": [
    "# multiple regression tests\n",
    "\n",
    "# test_model(LinearRegression(), data)\n",
    "\n",
    "# test_model(KNeighborsRegressor(), data)\n",
    "# test_model(RandomForestRegressor(), data)\n",
    "# test_model(ExtraTreesRegressor(), data)\n",
    "# test_model(AdaBoostRegressor(), data)\n",
    "# test_model(SVR(C=1.0, epsilon=0.2), data)"
   ]
  },
  {
   "cell_type": "code",
   "execution_count": 30,
   "id": "82fee321",
   "metadata": {},
   "outputs": [
    {
     "name": "stderr",
     "output_type": "stream",
     "text": [
      "C:\\Users\\Rob\\anaconda3\\envs\\PythonData\\lib\\site-packages\\sklearn\\linear_model\\_logistic.py:763: ConvergenceWarning: lbfgs failed to converge (status=1):\n",
      "STOP: TOTAL NO. of ITERATIONS REACHED LIMIT.\n",
      "\n",
      "Increase the number of iterations (max_iter) or scale the data as shown in:\n",
      "    https://scikit-learn.org/stable/modules/preprocessing.html\n",
      "Please also refer to the documentation for alternative solver options:\n",
      "    https://scikit-learn.org/stable/modules/linear_model.html#logistic-regression\n",
      "  n_iter_i = _check_optimize_result(\n"
     ]
    },
    {
     "name": "stdout",
     "output_type": "stream",
     "text": [
      "Model: LogisticRegression\n",
      "Train score: 0.9068391083865984\n",
      "Test Score: 0.8965388353143455\n",
      "\n",
      "Confusion Matrix:\n",
      " [[13019   562]\n",
      " [ 2206 10967]] \n",
      "\n",
      "\n",
      "Accuracy: 0.8965\n",
      "Precision: 0.8551\n",
      "Sensitivity: 0.9586\n",
      "Specificity: 0.8325\n",
      "Process time: 30.75 seconds.\n",
      "~~~~~~~~~~~~~~~~~~~~~~~~~~~~~~~~~~~~~~~~\n",
      "Model: RandomForestClassifier\n",
      "Train score: 0.9998131050723283\n",
      "Test Score: 0.9252448232040069\n",
      "\n",
      "Confusion Matrix:\n",
      " [[12564  1017]\n",
      " [  983 12190]] \n",
      "\n",
      "\n",
      "Accuracy: 0.9252\n",
      "Precision: 0.9274\n",
      "Sensitivity: 0.9251\n",
      "Specificity: 0.9254\n",
      "Process time: 202.2 seconds.\n",
      "~~~~~~~~~~~~~~~~~~~~~~~~~~~~~~~~~~~~~~~~\n",
      "Model: DecisionTreeClassifier\n",
      "Train score: 0.9999377016907761\n",
      "Test Score: 0.9046123944083128\n",
      "\n",
      "Confusion Matrix:\n",
      " [[12328  1253]\n",
      " [ 1299 11874]] \n",
      "\n",
      "\n",
      "Accuracy: 0.9046\n",
      "Precision: 0.9047\n",
      "Sensitivity: 0.9077\n",
      "Specificity: 0.9014\n",
      "Process time: 60.84 seconds.\n",
      "~~~~~~~~~~~~~~~~~~~~~~~~~~~~~~~~~~~~~~~~\n",
      "Model: KNeighborsClassifier\n",
      "Train score: 0.9086083803685568\n",
      "Test Score: 0.8981834492038574\n",
      "\n",
      "Confusion Matrix:\n",
      " [[12664   917]\n",
      " [ 1807 11366]] \n",
      "\n",
      "\n",
      "Accuracy: 0.8982\n",
      "Precision: 0.8751\n",
      "Sensitivity: 0.9325\n",
      "Specificity: 0.8628\n",
      "Process time: 1494.86 seconds.\n",
      "~~~~~~~~~~~~~~~~~~~~~~~~~~~~~~~~~~~~~~~~\n",
      "Model: RandomForestClassifier\n",
      "Train score: 0.9999377016907761\n",
      "Test Score: 0.924273005905659\n",
      "\n",
      "Confusion Matrix:\n",
      " [[12551  1030]\n",
      " [  996 12177]] \n",
      "\n",
      "\n",
      "Accuracy: 0.9243\n",
      "Precision: 0.9265\n",
      "Sensitivity: 0.9242\n",
      "Specificity: 0.9244\n",
      "Process time: 203.89 seconds.\n",
      "~~~~~~~~~~~~~~~~~~~~~~~~~~~~~~~~~~~~~~~~\n",
      "Model: ExtraTreesClassifier\n",
      "Train score: 0.9999377016907761\n",
      "Test Score: 0.9153771398669358\n",
      "\n",
      "Confusion Matrix:\n",
      " [[12373  1208]\n",
      " [ 1056 12117]] \n",
      "\n",
      "\n",
      "Accuracy: 0.9154\n",
      "Precision: 0.9214\n",
      "Sensitivity: 0.9111\n",
      "Specificity: 0.9198\n",
      "Process time: 458.68 seconds.\n",
      "~~~~~~~~~~~~~~~~~~~~~~~~~~~~~~~~~~~~~~~~\n",
      "Model: AdaBoostClassifier\n",
      "Train score: 0.9329545596132521\n",
      "Test Score: 0.934477087538312\n",
      "\n",
      "Confusion Matrix:\n",
      " [[12993   588]\n",
      " [ 1165 12008]] \n",
      "\n",
      "\n",
      "Accuracy: 0.9345\n",
      "Precision: 0.9177\n",
      "Sensitivity: 0.9567\n",
      "Specificity: 0.9116\n",
      "Process time: 292.24 seconds.\n",
      "~~~~~~~~~~~~~~~~~~~~~~~~~~~~~~~~~~~~~~~~\n"
     ]
    }
   ],
   "source": [
    "# multiple classification tests\n",
    "\n",
    "# test_model(LinearRegression(), data)\n",
    "\n",
    "test_list = [    \n",
    "    LogisticRegression(),\n",
    "    RandomForestClassifier(random_state=1, n_estimators=100),\n",
    "    tree.DecisionTreeClassifier(),\n",
    "    KNeighborsClassifier(n_neighbors = 15),\n",
    "    RandomForestClassifier(),\n",
    "    ExtraTreesClassifier(),\n",
    "    AdaBoostClassifier()\n",
    "]\n",
    "\n",
    "\n",
    "# test_model(LogisticRegression(),data)\n",
    "with ProcessPoolExecutor() as executor:\n",
    "\n",
    "    for model in test_list:\n",
    "\n",
    "        try:\n",
    "\n",
    "            test_model(model, data)\n",
    "\n",
    "            # test_model(SVR(C=1.0, epsilon=0.2), data)\n",
    "        except Exception as e:\n",
    "            print('#'*40)\n",
    "            print('Exception found.')\n",
    "            print(e)\n",
    "            print('#'*40)"
   ]
  },
  {
   "cell_type": "markdown",
   "id": "3c1ccaa9",
   "metadata": {},
   "source": [
    "# Pickle Random Forest Classifier or other clf model"
   ]
  },
  {
   "cell_type": "code",
   "execution_count": 37,
   "id": "e5e0c5aa",
   "metadata": {},
   "outputs": [],
   "source": [
    "# filename = '../Models/loan_acceptance_model.sav'\n",
    "# pickle.dump(clf, open(filename, 'wb'))"
   ]
  },
  {
   "cell_type": "code",
   "execution_count": null,
   "id": "980a4e25",
   "metadata": {},
   "outputs": [],
   "source": []
  },
  {
   "cell_type": "code",
   "execution_count": null,
   "id": "627e5702",
   "metadata": {},
   "outputs": [],
   "source": []
  }
 ],
 "metadata": {
  "kernelspec": {
   "display_name": "Python 3 (ipykernel)",
   "language": "python",
   "name": "python3"
  },
  "language_info": {
   "codemirror_mode": {
    "name": "ipython",
    "version": 3
   },
   "file_extension": ".py",
   "mimetype": "text/x-python",
   "name": "python",
   "nbconvert_exporter": "python",
   "pygments_lexer": "ipython3",
   "version": "3.8.12"
  }
 },
 "nbformat": 4,
 "nbformat_minor": 5
}
