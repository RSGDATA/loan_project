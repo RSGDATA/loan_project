{
 "cells": [
  {
   "cell_type": "code",
   "execution_count": 1,
   "id": "22db51f5",
   "metadata": {},
   "outputs": [],
   "source": [
    "import numpy as np\n",
    "import pandas as pd\n",
    "from pathlib import Path\n",
    "\n",
    "from sklearn import tree\n",
    "from sklearn.model_selection import train_test_split\n",
    "from sklearn.linear_model import LinearRegression, Ridge, Lasso, ElasticNet, LogisticRegression, RidgeClassifier\n",
    "from sklearn.preprocessing import StandardScaler\n",
    "from sklearn.ensemble import RandomForestClassifier\n",
    "from sklearn.metrics import confusion_matrix\n",
    "import pickle\n",
    "from sklearn.neighbors import KNeighborsRegressor\n",
    "from sklearn.ensemble import RandomForestRegressor, ExtraTreesRegressor, AdaBoostRegressor\n",
    "from sklearn.neighbors import KNeighborsClassifier\n",
    "from sklearn.ensemble import RandomForestClassifier, ExtraTreesClassifier, AdaBoostClassifier\n",
    "from sklearn.svm import SVR\n",
    "\n",
    "import time\n",
    "from os.path import getsize\n",
    "\n",
    "from concurrent.futures import ThreadPoolExecutor, ProcessPoolExecutor\n",
    "\n",
    "# from test_classification_model import test_classification_model, confusion_score"
   ]
  },
  {
   "cell_type": "code",
   "execution_count": null,
   "id": "c40b723d",
   "metadata": {},
   "outputs": [],
   "source": []
  },
  {
   "cell_type": "code",
   "execution_count": 2,
   "id": "2acaca24",
   "metadata": {
    "scrolled": true
   },
   "outputs": [
    {
     "data": {
      "text/html": [
       "<div>\n",
       "<style scoped>\n",
       "    .dataframe tbody tr th:only-of-type {\n",
       "        vertical-align: middle;\n",
       "    }\n",
       "\n",
       "    .dataframe tbody tr th {\n",
       "        vertical-align: top;\n",
       "    }\n",
       "\n",
       "    .dataframe thead th {\n",
       "        text-align: right;\n",
       "    }\n",
       "</style>\n",
       "<table border=\"1\" class=\"dataframe\">\n",
       "  <thead>\n",
       "    <tr style=\"text-align: right;\">\n",
       "      <th></th>\n",
       "      <th>loan_amnt</th>\n",
       "      <th>term</th>\n",
       "      <th>int_rate</th>\n",
       "      <th>installment</th>\n",
       "      <th>Employment Length</th>\n",
       "      <th>home_ownership</th>\n",
       "      <th>annual_inc</th>\n",
       "      <th>verification_status</th>\n",
       "      <th>loan_status</th>\n",
       "      <th>pymnt_plan</th>\n",
       "      <th>...</th>\n",
       "      <th>open_rv_24m</th>\n",
       "      <th>max_bal_bc</th>\n",
       "      <th>all_util</th>\n",
       "      <th>chargeoff_within_12_mths</th>\n",
       "      <th>delinq_amnt</th>\n",
       "      <th>mort_acc</th>\n",
       "      <th>pub_rec_bankruptcies</th>\n",
       "      <th>tax_liens</th>\n",
       "      <th>tot_hi_cred_lim</th>\n",
       "      <th>disbursement_method</th>\n",
       "    </tr>\n",
       "  </thead>\n",
       "  <tbody>\n",
       "    <tr>\n",
       "      <th>0</th>\n",
       "      <td>32000.0</td>\n",
       "      <td>60 months</td>\n",
       "      <td>10.49</td>\n",
       "      <td>687.65</td>\n",
       "      <td>10.0</td>\n",
       "      <td>MORTGAGE</td>\n",
       "      <td>120000.0</td>\n",
       "      <td>Verified</td>\n",
       "      <td>Current</td>\n",
       "      <td>n</td>\n",
       "      <td>...</td>\n",
       "      <td>NaN</td>\n",
       "      <td>NaN</td>\n",
       "      <td>NaN</td>\n",
       "      <td>0.0</td>\n",
       "      <td>0.0</td>\n",
       "      <td>2.0</td>\n",
       "      <td>0.0</td>\n",
       "      <td>0.0</td>\n",
       "      <td>556496.0</td>\n",
       "      <td>Cash</td>\n",
       "    </tr>\n",
       "    <tr>\n",
       "      <th>1</th>\n",
       "      <td>9600.0</td>\n",
       "      <td>36 months</td>\n",
       "      <td>12.99</td>\n",
       "      <td>323.42</td>\n",
       "      <td>NaN</td>\n",
       "      <td>RENT</td>\n",
       "      <td>21900.0</td>\n",
       "      <td>Verified</td>\n",
       "      <td>Fully Paid</td>\n",
       "      <td>n</td>\n",
       "      <td>...</td>\n",
       "      <td>NaN</td>\n",
       "      <td>NaN</td>\n",
       "      <td>NaN</td>\n",
       "      <td>0.0</td>\n",
       "      <td>0.0</td>\n",
       "      <td>0.0</td>\n",
       "      <td>1.0</td>\n",
       "      <td>0.0</td>\n",
       "      <td>11600.0</td>\n",
       "      <td>Cash</td>\n",
       "    </tr>\n",
       "    <tr>\n",
       "      <th>2</th>\n",
       "      <td>4000.0</td>\n",
       "      <td>36 months</td>\n",
       "      <td>6.68</td>\n",
       "      <td>122.93</td>\n",
       "      <td>4.0</td>\n",
       "      <td>MORTGAGE</td>\n",
       "      <td>83000.0</td>\n",
       "      <td>Not Verified</td>\n",
       "      <td>Fully Paid</td>\n",
       "      <td>n</td>\n",
       "      <td>...</td>\n",
       "      <td>NaN</td>\n",
       "      <td>NaN</td>\n",
       "      <td>NaN</td>\n",
       "      <td>0.0</td>\n",
       "      <td>0.0</td>\n",
       "      <td>2.0</td>\n",
       "      <td>0.0</td>\n",
       "      <td>0.0</td>\n",
       "      <td>222616.0</td>\n",
       "      <td>Cash</td>\n",
       "    </tr>\n",
       "    <tr>\n",
       "      <th>3</th>\n",
       "      <td>6025.0</td>\n",
       "      <td>36 months</td>\n",
       "      <td>10.91</td>\n",
       "      <td>197.00</td>\n",
       "      <td>10.0</td>\n",
       "      <td>RENT</td>\n",
       "      <td>52000.0</td>\n",
       "      <td>Not Verified</td>\n",
       "      <td>Fully Paid</td>\n",
       "      <td>n</td>\n",
       "      <td>...</td>\n",
       "      <td>1.0</td>\n",
       "      <td>2071.0</td>\n",
       "      <td>17.0</td>\n",
       "      <td>0.0</td>\n",
       "      <td>0.0</td>\n",
       "      <td>0.0</td>\n",
       "      <td>0.0</td>\n",
       "      <td>0.0</td>\n",
       "      <td>32227.0</td>\n",
       "      <td>Cash</td>\n",
       "    </tr>\n",
       "    <tr>\n",
       "      <th>4</th>\n",
       "      <td>25000.0</td>\n",
       "      <td>60 months</td>\n",
       "      <td>26.30</td>\n",
       "      <td>752.96</td>\n",
       "      <td>10.0</td>\n",
       "      <td>OWN</td>\n",
       "      <td>65000.0</td>\n",
       "      <td>Verified</td>\n",
       "      <td>Current</td>\n",
       "      <td>n</td>\n",
       "      <td>...</td>\n",
       "      <td>8.0</td>\n",
       "      <td>14473.0</td>\n",
       "      <td>35.0</td>\n",
       "      <td>0.0</td>\n",
       "      <td>0.0</td>\n",
       "      <td>0.0</td>\n",
       "      <td>0.0</td>\n",
       "      <td>0.0</td>\n",
       "      <td>257219.0</td>\n",
       "      <td>Cash</td>\n",
       "    </tr>\n",
       "  </tbody>\n",
       "</table>\n",
       "<p>5 rows × 44 columns</p>\n",
       "</div>"
      ],
      "text/plain": [
       "   loan_amnt        term  int_rate  installment  Employment Length  \\\n",
       "0    32000.0   60 months     10.49       687.65               10.0   \n",
       "1     9600.0   36 months     12.99       323.42                NaN   \n",
       "2     4000.0   36 months      6.68       122.93                4.0   \n",
       "3     6025.0   36 months     10.91       197.00               10.0   \n",
       "4    25000.0   60 months     26.30       752.96               10.0   \n",
       "\n",
       "  home_ownership  annual_inc verification_status loan_status pymnt_plan  ...  \\\n",
       "0       MORTGAGE    120000.0            Verified     Current          n  ...   \n",
       "1           RENT     21900.0            Verified  Fully Paid          n  ...   \n",
       "2       MORTGAGE     83000.0        Not Verified  Fully Paid          n  ...   \n",
       "3           RENT     52000.0        Not Verified  Fully Paid          n  ...   \n",
       "4            OWN     65000.0            Verified     Current          n  ...   \n",
       "\n",
       "  open_rv_24m max_bal_bc  all_util  chargeoff_within_12_mths  delinq_amnt  \\\n",
       "0         NaN        NaN       NaN                       0.0          0.0   \n",
       "1         NaN        NaN       NaN                       0.0          0.0   \n",
       "2         NaN        NaN       NaN                       0.0          0.0   \n",
       "3         1.0     2071.0      17.0                       0.0          0.0   \n",
       "4         8.0    14473.0      35.0                       0.0          0.0   \n",
       "\n",
       "   mort_acc  pub_rec_bankruptcies  tax_liens  tot_hi_cred_lim  \\\n",
       "0       2.0                   0.0        0.0         556496.0   \n",
       "1       0.0                   1.0        0.0          11600.0   \n",
       "2       2.0                   0.0        0.0         222616.0   \n",
       "3       0.0                   0.0        0.0          32227.0   \n",
       "4       0.0                   0.0        0.0         257219.0   \n",
       "\n",
       "   disbursement_method  \n",
       "0                 Cash  \n",
       "1                 Cash  \n",
       "2                 Cash  \n",
       "3                 Cash  \n",
       "4                 Cash  \n",
       "\n",
       "[5 rows x 44 columns]"
      ]
     },
     "execution_count": 2,
     "metadata": {},
     "output_type": "execute_result"
    }
   ],
   "source": [
    "accepted_df = pd.read_csv(\"../Resources/lending_club_accepted_klean_v2.csv\")\n",
    "accepted_df.head()"
   ]
  },
  {
   "cell_type": "code",
   "execution_count": 3,
   "id": "a7118a3c",
   "metadata": {},
   "outputs": [
    {
     "data": {
      "text/html": [
       "<div>\n",
       "<style scoped>\n",
       "    .dataframe tbody tr th:only-of-type {\n",
       "        vertical-align: middle;\n",
       "    }\n",
       "\n",
       "    .dataframe tbody tr th {\n",
       "        vertical-align: top;\n",
       "    }\n",
       "\n",
       "    .dataframe thead th {\n",
       "        text-align: right;\n",
       "    }\n",
       "</style>\n",
       "<table border=\"1\" class=\"dataframe\">\n",
       "  <thead>\n",
       "    <tr style=\"text-align: right;\">\n",
       "      <th></th>\n",
       "      <th>Amount Requested</th>\n",
       "      <th>Application Date</th>\n",
       "      <th>Loan Title</th>\n",
       "      <th>Risk_Score</th>\n",
       "      <th>Debt-To-Income Ratio</th>\n",
       "      <th>State</th>\n",
       "      <th>Employment Length</th>\n",
       "      <th>Policy Code</th>\n",
       "    </tr>\n",
       "  </thead>\n",
       "  <tbody>\n",
       "    <tr>\n",
       "      <th>0</th>\n",
       "      <td>7000.0</td>\n",
       "      <td>2016-10-18</td>\n",
       "      <td>DEBT_CONSOLIDATION</td>\n",
       "      <td>571.0</td>\n",
       "      <td>6.66</td>\n",
       "      <td>OK</td>\n",
       "      <td>0.5</td>\n",
       "      <td>0.0</td>\n",
       "    </tr>\n",
       "    <tr>\n",
       "      <th>1</th>\n",
       "      <td>20000.0</td>\n",
       "      <td>2018-01-14</td>\n",
       "      <td>DEBT_CONSOLIDATION</td>\n",
       "      <td>626.0</td>\n",
       "      <td>32.17</td>\n",
       "      <td>FL</td>\n",
       "      <td>0.5</td>\n",
       "      <td>0.0</td>\n",
       "    </tr>\n",
       "    <tr>\n",
       "      <th>2</th>\n",
       "      <td>15000.0</td>\n",
       "      <td>2013-09-04</td>\n",
       "      <td>DEBT_CONSOLIDATION</td>\n",
       "      <td>673.0</td>\n",
       "      <td>34.11</td>\n",
       "      <td>NH</td>\n",
       "      <td>0.5</td>\n",
       "      <td>0.0</td>\n",
       "    </tr>\n",
       "    <tr>\n",
       "      <th>3</th>\n",
       "      <td>10000.0</td>\n",
       "      <td>2017-02-16</td>\n",
       "      <td>DEBT_CONSOLIDATION</td>\n",
       "      <td>665.0</td>\n",
       "      <td>24.61</td>\n",
       "      <td>PA</td>\n",
       "      <td>0.5</td>\n",
       "      <td>0.0</td>\n",
       "    </tr>\n",
       "    <tr>\n",
       "      <th>4</th>\n",
       "      <td>2000.0</td>\n",
       "      <td>2016-03-14</td>\n",
       "      <td>HOME</td>\n",
       "      <td>601.0</td>\n",
       "      <td>0.64</td>\n",
       "      <td>AZ</td>\n",
       "      <td>0.5</td>\n",
       "      <td>0.0</td>\n",
       "    </tr>\n",
       "  </tbody>\n",
       "</table>\n",
       "</div>"
      ],
      "text/plain": [
       "   Amount Requested Application Date          Loan Title  Risk_Score  \\\n",
       "0            7000.0       2016-10-18  DEBT_CONSOLIDATION       571.0   \n",
       "1           20000.0       2018-01-14  DEBT_CONSOLIDATION       626.0   \n",
       "2           15000.0       2013-09-04  DEBT_CONSOLIDATION       673.0   \n",
       "3           10000.0       2017-02-16  DEBT_CONSOLIDATION       665.0   \n",
       "4            2000.0       2016-03-14                HOME       601.0   \n",
       "\n",
       "   Debt-To-Income Ratio State  Employment Length  Policy Code  \n",
       "0                  6.66    OK                0.5          0.0  \n",
       "1                 32.17    FL                0.5          0.0  \n",
       "2                 34.11    NH                0.5          0.0  \n",
       "3                 24.61    PA                0.5          0.0  \n",
       "4                  0.64    AZ                0.5          0.0  "
      ]
     },
     "execution_count": 3,
     "metadata": {},
     "output_type": "execute_result"
    }
   ],
   "source": [
    "rejected_df = pd.read_csv(\"../Resources/lending_club_rejected_klean_v2.csv\")\n",
    "rejected_df.head()"
   ]
  },
  {
   "cell_type": "code",
   "execution_count": 4,
   "id": "176c1feb",
   "metadata": {
    "scrolled": true
   },
   "outputs": [
    {
     "data": {
      "text/html": [
       "<div>\n",
       "<style scoped>\n",
       "    .dataframe tbody tr th:only-of-type {\n",
       "        vertical-align: middle;\n",
       "    }\n",
       "\n",
       "    .dataframe tbody tr th {\n",
       "        vertical-align: top;\n",
       "    }\n",
       "\n",
       "    .dataframe thead th {\n",
       "        text-align: right;\n",
       "    }\n",
       "</style>\n",
       "<table border=\"1\" class=\"dataframe\">\n",
       "  <thead>\n",
       "    <tr style=\"text-align: right;\">\n",
       "      <th></th>\n",
       "      <th>Amount Requested</th>\n",
       "      <th>Loan Title</th>\n",
       "      <th>Debt-To-Income Ratio</th>\n",
       "      <th>State</th>\n",
       "      <th>Employment Length</th>\n",
       "      <th>Policy Code</th>\n",
       "    </tr>\n",
       "  </thead>\n",
       "  <tbody>\n",
       "    <tr>\n",
       "      <th>0</th>\n",
       "      <td>7000.0</td>\n",
       "      <td>DEBT_CONSOLIDATION</td>\n",
       "      <td>6.66</td>\n",
       "      <td>OK</td>\n",
       "      <td>0.5</td>\n",
       "      <td>0.0</td>\n",
       "    </tr>\n",
       "    <tr>\n",
       "      <th>1</th>\n",
       "      <td>20000.0</td>\n",
       "      <td>DEBT_CONSOLIDATION</td>\n",
       "      <td>32.17</td>\n",
       "      <td>FL</td>\n",
       "      <td>0.5</td>\n",
       "      <td>0.0</td>\n",
       "    </tr>\n",
       "    <tr>\n",
       "      <th>2</th>\n",
       "      <td>15000.0</td>\n",
       "      <td>DEBT_CONSOLIDATION</td>\n",
       "      <td>34.11</td>\n",
       "      <td>NH</td>\n",
       "      <td>0.5</td>\n",
       "      <td>0.0</td>\n",
       "    </tr>\n",
       "    <tr>\n",
       "      <th>3</th>\n",
       "      <td>10000.0</td>\n",
       "      <td>DEBT_CONSOLIDATION</td>\n",
       "      <td>24.61</td>\n",
       "      <td>PA</td>\n",
       "      <td>0.5</td>\n",
       "      <td>0.0</td>\n",
       "    </tr>\n",
       "    <tr>\n",
       "      <th>4</th>\n",
       "      <td>2000.0</td>\n",
       "      <td>HOME</td>\n",
       "      <td>0.64</td>\n",
       "      <td>AZ</td>\n",
       "      <td>0.5</td>\n",
       "      <td>0.0</td>\n",
       "    </tr>\n",
       "  </tbody>\n",
       "</table>\n",
       "</div>"
      ],
      "text/plain": [
       "   Amount Requested          Loan Title  Debt-To-Income Ratio State  \\\n",
       "0            7000.0  DEBT_CONSOLIDATION                  6.66    OK   \n",
       "1           20000.0  DEBT_CONSOLIDATION                 32.17    FL   \n",
       "2           15000.0  DEBT_CONSOLIDATION                 34.11    NH   \n",
       "3           10000.0  DEBT_CONSOLIDATION                 24.61    PA   \n",
       "4            2000.0                HOME                  0.64    AZ   \n",
       "\n",
       "   Employment Length  Policy Code  \n",
       "0                0.5          0.0  \n",
       "1                0.5          0.0  \n",
       "2                0.5          0.0  \n",
       "3                0.5          0.0  \n",
       "4                0.5          0.0  "
      ]
     },
     "execution_count": 4,
     "metadata": {},
     "output_type": "execute_result"
    }
   ],
   "source": [
    "rejected_df_2 = rejected_df.drop(['Application Date', 'Risk_Score'], axis=1)\n",
    "rejected_df_2.head()"
   ]
  },
  {
   "cell_type": "code",
   "execution_count": 5,
   "id": "7684783c",
   "metadata": {},
   "outputs": [
    {
     "data": {
      "text/plain": [
       "['loan_amnt',\n",
       " 'term',\n",
       " 'int_rate',\n",
       " 'installment',\n",
       " 'Employment Length',\n",
       " 'home_ownership',\n",
       " 'annual_inc',\n",
       " 'verification_status',\n",
       " 'loan_status',\n",
       " 'pymnt_plan',\n",
       " 'Loan Title',\n",
       " 'addr_state',\n",
       " 'dti',\n",
       " 'mths_since_last_delinq',\n",
       " 'open_acc',\n",
       " 'total_acc',\n",
       " 'out_prncp',\n",
       " 'last_pymnt_amnt',\n",
       " 'last_fico_range_high',\n",
       " 'mths_since_last_major_derog',\n",
       " 'Policy Code',\n",
       " 'application_type',\n",
       " 'verification_status_joint',\n",
       " 'acc_now_delinq',\n",
       " 'tot_coll_amt',\n",
       " 'tot_cur_bal',\n",
       " 'open_acc_6m',\n",
       " 'open_act_il',\n",
       " 'open_il_12m',\n",
       " 'open_il_24m',\n",
       " 'mths_since_rcnt_il',\n",
       " 'total_bal_il',\n",
       " 'il_util',\n",
       " 'open_rv_12m',\n",
       " 'open_rv_24m',\n",
       " 'max_bal_bc',\n",
       " 'all_util',\n",
       " 'chargeoff_within_12_mths',\n",
       " 'delinq_amnt',\n",
       " 'mort_acc',\n",
       " 'pub_rec_bankruptcies',\n",
       " 'tax_liens',\n",
       " 'tot_hi_cred_lim',\n",
       " 'disbursement_method']"
      ]
     },
     "execution_count": 5,
     "metadata": {},
     "output_type": "execute_result"
    }
   ],
   "source": [
    "accepted_df.columns.to_list()"
   ]
  },
  {
   "cell_type": "code",
   "execution_count": 6,
   "id": "7fea233b",
   "metadata": {},
   "outputs": [
    {
     "data": {
      "text/plain": [
       "53573"
      ]
     },
     "execution_count": 6,
     "metadata": {},
     "output_type": "execute_result"
    }
   ],
   "source": [
    "accepted_df_2 = accepted_df[['loan_amnt', 'Loan Title', 'dti', 'addr_state', 'Employment Length', 'Policy Code']]\n",
    "accepted_df_2 = accepted_df_2.rename(columns={\n",
    "    'loan_amnt': 'Amount Requested',\n",
    "    'dti': 'Debt-To-Income Ratio',\n",
    "    'addr_state': 'State'\n",
    "})\n",
    "acc_length = len(accepted_df_2)\n",
    "acc_length"
   ]
  },
  {
   "cell_type": "code",
   "execution_count": 7,
   "id": "c715853c",
   "metadata": {},
   "outputs": [
    {
     "name": "stdout",
     "output_type": "stream",
     "text": [
      "224900\n"
     ]
    },
    {
     "data": {
      "text/plain": [
       "0.23820809248554914"
      ]
     },
     "execution_count": 7,
     "metadata": {},
     "output_type": "execute_result"
    }
   ],
   "source": [
    "rej_length = len(rejected_df_2)\n",
    "print(rej_length)\n",
    "acc_length / rej_length"
   ]
  },
  {
   "cell_type": "code",
   "execution_count": 8,
   "id": "f8b071e9",
   "metadata": {},
   "outputs": [
    {
     "data": {
      "text/plain": [
       "53573"
      ]
     },
     "execution_count": 8,
     "metadata": {},
     "output_type": "execute_result"
    }
   ],
   "source": [
    "rejected_sample = rejected_df_2.sample(frac=(acc_length / rej_length), random_state=42)\n",
    "len(rejected_sample)"
   ]
  },
  {
   "cell_type": "code",
   "execution_count": 9,
   "id": "9582c15d",
   "metadata": {},
   "outputs": [],
   "source": [
    "# Some policy codes are 2.\n",
    "# https://news.fintechnexus.com/policy-code-2-loans-lending-club/\n",
    "# policy code 0 means rejected\n",
    "# policy code 1 means accepted\n",
    "# policy code 2 means accepted, but considered sub-prime on credit rating\n",
    "\n",
    "# We're merely predicting whether or not someone's loan will be accepted or rejected, \n",
    "# so we'll change the status and simplify our model\n",
    "rejected_sample['Policy Code'] = 0\n",
    "accepted_df_2['Policy Code'] = 1"
   ]
  },
  {
   "cell_type": "code",
   "execution_count": 10,
   "id": "23a0d1de",
   "metadata": {},
   "outputs": [
    {
     "data": {
      "text/plain": [
       "107146"
      ]
     },
     "execution_count": 10,
     "metadata": {},
     "output_type": "execute_result"
    }
   ],
   "source": [
    "loan_application_df = pd.DataFrame.append(accepted_df_2, rejected_sample)\n",
    "\n",
    "len(loan_application_df)"
   ]
  },
  {
   "cell_type": "code",
   "execution_count": 11,
   "id": "bf507fbe",
   "metadata": {},
   "outputs": [
    {
     "data": {
      "text/html": [
       "<div>\n",
       "<style scoped>\n",
       "    .dataframe tbody tr th:only-of-type {\n",
       "        vertical-align: middle;\n",
       "    }\n",
       "\n",
       "    .dataframe tbody tr th {\n",
       "        vertical-align: top;\n",
       "    }\n",
       "\n",
       "    .dataframe thead th {\n",
       "        text-align: right;\n",
       "    }\n",
       "</style>\n",
       "<table border=\"1\" class=\"dataframe\">\n",
       "  <thead>\n",
       "    <tr style=\"text-align: right;\">\n",
       "      <th></th>\n",
       "      <th>Amount Requested</th>\n",
       "      <th>Loan Title</th>\n",
       "      <th>Debt-To-Income Ratio</th>\n",
       "      <th>State</th>\n",
       "      <th>Employment Length</th>\n",
       "      <th>Policy Code</th>\n",
       "    </tr>\n",
       "  </thead>\n",
       "  <tbody>\n",
       "    <tr>\n",
       "      <th>0</th>\n",
       "      <td>32000.0</td>\n",
       "      <td>DEBT_CONSOLIDATION</td>\n",
       "      <td>24.05</td>\n",
       "      <td>CA</td>\n",
       "      <td>10.0</td>\n",
       "      <td>1</td>\n",
       "    </tr>\n",
       "    <tr>\n",
       "      <th>1</th>\n",
       "      <td>9600.0</td>\n",
       "      <td>DEBT_CONSOLIDATION</td>\n",
       "      <td>10.03</td>\n",
       "      <td>FL</td>\n",
       "      <td>NaN</td>\n",
       "      <td>1</td>\n",
       "    </tr>\n",
       "    <tr>\n",
       "      <th>2</th>\n",
       "      <td>4000.0</td>\n",
       "      <td>MAJOR_PURCHASE</td>\n",
       "      <td>19.53</td>\n",
       "      <td>FL</td>\n",
       "      <td>4.0</td>\n",
       "      <td>1</td>\n",
       "    </tr>\n",
       "    <tr>\n",
       "      <th>3</th>\n",
       "      <td>6025.0</td>\n",
       "      <td>DEBT_CONSOLIDATION</td>\n",
       "      <td>9.16</td>\n",
       "      <td>MA</td>\n",
       "      <td>10.0</td>\n",
       "      <td>1</td>\n",
       "    </tr>\n",
       "    <tr>\n",
       "      <th>4</th>\n",
       "      <td>25000.0</td>\n",
       "      <td>DEBT_CONSOLIDATION</td>\n",
       "      <td>36.26</td>\n",
       "      <td>CA</td>\n",
       "      <td>10.0</td>\n",
       "      <td>1</td>\n",
       "    </tr>\n",
       "  </tbody>\n",
       "</table>\n",
       "</div>"
      ],
      "text/plain": [
       "   Amount Requested          Loan Title  Debt-To-Income Ratio State  \\\n",
       "0           32000.0  DEBT_CONSOLIDATION                 24.05    CA   \n",
       "1            9600.0  DEBT_CONSOLIDATION                 10.03    FL   \n",
       "2            4000.0      MAJOR_PURCHASE                 19.53    FL   \n",
       "3            6025.0  DEBT_CONSOLIDATION                  9.16    MA   \n",
       "4           25000.0  DEBT_CONSOLIDATION                 36.26    CA   \n",
       "\n",
       "   Employment Length  Policy Code  \n",
       "0               10.0            1  \n",
       "1                NaN            1  \n",
       "2                4.0            1  \n",
       "3               10.0            1  \n",
       "4               10.0            1  "
      ]
     },
     "execution_count": 11,
     "metadata": {},
     "output_type": "execute_result"
    }
   ],
   "source": [
    "loan_application_df.head()"
   ]
  },
  {
   "cell_type": "code",
   "execution_count": 12,
   "id": "bed3f701",
   "metadata": {},
   "outputs": [
    {
     "data": {
      "text/plain": [
       "103922"
      ]
     },
     "execution_count": 12,
     "metadata": {},
     "output_type": "execute_result"
    }
   ],
   "source": [
    "len(loan_application_df.dropna())"
   ]
  },
  {
   "cell_type": "code",
   "execution_count": 13,
   "id": "fad71655",
   "metadata": {},
   "outputs": [],
   "source": [
    "loan_application_df = loan_application_df.dropna()"
   ]
  },
  {
   "cell_type": "code",
   "execution_count": 14,
   "id": "5e2157bc",
   "metadata": {},
   "outputs": [
    {
     "data": {
      "text/html": [
       "<div>\n",
       "<style scoped>\n",
       "    .dataframe tbody tr th:only-of-type {\n",
       "        vertical-align: middle;\n",
       "    }\n",
       "\n",
       "    .dataframe tbody tr th {\n",
       "        vertical-align: top;\n",
       "    }\n",
       "\n",
       "    .dataframe thead th {\n",
       "        text-align: right;\n",
       "    }\n",
       "</style>\n",
       "<table border=\"1\" class=\"dataframe\">\n",
       "  <thead>\n",
       "    <tr style=\"text-align: right;\">\n",
       "      <th></th>\n",
       "      <th>Amount Requested</th>\n",
       "      <th>Loan Title</th>\n",
       "      <th>Debt-To-Income Ratio</th>\n",
       "      <th>State</th>\n",
       "      <th>Employment Length</th>\n",
       "      <th>Policy Code</th>\n",
       "    </tr>\n",
       "  </thead>\n",
       "  <tbody>\n",
       "    <tr>\n",
       "      <th>0</th>\n",
       "      <td>32000.0</td>\n",
       "      <td>DEBT_CONSOLIDATION</td>\n",
       "      <td>24.05</td>\n",
       "      <td>CA</td>\n",
       "      <td>10.0</td>\n",
       "      <td>1</td>\n",
       "    </tr>\n",
       "    <tr>\n",
       "      <th>2</th>\n",
       "      <td>4000.0</td>\n",
       "      <td>MAJOR_PURCHASE</td>\n",
       "      <td>19.53</td>\n",
       "      <td>FL</td>\n",
       "      <td>4.0</td>\n",
       "      <td>1</td>\n",
       "    </tr>\n",
       "    <tr>\n",
       "      <th>3</th>\n",
       "      <td>6025.0</td>\n",
       "      <td>DEBT_CONSOLIDATION</td>\n",
       "      <td>9.16</td>\n",
       "      <td>MA</td>\n",
       "      <td>10.0</td>\n",
       "      <td>1</td>\n",
       "    </tr>\n",
       "    <tr>\n",
       "      <th>4</th>\n",
       "      <td>25000.0</td>\n",
       "      <td>DEBT_CONSOLIDATION</td>\n",
       "      <td>36.26</td>\n",
       "      <td>CA</td>\n",
       "      <td>10.0</td>\n",
       "      <td>1</td>\n",
       "    </tr>\n",
       "    <tr>\n",
       "      <th>5</th>\n",
       "      <td>20000.0</td>\n",
       "      <td>DEBT_CONSOLIDATION</td>\n",
       "      <td>16.43</td>\n",
       "      <td>NV</td>\n",
       "      <td>10.0</td>\n",
       "      <td>1</td>\n",
       "    </tr>\n",
       "  </tbody>\n",
       "</table>\n",
       "</div>"
      ],
      "text/plain": [
       "   Amount Requested          Loan Title  Debt-To-Income Ratio State  \\\n",
       "0           32000.0  DEBT_CONSOLIDATION                 24.05    CA   \n",
       "2            4000.0      MAJOR_PURCHASE                 19.53    FL   \n",
       "3            6025.0  DEBT_CONSOLIDATION                  9.16    MA   \n",
       "4           25000.0  DEBT_CONSOLIDATION                 36.26    CA   \n",
       "5           20000.0  DEBT_CONSOLIDATION                 16.43    NV   \n",
       "\n",
       "   Employment Length  Policy Code  \n",
       "0               10.0            1  \n",
       "2                4.0            1  \n",
       "3               10.0            1  \n",
       "4               10.0            1  \n",
       "5               10.0            1  "
      ]
     },
     "execution_count": 14,
     "metadata": {},
     "output_type": "execute_result"
    }
   ],
   "source": [
    "loan_application_df.head()"
   ]
  },
  {
   "cell_type": "code",
   "execution_count": 15,
   "id": "94b0c343",
   "metadata": {},
   "outputs": [
    {
     "data": {
      "text/html": [
       "<div>\n",
       "<style scoped>\n",
       "    .dataframe tbody tr th:only-of-type {\n",
       "        vertical-align: middle;\n",
       "    }\n",
       "\n",
       "    .dataframe tbody tr th {\n",
       "        vertical-align: top;\n",
       "    }\n",
       "\n",
       "    .dataframe thead th {\n",
       "        text-align: right;\n",
       "    }\n",
       "</style>\n",
       "<table border=\"1\" class=\"dataframe\">\n",
       "  <thead>\n",
       "    <tr style=\"text-align: right;\">\n",
       "      <th></th>\n",
       "      <th>Amount Requested</th>\n",
       "      <th>Loan Title</th>\n",
       "      <th>Debt-To-Income Ratio</th>\n",
       "      <th>State</th>\n",
       "      <th>Employment Length</th>\n",
       "      <th>Policy Code</th>\n",
       "    </tr>\n",
       "  </thead>\n",
       "  <tbody>\n",
       "    <tr>\n",
       "      <th>0</th>\n",
       "      <td>32000</td>\n",
       "      <td>DEBT_CONSOLIDATION</td>\n",
       "      <td>24.05</td>\n",
       "      <td>CA</td>\n",
       "      <td>10.0</td>\n",
       "      <td>1</td>\n",
       "    </tr>\n",
       "    <tr>\n",
       "      <th>2</th>\n",
       "      <td>4000</td>\n",
       "      <td>MAJOR_PURCHASE</td>\n",
       "      <td>19.53</td>\n",
       "      <td>FL</td>\n",
       "      <td>4.0</td>\n",
       "      <td>1</td>\n",
       "    </tr>\n",
       "    <tr>\n",
       "      <th>3</th>\n",
       "      <td>6025</td>\n",
       "      <td>DEBT_CONSOLIDATION</td>\n",
       "      <td>9.16</td>\n",
       "      <td>MA</td>\n",
       "      <td>10.0</td>\n",
       "      <td>1</td>\n",
       "    </tr>\n",
       "    <tr>\n",
       "      <th>4</th>\n",
       "      <td>25000</td>\n",
       "      <td>DEBT_CONSOLIDATION</td>\n",
       "      <td>36.26</td>\n",
       "      <td>CA</td>\n",
       "      <td>10.0</td>\n",
       "      <td>1</td>\n",
       "    </tr>\n",
       "    <tr>\n",
       "      <th>5</th>\n",
       "      <td>20000</td>\n",
       "      <td>DEBT_CONSOLIDATION</td>\n",
       "      <td>16.43</td>\n",
       "      <td>NV</td>\n",
       "      <td>10.0</td>\n",
       "      <td>1</td>\n",
       "    </tr>\n",
       "  </tbody>\n",
       "</table>\n",
       "</div>"
      ],
      "text/plain": [
       "   Amount Requested          Loan Title  Debt-To-Income Ratio State  \\\n",
       "0             32000  DEBT_CONSOLIDATION                 24.05    CA   \n",
       "2              4000      MAJOR_PURCHASE                 19.53    FL   \n",
       "3              6025  DEBT_CONSOLIDATION                  9.16    MA   \n",
       "4             25000  DEBT_CONSOLIDATION                 36.26    CA   \n",
       "5             20000  DEBT_CONSOLIDATION                 16.43    NV   \n",
       "\n",
       "   Employment Length  Policy Code  \n",
       "0               10.0            1  \n",
       "2                4.0            1  \n",
       "3               10.0            1  \n",
       "4               10.0            1  \n",
       "5               10.0            1  "
      ]
     },
     "execution_count": 15,
     "metadata": {},
     "output_type": "execute_result"
    }
   ],
   "source": [
    "loan_state = loan_application_df.astype({\n",
    "    'Policy Code': int,\n",
    "    'Amount Requested': int\n",
    "})\n",
    "loan_state.head()"
   ]
  },
  {
   "cell_type": "code",
   "execution_count": 16,
   "id": "49a791a4",
   "metadata": {},
   "outputs": [
    {
     "data": {
      "text/plain": [
       "Amount Requested          int32\n",
       "Loan Title               object\n",
       "Debt-To-Income Ratio    float64\n",
       "State                    object\n",
       "Employment Length       float64\n",
       "Policy Code               int32\n",
       "dtype: object"
      ]
     },
     "execution_count": 16,
     "metadata": {},
     "output_type": "execute_result"
    }
   ],
   "source": [
    "loan_state.dtypes"
   ]
  },
  {
   "cell_type": "code",
   "execution_count": 17,
   "id": "f314b47b",
   "metadata": {},
   "outputs": [
    {
     "data": {
      "text/html": [
       "<div>\n",
       "<style scoped>\n",
       "    .dataframe tbody tr th:only-of-type {\n",
       "        vertical-align: middle;\n",
       "    }\n",
       "\n",
       "    .dataframe tbody tr th {\n",
       "        vertical-align: top;\n",
       "    }\n",
       "\n",
       "    .dataframe thead th {\n",
       "        text-align: right;\n",
       "    }\n",
       "</style>\n",
       "<table border=\"1\" class=\"dataframe\">\n",
       "  <thead>\n",
       "    <tr style=\"text-align: right;\">\n",
       "      <th></th>\n",
       "      <th>Amount Requested</th>\n",
       "      <th>Loan Title</th>\n",
       "      <th>Debt-To-Income Ratio</th>\n",
       "      <th>State</th>\n",
       "      <th>Employment Length</th>\n",
       "    </tr>\n",
       "  </thead>\n",
       "  <tbody>\n",
       "    <tr>\n",
       "      <th>0</th>\n",
       "      <td>32000</td>\n",
       "      <td>DEBT_CONSOLIDATION</td>\n",
       "      <td>24.05</td>\n",
       "      <td>CA</td>\n",
       "      <td>10.0</td>\n",
       "    </tr>\n",
       "    <tr>\n",
       "      <th>2</th>\n",
       "      <td>4000</td>\n",
       "      <td>MAJOR_PURCHASE</td>\n",
       "      <td>19.53</td>\n",
       "      <td>FL</td>\n",
       "      <td>4.0</td>\n",
       "    </tr>\n",
       "    <tr>\n",
       "      <th>3</th>\n",
       "      <td>6025</td>\n",
       "      <td>DEBT_CONSOLIDATION</td>\n",
       "      <td>9.16</td>\n",
       "      <td>MA</td>\n",
       "      <td>10.0</td>\n",
       "    </tr>\n",
       "    <tr>\n",
       "      <th>4</th>\n",
       "      <td>25000</td>\n",
       "      <td>DEBT_CONSOLIDATION</td>\n",
       "      <td>36.26</td>\n",
       "      <td>CA</td>\n",
       "      <td>10.0</td>\n",
       "    </tr>\n",
       "    <tr>\n",
       "      <th>5</th>\n",
       "      <td>20000</td>\n",
       "      <td>DEBT_CONSOLIDATION</td>\n",
       "      <td>16.43</td>\n",
       "      <td>NV</td>\n",
       "      <td>10.0</td>\n",
       "    </tr>\n",
       "  </tbody>\n",
       "</table>\n",
       "</div>"
      ],
      "text/plain": [
       "   Amount Requested          Loan Title  Debt-To-Income Ratio State  \\\n",
       "0             32000  DEBT_CONSOLIDATION                 24.05    CA   \n",
       "2              4000      MAJOR_PURCHASE                 19.53    FL   \n",
       "3              6025  DEBT_CONSOLIDATION                  9.16    MA   \n",
       "4             25000  DEBT_CONSOLIDATION                 36.26    CA   \n",
       "5             20000  DEBT_CONSOLIDATION                 16.43    NV   \n",
       "\n",
       "   Employment Length  \n",
       "0               10.0  \n",
       "2                4.0  \n",
       "3               10.0  \n",
       "4               10.0  \n",
       "5               10.0  "
      ]
     },
     "execution_count": 17,
     "metadata": {},
     "output_type": "execute_result"
    }
   ],
   "source": [
    "X = loan_state.drop(['Policy Code'], axis=1)\n",
    "X.head()"
   ]
  },
  {
   "cell_type": "code",
   "execution_count": 18,
   "id": "8e2e6388",
   "metadata": {},
   "outputs": [
    {
     "data": {
      "text/plain": [
       "0    1\n",
       "2    1\n",
       "3    1\n",
       "4    1\n",
       "5    1\n",
       "Name: Policy Code, dtype: int32"
      ]
     },
     "execution_count": 18,
     "metadata": {},
     "output_type": "execute_result"
    }
   ],
   "source": [
    "y = loan_state['Policy Code']\n",
    "y.head()"
   ]
  },
  {
   "cell_type": "code",
   "execution_count": 19,
   "id": "092474da",
   "metadata": {},
   "outputs": [],
   "source": [
    "X_dummies = pd.get_dummies(X)\n",
    "\n",
    "# target is already 1 or 0 (Policy Code), so get_dummies is not required for target\n",
    "\n",
    "\n",
    "# split the data into test and train\n",
    "\n",
    "X_train, X_test, y_train, y_test = train_test_split(X_dummies, y, random_state=1)\n"
   ]
  },
  {
   "cell_type": "code",
   "execution_count": 20,
   "id": "a0eafe49",
   "metadata": {},
   "outputs": [],
   "source": [
    "\n",
    "# Scale the data\n",
    "scaler = StandardScaler().fit(X_dummies)\n",
    "X_train_scaled = scaler.transform(X_train)\n",
    "X_test_scaled = scaler.transform(X_test)\n",
    "# X_train_scaled\n"
   ]
  },
  {
   "cell_type": "markdown",
   "id": "4860ebc9",
   "metadata": {},
   "source": [
    "# Pickle model scaler"
   ]
  },
  {
   "cell_type": "code",
   "execution_count": 21,
   "id": "307693a7",
   "metadata": {},
   "outputs": [],
   "source": [
    "filename = '../Models/loan_acceptance_scaler.sav'\n",
    "pickle.dump(scaler, open(filename, 'wb'))"
   ]
  },
  {
   "cell_type": "code",
   "execution_count": 22,
   "id": "05e6742d",
   "metadata": {},
   "outputs": [
    {
     "data": {
      "text/plain": [
       "array([[ 1.11066082, -0.00298725, -0.77109354, ..., -0.1168572 ,\n",
       "        -0.05862953, -0.04424038],\n",
       "       [-0.5707979 , -0.0098125 , -0.77109354, ..., -0.1168572 ,\n",
       "        -0.05862953, -0.04424038],\n",
       "       [ 1.59531656, -0.00816291,  1.73796699, ..., -0.1168572 ,\n",
       "        -0.05862953, -0.04424038],\n",
       "       ...,\n",
       "       [ 0.91284214, -0.00890632,  1.73796699, ..., -0.1168572 ,\n",
       "        -0.05862953, -0.04424038],\n",
       "       [ 0.61611414, -0.00978714, -0.77109354, ..., -0.1168572 ,\n",
       "        -0.05862953, -0.04424038],\n",
       "       [-0.8675259 , -0.00896058, -0.77109354, ..., -0.1168572 ,\n",
       "        -0.05862953, -0.04424038]])"
      ]
     },
     "execution_count": 22,
     "metadata": {},
     "output_type": "execute_result"
    }
   ],
   "source": [
    "X_train_scaled"
   ]
  },
  {
   "cell_type": "code",
   "execution_count": 23,
   "id": "856d3f1a",
   "metadata": {},
   "outputs": [
    {
     "data": {
      "text/plain": [
       "(77941, 70)"
      ]
     },
     "execution_count": 23,
     "metadata": {},
     "output_type": "execute_result"
    }
   ],
   "source": [
    "X_train_scaled.shape"
   ]
  },
  {
   "cell_type": "code",
   "execution_count": 24,
   "id": "ee2e670d",
   "metadata": {},
   "outputs": [
    {
     "data": {
      "text/plain": [
       "array([1, 0])"
      ]
     },
     "execution_count": 24,
     "metadata": {},
     "output_type": "execute_result"
    }
   ],
   "source": [
    "y.unique()"
   ]
  },
  {
   "cell_type": "code",
   "execution_count": 25,
   "id": "25766ef8",
   "metadata": {},
   "outputs": [
    {
     "data": {
      "text/plain": [
       "0    53573\n",
       "1    50349\n",
       "Name: Policy Code, dtype: int64"
      ]
     },
     "execution_count": 25,
     "metadata": {},
     "output_type": "execute_result"
    }
   ],
   "source": [
    "y.value_counts()"
   ]
  },
  {
   "cell_type": "markdown",
   "id": "4498e568",
   "metadata": {},
   "source": [
    "#### We suspect that employment length is the largest differentiator between a loan application being accepted or rejected."
   ]
  },
  {
   "cell_type": "code",
   "execution_count": 26,
   "id": "9227f2da",
   "metadata": {
    "scrolled": true
   },
   "outputs": [
    {
     "data": {
      "text/plain": [
       "0.5     48702\n",
       "5.0      1333\n",
       "10.0     1266\n",
       "2.0       485\n",
       "1.0       421\n",
       "3.0       390\n",
       "4.0       303\n",
       "6.0       201\n",
       "7.0       175\n",
       "8.0       156\n",
       "9.0       141\n",
       "Name: Employment Length, dtype: int64"
      ]
     },
     "execution_count": 26,
     "metadata": {},
     "output_type": "execute_result"
    }
   ],
   "source": [
    "rejected_sample['Employment Length'].value_counts()"
   ]
  },
  {
   "cell_type": "code",
   "execution_count": 27,
   "id": "0b6b386c",
   "metadata": {},
   "outputs": [
    {
     "data": {
      "text/plain": [
       "10.0    17881\n",
       "2.0      4891\n",
       "3.0      4297\n",
       "0.5      4102\n",
       "1.0      3601\n",
       "5.0      3440\n",
       "4.0      3280\n",
       "6.0      2480\n",
       "7.0      2291\n",
       "8.0      2174\n",
       "9.0      1912\n",
       "Name: Employment Length, dtype: int64"
      ]
     },
     "execution_count": 27,
     "metadata": {},
     "output_type": "execute_result"
    }
   ],
   "source": [
    "accepted_df_2['Employment Length'].value_counts()"
   ]
  },
  {
   "cell_type": "markdown",
   "id": "b21529be",
   "metadata": {},
   "source": [
    "#### This seems to be a reasonable assumption."
   ]
  },
  {
   "cell_type": "code",
   "execution_count": null,
   "id": "635b96d3",
   "metadata": {},
   "outputs": [],
   "source": []
  },
  {
   "cell_type": "markdown",
   "id": "bcafe754",
   "metadata": {},
   "source": [
    "# Check multiple models for score"
   ]
  },
  {
   "cell_type": "code",
   "execution_count": 28,
   "id": "0eee283f",
   "metadata": {},
   "outputs": [],
   "source": [
    "data = [X_train_scaled, X_test_scaled, y_train, y_test]"
   ]
  },
  {
   "cell_type": "code",
   "execution_count": 29,
   "id": "81897301",
   "metadata": {},
   "outputs": [],
   "source": [
    "# multiple regression tests\n",
    "\n",
    "# test_model(LinearRegression(), data)\n",
    "\n",
    "# test_model(KNeighborsRegressor(), data)\n",
    "# test_model(RandomForestRegressor(), data)\n",
    "# test_model(ExtraTreesRegressor(), data)\n",
    "# test_model(AdaBoostRegressor(), data)\n",
    "# test_model(SVR(C=1.0, epsilon=0.2), data)"
   ]
  },
  {
   "cell_type": "code",
   "execution_count": 30,
   "id": "a3189dc9",
   "metadata": {},
   "outputs": [],
   "source": [
    "\n",
    "\n",
    "def test_classification_model(model, data, folder):\n",
    "    from time import time\n",
    "    \n",
    "    start = time()\n",
    "    X_train_scaled, X_test_scaled, y_train, y_test = data\n",
    "\n",
    "    reg = model.fit(X_train_scaled, y_train)\n",
    "    print(f'Model: {type(reg).__name__}')\n",
    "    print(f'Train score: {reg.score(X_train_scaled, y_train)}')\n",
    "    print(f'Test Score: {reg.score(X_test_scaled, y_test)}\\n')\n",
    "#     plt.show()    \n",
    "    y_true = y_test\n",
    "    y_pred = model.predict(X_test_scaled)\n",
    "    print('Confusion Matrix:\\n',confusion_matrix(y_true, y_pred), '\\n\\n')\n",
    "    confusion_score(y_true, y_pred)\n",
    "    end = time()\n",
    "    print(f'Process time: {round(end-start, 2)} seconds.')\n",
    "\n",
    "    \n",
    "    \n",
    "    filename = f'{folder}/{type(reg).__name__}.sav'\n",
    "    pickle.dump(model, open(filename, 'wb'))\n",
    "    print(f'{getsize(filename):,} bytes')\n",
    "    \n",
    "    print('~'*80)\n",
    "    \n",
    "#     return(y_true, y_pred)\n",
    "    \n",
    "    \n",
    "    \n",
    "def confusion_score(y_true, y_pred):\n",
    "    from sklearn.metrics import confusion_matrix\n",
    "    [[TP, FN],[FP,TN]] = confusion_matrix(y_true, y_pred)\n",
    "\n",
    "    accuracy = round((TP + TN) / (TP + FP + TN + FN),4) # (111 + 128) / (111 + 5 + 128 + 6)\n",
    "#     print(f\"Accuracy: {accuracy.round(4)}\")\n",
    "    precision = round((TP / (TP + FP)),4)\n",
    "#     print(f'Precision: {precision.round(4)}')\n",
    "    sensitivity = round(TP / (TP + FN),4)\n",
    "#     print(f'Sensitivity: {sensitivity.round(4)}')\n",
    "    specificity = round(TN / (TN + FP),4)\n",
    "#     print(f'Specificity: {specificity.round(4)}')\n",
    "\n",
    "    neg_predictive_value = round(TN / (TN + FN),4)\n",
    "    \n",
    "    matrix = [\n",
    "#         ['','Predicted Class','Predicted Class',''],\n",
    "        ['CONFUSION','Pred. Pos.','Pred. Neg.',''],\n",
    "        ['MATRIX','_'*50],\n",
    "        ['Act. Positive',TP,FN,sensitivity,'sensitivity'],\n",
    "        ['Act. Negative',FP,TN,specificity,'specificity'],\n",
    "        ['',precision,neg_predictive_value,accuracy,'accuracy'],\n",
    "        ['','precision','neg. pred. value']\n",
    "    ]\n",
    "    \n",
    "    for i in matrix:\n",
    "        for j in i:\n",
    "            print(f'{j:^16}|', end='')\n",
    "        print(\"\")\n",
    "        \n",
    "        \n",
    "        \n",
    "        \n",
    "# IN CASE OF 3x3 CONFUSION MATRIX:\n",
    "\n",
    "def confusion_score2(y_true, y_pred):\n",
    "    from sklearn.metrics import confusion_matrix\n",
    "    [[a1, a2, a3],[b1,b2, b3],[c1,c2,c3]] = confusion_matrix(y_true, y_pred)\n",
    "    TP = a1\n",
    "    FN = a2 + a3\n",
    "    FP = b1 + c1\n",
    "    TN = b2 + b3 + c2 + c3\n",
    "\n",
    "    accuracy = (TP + TN) / (TP + FP + TN + FN) # (111 + 128) / (111 + 5 + 128 + 6)\n",
    "    print(f\"Accuracy: {accuracy.round(3)}\")\n",
    "    precision = TP / (TP + FP)\n",
    "    print(f'Precision: {precision.round(3)}')\n",
    "    sensitivity = TP / (TP + FN)\n",
    "    print(f'Sensitivity: {sensitivity.round(3)}')\n",
    "    specificity = TN / (TN + FP)\n",
    "    print(f'Specificity: {specificity.round(3)}')"
   ]
  },
  {
   "cell_type": "code",
   "execution_count": 31,
   "id": "210b77f6",
   "metadata": {
    "scrolled": true
   },
   "outputs": [
    {
     "name": "stdout",
     "output_type": "stream",
     "text": [
      "Model: LogisticRegression\n",
      "Train score: 0.8463196520444952\n",
      "Test Score: 0.8469266002078442\n",
      "\n",
      "Confusion Matrix:\n",
      " [[12375   906]\n",
      " [ 3071  9629]] \n",
      "\n",
      "\n",
      "   CONFUSION    |   Pred. Pos.   |   Pred. Neg.   |                |\n",
      "     MATRIX     |__________________________________________________|\n",
      " Act. Positive  |     12375      |      906       |     0.9318     |  sensitivity   |\n",
      " Act. Negative  |      3071      |      9629      |     0.7582     |  specificity   |\n",
      "                |     0.8012     |     0.914      |     0.8469     |    accuracy    |\n",
      "                |   precision    |neg. pred. value|\n",
      "Process time: 1.15 seconds.\n",
      "1,230 bytes\n",
      "~~~~~~~~~~~~~~~~~~~~~~~~~~~~~~~~~~~~~~~~~~~~~~~~~~~~~~~~~~~~~~~~~~~~~~~~~~~~~~~~\n"
     ]
    }
   ],
   "source": [
    "# multiple classification tests\n",
    "\n",
    "# test_model(LinearRegression(), data)\n",
    "\n",
    "test_list = [    \n",
    "    LogisticRegression()\n",
    "]\n",
    "\n",
    "folder = '../Models/loan_acceptance'\n",
    "\n",
    "# test_model(LogisticRegression(),data)\n",
    "with ProcessPoolExecutor() as executor:\n",
    "\n",
    "    for model in test_list:\n",
    "\n",
    "        try:\n",
    "\n",
    "            test_classification_model(model, data, folder)\n",
    "            \n",
    "\n",
    "            # test_model(SVR(C=1.0, epsilon=0.2), data)\n",
    "        except Exception as e:\n",
    "            print('#'*40)\n",
    "            print('Exception found.')\n",
    "            print(e)\n",
    "            print('#'*40)"
   ]
  },
  {
   "cell_type": "code",
   "execution_count": 32,
   "id": "82fee321",
   "metadata": {
    "scrolled": false
   },
   "outputs": [
    {
     "name": "stdout",
     "output_type": "stream",
     "text": [
      "Model: LogisticRegression\n",
      "Train score: 0.8463196520444952\n",
      "Test Score: 0.8469266002078442\n",
      "\n",
      "Confusion Matrix:\n",
      " [[12375   906]\n",
      " [ 3071  9629]] \n",
      "\n",
      "\n",
      "   CONFUSION    |   Pred. Pos.   |   Pred. Neg.   |                |\n",
      "     MATRIX     |__________________________________________________|\n",
      " Act. Positive  |     12375      |      906       |     0.9318     |  sensitivity   |\n",
      " Act. Negative  |      3071      |      9629      |     0.7582     |  specificity   |\n",
      "                |     0.8012     |     0.914      |     0.8469     |    accuracy    |\n",
      "                |   precision    |neg. pred. value|\n",
      "Process time: 1.43 seconds.\n",
      "1,230 bytes\n",
      "~~~~~~~~~~~~~~~~~~~~~~~~~~~~~~~~~~~~~~~~~~~~~~~~~~~~~~~~~~~~~~~~~~~~~~~~~~~~~~~~\n",
      "Model: RandomForestClassifier\n",
      "Train score: 0.9997562258631529\n",
      "Test Score: 0.9102036103306262\n",
      "\n",
      "Confusion Matrix:\n",
      " [[12025  1256]\n",
      " [ 1077 11623]] \n",
      "\n",
      "\n",
      "   CONFUSION    |   Pred. Pos.   |   Pred. Neg.   |                |\n",
      "     MATRIX     |__________________________________________________|\n",
      " Act. Positive  |     12025      |      1256      |     0.9054     |  sensitivity   |\n",
      " Act. Negative  |      1077      |     11623      |     0.9152     |  specificity   |\n",
      "                |     0.9178     |     0.9025     |     0.9102     |    accuracy    |\n",
      "                |   precision    |neg. pred. value|\n",
      "Process time: 23.32 seconds.\n",
      "143,310,852 bytes\n",
      "~~~~~~~~~~~~~~~~~~~~~~~~~~~~~~~~~~~~~~~~~~~~~~~~~~~~~~~~~~~~~~~~~~~~~~~~~~~~~~~~\n",
      "Model: DecisionTreeClassifier\n",
      "Train score: 0.9997947165163393\n",
      "Test Score: 0.8762942150032716\n",
      "\n",
      "Confusion Matrix:\n",
      " [[11708  1573]\n",
      " [ 1641 11059]] \n",
      "\n",
      "\n",
      "   CONFUSION    |   Pred. Pos.   |   Pred. Neg.   |                |\n",
      "     MATRIX     |__________________________________________________|\n",
      " Act. Positive  |     11708      |      1573      |     0.8816     |  sensitivity   |\n",
      " Act. Negative  |      1641      |     11059      |     0.8708     |  specificity   |\n",
      "                |     0.8771     |     0.8755     |     0.8763     |    accuracy    |\n",
      "                |   precision    |neg. pred. value|\n",
      "Process time: 1.29 seconds.\n",
      "1,330,018 bytes\n",
      "~~~~~~~~~~~~~~~~~~~~~~~~~~~~~~~~~~~~~~~~~~~~~~~~~~~~~~~~~~~~~~~~~~~~~~~~~~~~~~~~\n",
      "Model: KNeighborsClassifier\n",
      "Train score: 0.8854133254641331\n",
      "Test Score: 0.8771409876448174\n",
      "\n",
      "Confusion Matrix:\n",
      " [[12221  1060]\n",
      " [ 2132 10568]] \n",
      "\n",
      "\n",
      "   CONFUSION    |   Pred. Pos.   |   Pred. Neg.   |                |\n",
      "     MATRIX     |__________________________________________________|\n",
      " Act. Positive  |     12221      |      1060      |     0.9202     |  sensitivity   |\n",
      " Act. Negative  |      2132      |     10568      |     0.8321     |  specificity   |\n",
      "                |     0.8515     |     0.9088     |     0.8771     |    accuracy    |\n",
      "                |   precision    |neg. pred. value|\n",
      "Process time: 219.3 seconds.\n",
      "43,959,408 bytes\n",
      "~~~~~~~~~~~~~~~~~~~~~~~~~~~~~~~~~~~~~~~~~~~~~~~~~~~~~~~~~~~~~~~~~~~~~~~~~~~~~~~~\n",
      "Model: RandomForestClassifier\n",
      "Train score: 0.9997433956454241\n",
      "Test Score: 0.9108579346445479\n",
      "\n",
      "Confusion Matrix:\n",
      " [[12037  1244]\n",
      " [ 1072 11628]] \n",
      "\n",
      "\n",
      "   CONFUSION    |   Pred. Pos.   |   Pred. Neg.   |                |\n",
      "     MATRIX     |__________________________________________________|\n",
      " Act. Positive  |     12037      |      1244      |     0.9063     |  sensitivity   |\n",
      " Act. Negative  |      1072      |     11628      |     0.9156     |  specificity   |\n",
      "                |     0.9182     |     0.9034     |     0.9109     |    accuracy    |\n",
      "                |   precision    |neg. pred. value|\n",
      "Process time: 19.04 seconds.\n",
      "143,271,395 bytes\n",
      "~~~~~~~~~~~~~~~~~~~~~~~~~~~~~~~~~~~~~~~~~~~~~~~~~~~~~~~~~~~~~~~~~~~~~~~~~~~~~~~~\n",
      "Model: ExtraTreesClassifier\n",
      "Train score: 0.9997947165163393\n",
      "Test Score: 0.8906508602440245\n",
      "\n",
      "Confusion Matrix:\n",
      " [[11707  1574]\n",
      " [ 1267 11433]] \n",
      "\n",
      "\n",
      "   CONFUSION    |   Pred. Pos.   |   Pred. Neg.   |                |\n",
      "     MATRIX     |__________________________________________________|\n",
      " Act. Positive  |     11707      |      1574      |     0.8815     |  sensitivity   |\n",
      " Act. Negative  |      1267      |     11433      |     0.9002     |  specificity   |\n",
      "                |     0.9023     |     0.879      |     0.8907     |    accuracy    |\n",
      "                |   precision    |neg. pred. value|\n",
      "Process time: 26.2 seconds.\n",
      "364,576,641 bytes\n",
      "~~~~~~~~~~~~~~~~~~~~~~~~~~~~~~~~~~~~~~~~~~~~~~~~~~~~~~~~~~~~~~~~~~~~~~~~~~~~~~~~\n",
      "Model: AdaBoostClassifier\n",
      "Train score: 0.9205424616055734\n",
      "Test Score: 0.9213271236672953\n",
      "\n",
      "Confusion Matrix:\n",
      " [[12318   963]\n",
      " [ 1081 11619]] \n",
      "\n",
      "\n",
      "   CONFUSION    |   Pred. Pos.   |   Pred. Neg.   |                |\n",
      "     MATRIX     |__________________________________________________|\n",
      " Act. Positive  |     12318      |      963       |     0.9275     |  sensitivity   |\n",
      " Act. Negative  |      1081      |     11619      |     0.9149     |  specificity   |\n",
      "                |     0.9193     |     0.9235     |     0.9213     |    accuracy    |\n",
      "                |   precision    |neg. pred. value|\n",
      "Process time: 6.52 seconds.\n",
      "27,511 bytes\n",
      "~~~~~~~~~~~~~~~~~~~~~~~~~~~~~~~~~~~~~~~~~~~~~~~~~~~~~~~~~~~~~~~~~~~~~~~~~~~~~~~~\n",
      "Done!\n"
     ]
    }
   ],
   "source": [
    "# multiple classification tests\n",
    "\n",
    "# test_model(LinearRegression(), data)\n",
    "\n",
    "test_list = [    \n",
    "    LogisticRegression(),\n",
    "    RandomForestClassifier(random_state=1, n_estimators=100),\n",
    "    tree.DecisionTreeClassifier(),\n",
    "    KNeighborsClassifier(n_neighbors = 15),\n",
    "    RandomForestClassifier(),\n",
    "    ExtraTreesClassifier(),\n",
    "    AdaBoostClassifier()\n",
    "]\n",
    "\n",
    "folder = '../Models/loan_acceptance'\n",
    "\n",
    "# test_model(LogisticRegression(),data)\n",
    "with ProcessPoolExecutor() as executor:\n",
    "\n",
    "    for model in test_list:\n",
    "\n",
    "        try:\n",
    "\n",
    "            test_classification_model(model, data, folder)\n",
    "\n",
    "            # test_model(SVR(C=1.0, epsilon=0.2), data)\n",
    "        except Exception as e:\n",
    "            print('#'*40)\n",
    "            print('Exception found.')\n",
    "            print(e)\n",
    "            print('#'*40)\n",
    "    print('Done!')"
   ]
  },
  {
   "cell_type": "markdown",
   "id": "3c1ccaa9",
   "metadata": {},
   "source": [
    "# Pickle Random Forest Classifier or other clf model"
   ]
  },
  {
   "cell_type": "code",
   "execution_count": 33,
   "id": "e5e0c5aa",
   "metadata": {},
   "outputs": [],
   "source": [
    "# filename = '../Models/loan_acceptance_model.sav'\n",
    "# pickle.dump(clf, open(filename, 'wb'))"
   ]
  },
  {
   "cell_type": "code",
   "execution_count": null,
   "id": "980a4e25",
   "metadata": {},
   "outputs": [],
   "source": []
  },
  {
   "cell_type": "code",
   "execution_count": null,
   "id": "627e5702",
   "metadata": {},
   "outputs": [],
   "source": []
  }
 ],
 "metadata": {
  "kernelspec": {
   "display_name": "Python 3 (ipykernel)",
   "language": "python",
   "name": "python3"
  },
  "language_info": {
   "codemirror_mode": {
    "name": "ipython",
    "version": 3
   },
   "file_extension": ".py",
   "mimetype": "text/x-python",
   "name": "python",
   "nbconvert_exporter": "python",
   "pygments_lexer": "ipython3",
   "version": "3.9.7"
  }
 },
 "nbformat": 4,
 "nbformat_minor": 5
}
